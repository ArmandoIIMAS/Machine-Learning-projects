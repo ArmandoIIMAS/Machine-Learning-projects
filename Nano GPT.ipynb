{
 "cells": [
  {
   "cell_type": "code",
   "execution_count": 11,
   "metadata": {},
   "outputs": [],
   "source": [
    "import os\n",
    "import torch \n",
    "import torch.nn as nn\n",
    "from torch.nn import functional as F\n",
    "from torch.utils.data import Dataset, DataLoader\n",
    "from torch.cuda.amp import autocast, GradScaler\n",
    "from torch.optim.lr_scheduler import CosineAnnealingLR\n",
    "from collections import Counter\n",
    "from torchsummary import summary\n",
    "from tokenizers import ByteLevelBPETokenizer\n",
    "from transformers import AutoTokenizer\n",
    "import json\n",
    "import math\n",
    "\n",
    "torch.manual_seed(22)\n",
    "device = torch.device('cuda' if torch.cuda.is_available() else 'cpu')"
   ]
  },
  {
   "cell_type": "code",
   "execution_count": null,
   "metadata": {},
   "outputs": [],
   "source": [
    "#pip install tokenizers transformers #Instalar en caso de ser necesario"
   ]
  },
  {
   "cell_type": "markdown",
   "metadata": {},
   "source": [
    "## Cargar los archivos necesarios"
   ]
  },
  {
   "cell_type": "code",
   "execution_count": 37,
   "metadata": {},
   "outputs": [],
   "source": [
    "file_path = 'all_poems.txt'\n",
    "output_dir = \"tokenizer_spanish_\" ##Crear carpeta para guardar el entrenamiento del Tokenizador\n",
    "# Crea el directorio si no existe\n",
    "#os.makedirs(output_dir, exist_ok=True)"
   ]
  },
  {
   "cell_type": "code",
   "execution_count": 23,
   "metadata": {},
   "outputs": [],
   "source": [
    "# Cargar el tokenizador existente\n",
    "tokenizer = AutoTokenizer.from_pretrained(\"VerificadoProfesional/SaBERT-Spanish-Sentiment-Analysis\")"
   ]
  },
  {
   "cell_type": "code",
   "execution_count": 39,
   "metadata": {},
   "outputs": [],
   "source": [
    "with open('all_poems.txt', 'r', encoding='utf-8') as f:\n",
    "  text = f.readlines()"
   ]
  },
  {
   "cell_type": "markdown",
   "metadata": {},
   "source": [
    "## **Entrenar un tokenizador por subpalabras**"
   ]
  },
  {
   "cell_type": "code",
   "execution_count": 40,
   "metadata": {},
   "outputs": [],
   "source": [
    "# Entrenar un nuevo tokenizador a partir del corpus de entrenamiento\n",
    "new_tokenizer = tokenizer.train_new_from_iterator(text, 5000)"
   ]
  },
  {
   "cell_type": "code",
   "execution_count": 43,
   "metadata": {},
   "outputs": [
    {
     "data": {
      "text/plain": [
       "('tokenizer_spanish_\\\\tokenizer_config.json',\n",
       " 'tokenizer_spanish_\\\\special_tokens_map.json',\n",
       " 'tokenizer_spanish_\\\\vocab.txt',\n",
       " 'tokenizer_spanish_\\\\added_tokens.json',\n",
       " 'tokenizer_spanish_\\\\tokenizer.json')"
      ]
     },
     "execution_count": 43,
     "metadata": {},
     "output_type": "execute_result"
    }
   ],
   "source": [
    "# Guardar el tokenizador completo\n",
    "new_tokenizer.save_pretrained(output_dir)"
   ]
  },
  {
   "cell_type": "code",
   "execution_count": 44,
   "metadata": {},
   "outputs": [
    {
     "name": "stdout",
     "output_type": "stream",
     "text": [
      "{'##nas': 1064, 'esperando': 3627, '##uest': 377, 'respuesta': 4355, 'tambor': 4392, '##ento': 1069, 'confes': 4836, '##cua': 3643, '##zar': 785, 'unos': 1521, 'quieren': 3526, '##gantes': 3435, '##bida': 3849, '##ida': 601, 'fren': 2192, 'cantaba': 4585, 'niña': 1712, 'pueda': 2108, '##uto': 2689, 'ron': 1921, 'semejante': 3307, 'verdadero': 3735, 'ā': 94, '##cias': 783, '##mon': 1013, 'cemen': 4754, 'preci': 1345, 'encierra': 3533, 'aho': 2282, '##cones': 3268, 'exi': 4060, 'fiero': 3222, 'muros': 2541, 'piernas': 3087, 'sabía': 4335, 'reg': 1076, 'había': 1174, 'nosotros': 956, 'sir': 1838, '##tima': 2343, 'tocar': 2884, '##st': 284, 'ciega': 2703, '##rán': 1958, 'acos': 3330, 'cons': 809, 'fuga': 2118, 'saben': 2668, 'irre': 3493, 'bellos': 3698, 'presa': 2851, 'malo': 4704, 'cayó': 3291, '##dos': 255, 'agua': 660, 'turba': 2426, '##vida': 2512, 'pas': 362, 'piel': 1472, 'conten': 1846, 'hasta': 559, 'cuida': 1963, 'extien': 3955, 'lími': 2967, 'fiebre': 3519, '##ces': 326, 'memor': 1118, '##bado': 3239, 'ef': 2736, 'cielos': 1456, 'áng': 1088, 'árboles': 1437, 'cumbres': 4864, 'agrada': 4449, 'seré': 4072, 'cora': 465, 'derrama': 3495, 'hijos': 1725, 'vuestros': 2704, 'gran': 470, '##tin': 844, '##ha': 2265, 'preten': 2888, '##tierro': 4611, 'gritos': 2778, '##arca': 2855, '##dal': 4316, 'secretos': 4150, 'sudor': 2914, 'humanidad': 4713, 'triunfo': 3357, '##reza': 3212, 'desgracia': 3556, 'ausencia': 2136, 'medida': 4140, 'despertar': 2836, 'silencio': 763, 'usted': 3071, '##gores': 4156, 'blando': 3267, 'escuch': 2167, 'gua': 3937, 'jardines': 3232, 'sale': 2656, 'hiere': 4582, 'ade': 1531, 'partido': 4404, '##dme': 1852, 'venir': 2739, 'almen': 3858, 'ru': 537, 'vino': 1249, 'ans': 2123, 'rodillas': 2894, '##con': 3621, '##eso': 2533, '##dén': 2312, '##enas': 1075, 'ansias': 3579, 'jes': 3287, '##i': 129, 'infantes': 4119, 'merce': 4126, 'devora': 4089, '##mbres': 2183, '##iones': 1495, '##lí': 3931, 'inst': 1042, '##tad': 729, '##fer': 942, '##dito': 4770, 'dele': 2753, 'islas': 3825, 'ir': 999, 'bienes': 3850, 'jura': 4396, '##ciado': 4272, 'blanda': 4199, 'natura': 1410, 'melodía': 4069, '##n': 126, 'como': 267, 'besar': 3527, '##ici': 1005, 'bas': 1231, 'lentamente': 3260, 'adán': 3280, 'palmas': 3918, '##al': 210, 'jor': 3798, 'pod': 888, '##gi': 457, 'esta': 378, 'santos': 4252, '##inos': 961, 'afli': 3124, 'aba': 2931, 'resp': 861, '##ciendo': 1092, 'fantasma': 3235, 'verdad': 946, 'mo': 600, '##j': 139, 'moros': 4725, 'beldad': 4410, 'plantas': 2687, 'cadáver': 3137, 'resbal': 4217, 'risas': 4012, 'ã': 75, '‘': 105, '##var': 816, 'anda': 2146, 'es': 203, 'ost': 3650, 'ning': 1276, 'acen': 2277, 'más': 298, 'silen': 631, 'gu': 569, 'eso': 1074, 'n': 47, 'posa': 3950, 'senda': 3160, 'apos': 3916, '##gón': 4540, '##riste': 606, '##icio': 3458, 'ara': 2222, '##ción': 376, '##unda': 1145, 'blanca': 1190, 'batalla': 2618, 'bre': 1517, 'rojo': 2323, 'frío': 1308, 'vientos': 2329, 'cansado': 3180, '•': 110, 'madres': 4510, 'todo': 396, 'retra': 3025, 'ine': 2228, '##lación': 2266, 'due': 1501, '##dora': 3568, 'golondr': 3837, 'podría': 2488, '##rían': 3536, 'mismo': 683, 'mara': 1972, 'podía': 4065, 'verás': 3336, 'fa': 603, 'toca': 2178, '##jadas': 3803, '##dir': 1568, 'amb': 3708, 'raí': 1862, '##ir': 370, 'quejas': 4111, '##mar': 910, 'l': 45, 'madura': 4826, 'incon': 2800, 'tern': 2201, '##gna': 4688, 'andar': 2322, 'desc': 1168, 'imagina': 3766, 'divino': 1975, 'arru': 4250, 'nido': 2138, 'pero': 409, 'seno': 1602, '##ondo': 1215, 'veía': 3487, '##amante': 3807, 'anci': 3228, 'cabeza': 1034, '##eta': 1512, 'sorp': 2480, 'consi': 2416, 'tus': 390, 'adorme': 4357, 'semb': 2232, 'pude': 3821, 'inv': 1217, 'exper': 3449, '##triz': 4220, 'hume': 2842, 'abe': 2756, 'firmamento': 4264, 'torno': 1903, 'ho': 518, '##aba': 491, 'imag': 1936, 'pla': 627, 'tiran': 4551, 'veinte': 3789, '##cti': 4398, 'incluso': 4683, 'paraí': 2364, 'var': 2052, 'medio': 1055, 'tin': 1432, 'ense': 2187, 'infinita': 3305, '##los': 337, 'ruina': 4912, 'quer': 2783, 'pobres': 3105, '##loso': 4384, 'huesos': 2284, '##gios': 3379, '##cado': 936, '##tos': 307, '##tán': 2175, 'lugar': 1149, '##isa': 932, 'dulcemente': 3316, 'nidos': 4482, 'pal': 445, 'deci': 871, 'hablar': 1689, 'infeliz': 4015, 'nocturna': 4557, 'vibra': 3525, '##dia': 962, 'hago': 3973, 'lejan': 2116, 'sí': 724, '##tia': 2691, 'palomas': 2898, 'manto': 2777, 'oculta': 2980, 'tra': 480, 'emo': 3534, 'busco': 3353, 'calle': 1551, 'dejar': 1400, 'vigi': 3026, '##para': 3298, '##éndo': 1713, 'mira': 573, 'sini': 4519, '##tante': 1560, 'bronce': 4263, 'roca': 2647, 'milag': 2666, 'tron': 1947, 'mismos': 2948, 'mul': 2155, 'terrible': 2305, 'canción': 1734, 'ellos': 939, '##aste': 2627, 'asal': 4275, 'dan': 1154, 'fugaz': 3661, 'oli': 2425, 'pulso': 4839, 'senti': 1423, '»': 70, '##adas': 3582, '##do': 200, 'plaza': 3852, 'rega': 4319, '##enos': 3910, '##mbo': 2142, 'alumb': 4325, 'venid': 4796, '##ere': 4000, 'ane': 4986, 'at': 2508, '##io': 383, 'desnu': 979, 'reve': 4718, 'mis': 302, 'deste': 2620, 'ajeno': 4474, 'ase': 3090, 'encar': 3031, 'caballero': 3041, 'veje': 4465, 'empu': 2844, 'noc': 1827, 'permi': 2932, 'satanás': 4921, 'radiante': 4130, 'musa': 4366, 'planta': 2868, 'oh': 501, '##güen': 2683, '##emi': 1211, 'buen': 750, 'enveje': 4228, 'repe': 3008, 'músi': 1356, 'recibir': 4605, '##â': 180, 'copa': 2595, '##tur': 1228, 'esas': 1503, 'nobles': 4517, '##rios': 1768, 'ocul': 1268, 'perfec': 2220, 'espec': 3573, 'dicen': 1932, 'pris': 2106, 'doncella': 3812, 'causa': 2303, '##ciones': 716, '##hel': 2938, '¬': 64, 'igu': 976, 'gigantes': 4965, 'congo': 4563, '##id': 3030, 'bos': 1109, 'casti': 1993, 'áni': 3115, 'capi': 2505, 'mucha': 1497, 'acaba': 2270, '##va': 342, 'cuerpo': 671, 'brillantes': 4556, 'niños': 1759, 'suya': 4082, 'nuevo': 1072, 'flu': 2394, 'cesar': 3788, 'llamo': 4867, 'aspe': 4570, 'pin': 1256, '##osos': 1321, 'aban': 1159, 'nos': 502, 'ros': 768, 'tea': 4908, 'infie': 3977, '##lico': 2585, 'mar': 340, '##ña': 412, 'aca': 4813, 'breve': 1985, 'doble': 3205, 'empeño': 4760, '##ciosa': 3390, 'inocente': 3416, 'mirad': 4254, '##rero': 3583, 'pies': 1112, 'fuese': 2655, 'cá': 3855, 'campes': 3684, 'apren': 2165, 'púrpura': 4242, 'repente': 3631, 'jesús': 4307, 'castillo': 4808, '##ica': 2122, 'eleva': 3981, 'abandonado': 4222, 'mezc': 3965, 'quién': 682, 'esca': 1694, 'arde': 2840, '##ise': 2776, 'noti': 3875, 'euro': 4902, 'fec': 2619, 'distan': 2012, 'fiesta': 2852, 'seguro': 2721, '##onas': 3801, 'amar': 664, 'lejana': 3150, 'prisión': 4610, 'ad': 839, 'llanura': 3400, 'capa': 2744, 'líri': 4782, 'perdona': 4511, 'tr': 819, '##rp': 2803, '##á': 145, '##ñan': 3156, 'costa': 4125, 'vienen': 2448, 'nuestro': 954, 'turb': 2421, '##for': 2527, '##dido': 667, '##dí': 1604, '##ie': 225, '##lando': 1083, '##mbros': 3667, '##tial': 2396, 'hielo': 2605, 'infor': 4389, '##ada': 635, '##ves': 708, 'caf': 4320, '##car': 590, 'leer': 4548, 'pecado': 2856, 'segura': 3920, 'postr': 3885, 'ë': 81, 'fuiste': 2517, '##ano': 498, '##gí': 4615, '##ó': 144, 'hen': 3320, 'nu': 680, 'conocer': 2792, 'grises': 4558, 'ja': 1397, '##ieran': 3032, 'vence': 2924, 'medi': 1719, 'posible': 2418, '##nio': 3909, 'lle': 424, '##iertos': 2046, 'mien': 740, 'lenguas': 4161, 'dia': 3271, 'venas': 2298, '##danza': 4603, 'señ': 654, 'refu': 4010, '##¬': 176, 'sen': 438, 'blanco': 1388, 'tormento': 2943, 'terror': 4031, '##lados': 2177, 'escon': 1353, 'quin': 3743, 'razón': 1528, 'aquél': 3368, '##dado': 1325, 'rincón': 3520, 'solitaria': 3632, 'sitio': 2053, 'so': 269, '##ecido': 4538, 'impa': 4487, 'sus': 281, '##anza': 2340, 'verdes': 1848, 'dec': 2168, '##ctor': 1855, '##dición': 3952, 'arras': 1673, 'estatua': 4094, 'š': 96, 'colinas': 3979, 'guer': 1210, 'mue': 841, 'naci': 2212, 'paisa': 2613, 'soberano': 4078, 'lejos': 921, 'pocos': 4215, ',': 13, 'pues': 538, 'condena': 4768, 'veces': 894, '##dá': 2737, 'llegado': 2718, 'pena': 1137, 'remo': 2028, '##iles': 4169, '##mida': 2823, '##re': 206, 'coro': 2867, 'cé': 3828, 'excla': 3655, 'ámb': 3857, 'ocas': 3721, 'ló': 4922, 'famil': 4302, 'fueron': 1433, 'tre': 1559, 'asom': 3913, '##deras': 2074, 'tristes': 1835, '##pul': 1138, 'cáli': 2126, 'maravillos': 4495, '##fi': 488, '##ientos': 1239, '##cientes': 3380, '##mor': 560, '4': 21, 'hecha': 3091, 'mani': 3745, 'respi': 2850, 'sollo': 2407, 'vierte': 4654, 'cubri': 3189, 'descon': 2869, 'dientes': 2129, 'exce': 3644, 'alegres': 3599, 'cereb': 4281, 'haz': 2131, 'familia': 4308, 'ta': 534, '##migo': 1785, 'gan': 1820, 'bro': 1347, 'secreta': 4221, '##cados': 2390, '&': 7, '##tigo': 1131, 'confi': 2628, 'era': 588, 'pasión': 1842, 'dormi': 1058, 'servi': 2269, 'eter': 720, 'in': 247, 'inter': 1097, 'huye': 2614, '##cé': 1746, 'recon': 4578, 'afuera': 3685, '##jado': 1887, '##demos': 2997, 'sube': 2504, 'pañ': 4056, 'historia': 1454, 'ciego': 1988, 'a': 34, 'criatura': 3926, 'amorosa': 4273, 'desierta': 4381, 'pe': 374, 'vol': 578, 'amable': 4932, '##nos': 808, 'daba': 3842, 'engaño': 3824, '##º': 162, 'ū': 97, 'amarilla': 4360, 'dedos': 1762, '##ver': 506, 'deja': 1006, '##risa': 903, 'perse': 3552, 'prome': 2553, 'dé': 1297, 'en': 197, 'ensueño': 3111, 'luces': 1810, '##q': 130, 'multitud': 4899, '##zado': 1485, 'música': 1567, '##taste': 4694, 'frágil': 3893, 'relámpa': 2930, 'virgen': 1911, '##fos': 4741, 'ore': 3676, 'bellas': 3179, 'pie': 521, 'sola': 862, '##w': 157, 'cristales': 3589, 'deli': 1164, 'llama': 886, 'tan': 325, 'crepúsculo': 3359, 'humo': 1997, 'mando': 4739, 'pob': 4634, 'dios': 493, 'mesa': 2664, 'rostro': 975, '##éndome': 3996, '##che': 380, '##ar': 202, '##lera': 1779, 'importa': 2369, 'bajo': 616, '##zas': 686, '\"': 6, 'miré': 4883, 'mortales': 3626, '##ones': 398, '##el': 289, 'arro': 1003, 'm': 46, 'pudi': 4576, 'solo': 727, 'herm': 1590, 'soplo': 2531, '##zada': 2092, '##ría': 586, '##ela': 4783, '##iente': 554, 'tú': 411, 'recién': 3590, '##trás': 1280, '##gé': 4457, '##ome': 1371, 'alegre': 1569, 'deseos': 2934, 'frances': 3749, 'ne': 870, 'pequeño': 2196, 'vergüenza': 3467, 'supli': 4894, 'si': 254, 'enojos': 4763, '##dea': 2768, 'ay': 639, 'entra': 1185, 'pref': 4469, '##que': 273, 'quietud': 3687, 'amores': 1593, '##dil': 4769, '##cios': 1162, '.': 15, 'caballo': 1933, 'codi': 4439, 'encuentra': 2969, 'distancia': 2722, 'riqueza': 4762, 'dilu': 4771, 'inta': 4364, 'marchi': 4174, 'águi': 2765, '##cando': 1480, 'abor': 3611, 'comp': 743, 'hombre': 642, 'ocur': 4134, 'ayer': 1610, 'ala': 1655, 'romp': 4338, 'viene': 1431, '##ion': 2133, '##tio': 1605, 'conven': 3756, 'cor': 403, 'negro': 1283, '##uma': 1184, '##centes': 4620, 'piedad': 2014, '##inero': 2352, 'temo': 4567, 'sob': 4172, '##tón': 1678, 'mom': 1442, '##da': 204, 'ilumina': 2623, 'supo': 4542, 'adelante': 3234, 'cuer': 552, 'tuve': 3483, 'tirano': 4045, 'na': 330, 'hierba': 2309, 'descu': 1635, '##dro': 1934, '##ándo': 1121, '##tina': 2001, 'claro': 1623, 'd': 37, 'arma': 2709, 'esto': 646, '##quier': 1350, 'h': 41, 'lej': 1776, 'siente': 2026, 'conta': 3499, 'está': 543, 'justi': 2663, 'les': 1090, 'suspiros': 2892, 'jam': 1225, 'invisible': 3151, 'obli': 2615, 'rey': 925, 'transfor': 3961, 'primeros': 4949, '##gra': 765, 'ventura': 2452, 'compar': 4372, '##raba': 4498, 'acu': 1619, ')': 10, 'puedo': 1275, 'ces': 2348, 'altura': 2643, 'dora': 2575, 'pétalos': 4244, 'consu': 2616, 'invo': 4746, 'eran': 1670, '##onse': 4294, 'llegue': 4216, 'querer': 1889, 'puse': 4919, 'ves': 938, '##san': 2112, 'abru': 4678, '##bri': 1179, 'murió': 2604, 'alre': 3056, 'templo': 2319, 'fiel': 2332, '##ñado': 1996, 'cli': 4765, 'dormida': 3566, 'tro': 1188, 'ena': 4458, 'total': 4214, 'esper': 4887, 'lucero': 3729, '##yen': 2286, 'nacimiento': 4532, '##ién': 467, '##lora': 4981, '##diente': 3722, '##mura': 3689, '؛': 100, 'humana': 1969, 'espu': 3099, 'hueso': 4966, '##mb': 311, '―': 104, '##ia': 319, '##mentos': 1750, 'q': 50, 'serpiente': 3182, 'querido': 2590, 'visión': 3070, 'abandon': 1300, 'cír': 2649, '##mne': 3104, 'defen': 3417, 'gust': 3168, 'círculo': 3580, '##pados': 2378, '##gü': 1954, '##sa': 401, 'pasos': 1864, '##vuel': 1439, '##mantes': 4682, '2': 19, 'eleg': 2921, 'silenci': 1860, 'suspen': 2646, 'antiguo': 3200, 'ruido': 2219, 'capri': 4628, 'avi': 2441, 'cama': 2242, 're': 241, 'ejército': 4559, 'acá': 4911, 'queda': 1129, 'fin': 574, '##k': 155, 'atravi': 4258, '##éri': 1488, 'entreab': 4003, 'los': 222, '##chado': 2757, 'modo': 1550, '##ura': 433, '=': 29, 'encendida': 4204, '##ciar': 3540, 'gob': 4234, 'transparente': 3329, '##gas': 662, 'pat': 1279, '##cen': 414, 'mej': 891, 'agra': 1825, 'mares': 1919, 'hermoso': 2022, 'hice': 4218, 'inse': 3542, '##cenas': 4662, 'circ': 3943, '##alo': 2642, 'ninguno': 3223, '##tró': 3426, 'ima': 1119, 'sabor': 2808, 'lloro': 3250, 'emoción': 4849, 'man': 331, '##ç': 161, 'doña': 4282, '##iende': 4269, 'sólo': 593, 'abrió': 4494, 'libro': 2459, 'hondo': 2160, 'ira': 2764, 'cuidado': 2728, 'hermos': 726, 'vuest': 826, 'ali': 1592, 'só': 575, 'tranquilo': 3567, '##ági': 1857, 'dorado': 3674, 'ajena': 4129, 'all': 545, 'mundos': 3637, '##é': 124, 'creador': 4326, 'padres': 3543, 'plomo': 4996, '##gos': 645, 'reco': 1563, 'universal': 4895, 'caña': 4248, 'dicha': 1664, 'ì': 82, '##î': 166, 'cortes': 4075, 'quedó': 2254, 'reti': 2754, 'j': 43, 'tuv': 3213, '##gancia': 3732, '##miente': 4817, 'c': 36, '##cion': 2544, 'aspi': 4467, 'estra': 4334, 'pár': 2387, 'valencia': 4579, 'come': 3074, '##ancia': 1680, '##iendo': 515, 'can': 373, 'armas': 2304, 'peque': 1133, 'lento': 2809, 'vienes': 4962, 'descubri': 4339, 'barba': 3555, 'dura': 1415, 'materia': 3164, 'guitarra': 4975, '##ño': 354, '##aría': 4187, '##ñe': 2081, 'apla': 3472, 'altos': 3951, 'fatal': 3352, '##ísimos': 4946, 'cárcel': 4223, 'gente': 1428, 'estu': 1343, 'izquier': 4425, '##dra': 854, '##guido': 3470, 'envidi': 4238, 'menti': 2372, 'caliente': 3412, 'corta': 3848, 'notas': 4333, 'reme': 2839, 'seas': 4460, 'olas': 1546, '##laje': 3569, 'escucha': 1773, 'k': 44, 'suerte': 1541, 'amoroso': 3912, 'huracán': 4647, '##llan': 1238, 'duer': 1286, 'profun': 3279, 'todavía': 1320, '##cis': 4055, '##jados': 3273, 'hala': 3317, '##9': 151, '##ibles': 2937, 'nave': 2218, '##én': 359, '##ución': 4070, 'dieron': 3719, 'eri': 3508, 'ciudades': 2910, 'escondido': 4734, '##eron': 905, 'hacia': 665, 'poe': 897, 'tenue': 4142, 'ellas': 1460, '²': 65, '##ierto': 867, 'fieras': 4341, 'mir': 3057, 'mon': 577, 'pedazos': 3797, '##stru': 1845, 'abajo': 2031, 'llorar': 1614, 'melo': 2813, 'cantando': 2366, 'queja': 3724, 'secreto': 1883, 'universo': 2460, 'ven': 372, 'verti': 4677, 'via': 1440, '##orado': 1683, '##mbra': 1126, '##ética': 4925, 'hacía': 3202, 'poesía': 1290, 'ánimo': 4648, '##donos': 4622, 'hacen': 2181, 'jard': 1250, 'mía': 901, 'esplén': 4035, 'echar': 4344, 'him': 3975, '##tiene': 2159, '##tismo': 4969, 'entero': 3100, '##pó': 3755, 'fue': 356, 'mostrar': 4838, 'movi': 1786, 'recuer': 838, 'escalera': 4809, 'ga': 1385, '##undos': 2156, '##ye': 1068, 'astros': 2310, '##aros': 4689, '##zaba': 3323, '##tinas': 4266, '##²': 183, '##ér': 834, 'adoles': 4758, 'buscan': 4552, 'desventura': 4822, 'ide': 1526, '!': 5, 'cuen': 1248, 'joven': 1481, 'junto': 1061, 'levanta': 2102, 'pis': 1977, 'der': 927, 'pueb': 984, 'sed': 1257, 'he': 402, 'sombrío': 2911, 'larga': 1781, 'toma': 2610, '##tran': 1905, 'tren': 1951, 'vuelto': 2925, '##per': 971, '##zco': 1893, 'bueno': 2503, 'dijo': 1000, 'abren': 4522, 'quede': 4788, 'desple': 4989, 'libertad': 1615, 'suena': 3331, 'volando': 3991, 'altar': 2805, '##lus': 1255, '##vios': 3988, 'reloj': 3635, 'viejo': 1394, '##gua': 858, '##rado': 685, '##pas': 1108, 'inquie': 2189, 't': 53, 'pali': 4499, '##itos': 2320, 'pregunta': 3714, '##gados': 1981, 'valles': 3451, '##manos': 2048, '##dente': 1761, 'ard': 1050, 'oriente': 2799, '##amente': 4136, '##cie': 2097, '##aras': 4039, 'perdido': 1469, '##fica': 2132, 'hijo': 1246, 'recuerdo': 1170, 'enton': 759, 'furia': 3338, 'olvidado': 3513, 'atre': 2077, 'alto': 1334, 'cab': 456, 'ojos': 422, '##bajo': 1048, 'descan': 1878, 'caball': 1967, 'excel': 4698, '##lea': 2235, 'fá': 1717, 'cr': 1191, 'goz': 4303, 'sagrada': 4625, 'testigo': 4640, 'verdu': 4298, 'ref': 1045, 'miel': 2450, '##duras': 3093, '##idad': 641, '##ror': 1214, '##didas': 1898, '##ída': 4877, 'serán': 3122, '##tis': 1657, 'claridad': 2859, '##l': 125, 'muel': 4740, 'sol': 358, 'prínci': 4132, 'f': 39, 'piados': 3444, '##aré': 4246, '##di': 250, 'encendido': 4529, 'tendr': 4143, 'origen': 4992, '##có': 1346, 'ambi': 3238, 'pos': 820, 'tu': 234, 'fi': 661, '##rores': 4539, 'velas': 4067, '##quis': 2675, '##tré': 3559, 'ignoran': 4781, 'hierro': 2440, 'quiero': 777, 'olvidar': 2447, 'amor': 336, 'llamado': 4581, 'vuela': 2625, '##mando': 1892, '##ñó': 4229, 'esc': 486, '##mi': 345, 'cualquiera': 3574, 'horiz': 1780, 'olor': 1562, 'estreme': 2300, 'pronto': 1180, 'movimiento': 3040, '##ris': 352, 'má': 3126, '##cida': 1059, '##gué': 3469, 'cuerpos': 2117, '##ú': 141, 'lenta': 3452, 'tanta': 1640, 'justo': 2420, 'pue': 335, 'cari': 1370, 'llenos': 3701, '##leta': 4043, 'sal': 436, '##tual': 3394, 'dur': 3504, '##vera': 1202, 'sustan': 4693, 'morib': 4525, 'simple': 3369, 'corriente': 2712, '##inta': 4928, 'arr': 2933, 'madera': 3448, 'misterioso': 4032, 'prision': 4589, 'mujer': 736, 'mez': 1995, 'conste': 4832, 'sa': 549, 'sueño': 678, '##mul': 1628, '##dores': 1037, 'espalda': 2708, 'comba': 1913, 'subir': 3600, '##ala': 1608, '##tera': 1489, 'lá': 792, 'respondió': 4504, 'plata': 1935, 'ar': 296, 'plegar': 4243, 'esperar': 3051, 'ti': 430, '##bla': 1386, 'esposa': 2747, 'estaba': 1115, 'plu': 1352, 'criaturas': 4642, 'afán': 2404, '##sos': 849, 'desespera': 3062, 'lí': 1136, '##dán': 3201, '##ina': 394, '##uela': 1467, 'ani': 1157, 'contrario': 4729, 'brin': 2419, '##ciencia': 1834, '##one': 3523, 'hie': 1627, 'infancia': 3194, 'mendi': 3276, '##úd': 3690, 'puñ': 3779, 'árb': 821, 'hermosa': 1359, 'yo': 317, 'cuento': 3901, 'lar': 847, 'segun': 4363, 'sie': 1823, 'yu': 3791, 'campana': 3512, 'tierna': 2749, '##cencia': 2256, 'espes': 3954, 'respe': 2963, 'tur': 1616, 'gargan': 2285, 'abril': 3454, 'blancos': 2443, 'dich': 2127, 'miro': 1931, '##vó': 4091, '##ques': 2363, '##ā': 160, 'aquella': 1056, 'eterna': 1389, 'torres': 3069, '##dante': 4858, '[SEP]': 4, 'espe': 572, '##mpe': 4270, 'ī': 95, 'envol': 3830, 'vege': 4749, 'continu': 3072, '##úcar': 4541, '##ario': 1292, 'dif': 2346, 'inmóvil': 2793, 'ondas': 1956, 'is': 1598, 'hue': 945, 'aire': 721, 'firme': 2335, '##ita': 860, 'trist': 1695, '##íos': 1213, 'relá': 2923, 'fal': 885, 'dig': 1986, 'ej': 3211, 'hunde': 4607, 'sac': 1850, 'vuelvo': 3278, 'prue': 3161, '##cita': 3175, '##iosa': 1868, 'sober': 2897, 'val': 698, 'contigo': 1886, 'creo': 2191, 'dinero': 3166, 'inj': 4462, 'truen': 3303, '##cu': 316, 'cada': 718, 'lluvia': 1253, 'relámpago': 3892, 'desvan': 3346, 'hermosas': 4553, 'naran': 4635, '##zos': 693, 'haber': 1453, 'murmura': 4179, 'belleza': 1492, 'esclavo': 4972, 'hé': 2810, 'jue': 2025, 'rec': 522, '##ja': 347, '##ándote': 3713, 'quizás': 2713, 'pelig': 2633, 'tendido': 4571, '##fal': 3754, 'rom': 987, 'paloma': 2500, 'inú': 2059, '##ables': 2743, '##ber': 706, 'canto': 1010, 'llena': 1435, 'media': 3058, 'rob': 3420, 'pone': 2631, '##risas': 3348, '##quiera': 1473, 'tré': 2650, 'eje': 2555, 'pureza': 4049, 'acuer': 3258, 'caso': 4048, 'fron': 2244, 'instante': 1443, 'risue': 3456, '*': 11, '##u': 131, 'crepús': 2752, '##il': 1461, 'pastor': 2594, 'suje': 3270, 'acero': 2952, 'admira': 3924, 'caen': 3447, '##os': 186, '##tá': 3022, '…': 111, '##ñosa': 4292, 'otro': 657, 'humil': 1824, '##gado': 931, 'é': 79, 'besa': 3598, '##mbri': 4720, 'guerra': 1586, 'horror': 3000, 'indiferente': 3902, '##áli': 1554, '##uena': 2213, 'col': 804, 'sue': 459, '##tivos': 3033, 'míos': 3068, 'resplande': 4759, 'az': 640, '##bido': 2516, '##ito': 981, '##mó': 1150, '##sal': 3930, '##ben': 4924, 'equi': 3112, '##yeron': 3481, '##enta': 1585, 'corriendo': 4418, '##lá': 2121, 'corte': 2327, 'mujeres': 1778, '##iemp': 361, 'adiv': 3904, 'encan': 1462, 'inven': 2462, 'p': 49, 'profundo': 1675, 'balcón': 4448, '##tor': 503, '##citos': 4631, 'año': 1976, 'carro': 3102, 'esco': 3174, 'golpes': 4393, 'gigante': 4835, 'sabe': 978, '##sf': 4311, 'iii': 3251, 'imá': 3771, 'ch': 688, 'ins': 960, 'trági': 4535, '##az': 3445, 'fui': 1625, 'bu': 1904, 'tierra': 475, 'derra': 1676, 'cele': 3296, '##tado': 638, 'hijas': 3422, 'bendi': 1853, 'oto': 1937, '##chos': 848, 'quizá': 2467, '##ablo': 3431, '##ció': 1236, 'otros': 990, 'volun': 2062, 'vamos': 2677, '##ulas': 4192, '##ecto': 2759, 'sombras': 1187, 'mag': 1918, '##zando': 2013, 'cuán': 879, 'torna': 4005, '##arán': 4927, 'lib': 1134, 'bocas': 3511, '##mulo': 4127, '‚': 107, '3': 20, '##cidente': 4318, 'aires': 3086, '##ien': 223, '##tura': 585, 'cumbre': 2644, '”': 109, '##pli': 4314, '##gaban': 4878, 'ín': 2525, 'pensando': 3415, 'muro': 2431, '##illa': 4860, 'goza': 4159, 'cruzar': 4149, 'or': 791, 'infin': 1205, 'magn': 3578, '##cur': 1479, 'com': 244, 'rigor': 4146, 'cres': 4330, '##sas': 1542, 'asombro': 4761, 'bata': 2182, 'fortuna': 2367, 'pro': 400, '##rante': 1169, 'vago': 3459, 'vendrá': 3956, 'verso': 2439, 'esti': 1806, '##reo': 3376, 'interior': 3148, '##tr': 813, 'miraba': 3782, 'muertas': 3863, 'empe': 2157, 'llu': 1128, 'contemp': 1197, '##mas': 386, 'corona': 2185, 'hermano': 2413, 'relu': 3510, 'ofre': 1516, '##ual': 4378, '##arse': 2296, 'deso': 2470, 'of': 1030, 'jardín': 1584, 'doce': 4664, 'elo': 4820, 'campanas': 3243, 'paraíso': 2482, 'atra': 1513, '##tar': 351, '##un': 236, '##entas': 4926, 'abierta': 2700, 'fil': 3699, 'flecha': 4077, 'vergüen': 3314, '##les': 365, 'manos': 663, '##blas': 2064, 'ligera': 3440, 'caracol': 4583, '##t': 121, '##pi': 350, '##bes': 1049, 'alguno': 3221, 'miser': 2291, '##vada': 2572, 'estará': 4837, 'conmigo': 1792, 'dormido': 2603, '##si': 444, '##lla': 367, 'cose': 4893, 'escudo': 3939, 'quería': 3006, 'estado': 2408, 'repi': 2922, '##ecen': 4456, 'tales': 2900, 'incl': 1830, 'mur': 1617, 'rostros': 2693, '##raron': 3819, 'rumbo': 4176, \"'\": 8, '##tida': 1527, 'dice': 1144, 'flo': 1564, 'plie': 4530, '##ús': 1630, '##mal': 4170, '##cab': 4428, '##rom': 4903, 'enemigo': 2640, 'inmensa': 2466, 'regi': 2442, 'satisfe': 4626, 'espal': 1987, '##um': 2032, 'ï': 85, 'triunf': 2583, '##rión': 3407, 'ahí': 2384, 'quis': 1053, '##nado': 3423, 'neg': 651, 'despl': 3917, 'mad': 1902, 'celos': 3181, 'desve': 4478, 'espadas': 4491, 'donce': 2814, '##tica': 1555, 'avar': 4536, 'entera': 2896, 'luto': 3911, 'hormi': 4636, 'tej': 3313, 'princesa': 4629, 'pl': 1577, '##erable': 3935, '##par': 957, '##ís': 1139, 'cuenta': 2330, 'hoguera': 4388, 'sar': 3309, '##zana': 4293, 'valor': 2457, 'campos': 2003, 'oscure': 4352, '##iosas': 4400, 'final': 2047, 'dulz': 2225, 'pene': 2250, 'poder': 989, '##laba': 2188, 'hun': 1677, 'mezcla': 4013, 'vacía': 4368, 'fras': 4854, '##chan': 4632, 'frente': 728, 'hur': 4386, 'puerta': 1165, 'nueve': 4868, '##cí': 2271, 'diamante': 3878, '##ust': 4767, 'estamos': 2733, '##tía': 1877, 'multi': 4395, 'poniente': 4915, 'ami': 972, 'úni': 1434, '##eto': 4671, 'rosas': 1251, 'soñar': 3199, 'sufrir': 3870, 'au': 767, '##rió': 4544, 'laure': 2962, 'mer': 1295, 'nuest': 479, 'caída': 3262, 'semi': 2955, 'contra': 836, 'perfume': 2336, '##mino': 3551, 'noctur': 1854, '##min': 853, 'os': 505, 'aspecto': 4920, 'victoria': 3059, 'simp': 2637, 'comun': 3640, 'cuar': 1797, 'del': 228, '##ío': 384, 'bosque': 1259, 'loco': 2344, 'bes': 653, 'cruel': 2149, 'repos': 4726, 'tenemos': 4233, '##gin': 2864, 'grano': 4701, 'hu': 404, 'cabel': 1161, 'ido': 2576, 'ten': 425, 'pé': 2673, 'amena': 3378, 'ju': 684, 'ter': 623, 'vía': 4135, 'recha': 4956, 'anhe': 2002, 'celeste': 2582, 'pupila': 4898, 'colo': 2949, 'y': 58, 'entrañas': 2589, 'ayuda': 4148, 'div': 899, 'luceros': 4521, 'yer': 1583, '##zón': 448, 'vesti': 4123, 'diste': 4006, 'impos': 2386, 'aromas': 4518, 'gol': 1021, 'ator': 4265, 'limpio': 4359, 'fu': 594, 'sonri': 2989, 'clara': 1811, 'cente': 3371, 'sepulcro': 3358, 'venus': 4026, 'compren': 1765, 'encier': 3005, '##uelos': 2635, 'adora': 2953, 'corri': 1506, 'imp': 524, 'aqu': 565, 'seco': 3742, '##sado': 4679, 'imágenes': 3790, '##culo': 1414, '##mes': 1408, 'sub': 1103, 'trabajo': 2318, '##vias': 4568, 'us': 3310, '##ias': 1002, 'invi': 3971, 'cristal': 1396, 'ternura': 2354, 'oc': 3089, 'juven': 1706, 'tanto': 711, '##utas': 4786, '##ban': 779, 'pel': 1654, 'reyes': 3465, 'viento': 644, 'reli': 3802, 'delicada': 4757, 'tumbas': 4564, 'duda': 2231, '##pira': 1556, 'muslos': 4810, '##ra': 191, 'há': 4184, 'doliente': 3319, 'va': 428, 'corre': 1665, 'francia': 3794, 'roma': 4290, 'rab': 2984, '##uro': 2526, 'er': 1066, 'ges': 2086, '##sti': 1018, 'i': 42, 'negra': 1538, 'seda': 2597, '##manas': 2889, 'consuelo': 2958, '##leo': 3691, '##pes': 2239, 'inclina': 3479, 'mé': 4016, 'palabra': 1216, '##miento': 636, 'sospe': 4394, 'con': 217, 'aman': 1651, 'agu': 482, 'divi': 4232, 'embargo': 2033, 'pasa': 1043, 'animales': 3507, 'cuándo': 2927, 'fel': 1004, 'león': 3142, 'hilo': 4485, 'cinco': 2694, '##torio': 3546, 'mura': 4297, 'menos': 1047, '##go': 265, '##zones': 1897, 'inclin': 4508, 'inútil': 2370, '##onte': 1724, '##ró': 1301, '##jer': 610, 'asi': 4044, 'mu': 303, 'leche': 4093, 'océ': 2895, 'yugo': 4735, 'yace': 3143, '##dio': 675, '##vido': 3076, 'sang': 4621, 'ceñ': 2711, 'arreba': 2761, '##gaba': 2557, 'hero': 3592, 'hambre': 2509, 'orgullos': 4181, 'llamar': 2678, 'fija': 4097, 'hija': 2908, 'rayos': 2099, 'castigo': 3936, '##osas': 528, 'llaman': 4007, '##usti': 2079, 'bestia': 4602, 'miran': 3377, 'regres': 1957, 'vuestro': 1699, 'ligero': 4034, 'fo': 2130, 'colum': 4121, 'enciende': 4268, 'fran': 1447, '##jes': 1099, '##jo': 313, '##tamente': 1444, '##uesta': 2083, 'digna': 4780, 'poco': 980, 'norte': 3308, 'sangre': 699, 'triste': 624, 'hier': 1052, 'cambio': 3248, 'estar': 1082, '##bles': 947, '##tea': 2946, 'pi': 608, 'sean': 3392, '##za': 277, 'esfuer': 3688, 'gotas': 4337, 'cul': 1478, 'ner': 3509, 'entraña': 4872, 'señor': 859, 'tierras': 2478, 'iba': 1910, 'empera': 3169, 'ritmo': 3020, '##ale': 3541, 'lán': 3949, '##úbi': 2082, '##timo': 4189, 'derru': 4415, 'esté': 3393, 'silencios': 3806, 'debo': 3843, 'cuya': 1943, 'enf': 2227, 'famili': 4831, '0': 17, 'roldán': 3704, 'olvi': 722, 'igno': 2561, 'î': 84, 'contemplo': 4639, 'conce': 2476, 'franceses': 4650, 'pren': 1894, '##jaba': 3968, 'están': 1067, 'fría': 1989, 'llevó': 4507, 'avan': 2210, '##usias': 4695, '##om': 216, 'gre': 3675, '##nal': 1930, 'cansa': 1802, 'suce': 3138, '¿': 71, 'limp': 1876, 'misteriosa': 4778, 'lú': 2996, '##quí': 4466, '##ñar': 3792, 'nuestras': 1476, '##len': 393, 'costumbre': 4712, 'ce': 776, 'puesto': 2089, '##rá': 656, '##ieron': 970, 'ansi': 2152, 'ú': 91, 'ropa': 3563, 'celes': 1421, '##tada': 982, 'cur': 2041, 'gor': 2920, 'calor': 2194, 'naturaleza': 2331, 'entonces': 790, '##mero': 1337, 'estre': 589, 'estrella': 1176, 'ver': 334, '##gencia': 4200, 'fruto': 2043, 'montaña': 2145, 'pasan': 2701, '##as': 189, '##cidad': 4616, 'adiós': 1787, 'ador': 1391, 'separa': 4033, 'barca': 3822, 'enc': 692, 'errante': 3356, 'haga': 3544, 'mano': 643, 'revol': 3484, 'desper': 1653, 'duerme': 1891, 'orgullo': 2672, 'his': 1186, '##ca': 245, '##ór': 2569, 'espa': 855, 'termin': 3381, 'arriba': 1914, 'formas': 2659, 'llo': 744, 'acaso': 1260, 'may': 1344, 'deses': 2446, 'ag': 1307, 'lloran': 4162, '##usa': 1652, '##remos': 2341, 'apres': 3203, 'entusias': 4772, 'muchacha': 3686, '##bel': 1671, 'bur': 1766, 'crea': 1833, 'todos': 563, '##ompa': 1826, '##cil': 1595, 'debajo': 2435, 'camino': 913, 'ofren': 4870, 'enre': 3446, 'prop': 1524, 'redu': 3970, '##quen': 4116, 'clas': 4814, 'cuchi': 3524, 'muerta': 2273, 'pájar': 967, '##cara': 2461, 'responde': 2970, 'pálido': 2981, '##bu': 1252, 'acor': 2501, 'natural': 3715, 'vivos': 3237, 'devo': 3679, '##gan': 658, 'entrar': 2790, 'desnudo': 2144, 'ceniza': 2816, '##ib': 2742, '##ur': 840, 'ing': 4745, 'resplan': 1613, '##us': 323, '##³': 184, 'me': 238, 'murmu': 4641, 'pereg': 2755, 'prima': 1240, 'sombría': 3300, 'basta': 2817, 'árbol': 827, 'muest': 2151, '1': 18, 'ba': 391, 'siempre': 547, 'vos': 1381, 'han': 866, '##lares': 3257, 'llevar': 2094, '##no': 462, '##vas': 852, '##esta': 1571, 'canta': 1163, 'enamora': 4052, 'término': 4226, 'creer': 3424, '##pa': 355, '##taron': 2259, 'edad': 1741, 'gas': 2173, '9': 26, 'ago': 2524, 'acer': 1106, 'pagar': 4907, 'sobe': 2485, '##gadas': 2788, 'ángeles': 2103, 'an': 301, 'bello': 2042, 'quie': 1539, 'derro': 3125, '##tano': 4197, 'única': 2261, 'perfuma': 3355, 'obe': 3522, '##lidad': 2084, 'extrañas': 4805, 'for': 633, 'verla': 4676, '##guera': 3588, 'rep': 745, 'acar': 2423, 'sentí': 3501, 'límites': 4452, 'temb': 1313, 'anhel': 3255, '##luso': 4528, '##iza': 1784, 'rota': 4028, 'viol': 1299, 'viendo': 2564, '##ū': 159, 'cu': 249, 'lumin': 2358, 'ás': 2731, 'destro': 3831, 'solitario': 2960, '##quinas': 4751, 'qui': 1548, '##cible': 2784, '##lia': 3678, 'hi': 476, 'ná': 2945, 'fra': 1218, 'mueren': 4277, 'existencia': 2444, 'huerto': 4590, '##jar': 583, 'camin': 2085, 'espan': 2383, 'escribir': 3339, 'fama': 2977, 'pelo': 2260, '##bol': 4155, 'espíritu': 1081, 'est': 280, 'miserable': 4888, 'lengua': 1380, 'espero': 3666, 'pequeños': 4685, 'adver': 4100, 'zapa': 3673, '##lones': 2474, 'obst': 3354, '##chi': 1417, 'curva': 4588, 'fatiga': 3925, 'peren': 4601, 'atro': 4476, 'encuentro': 2392, 'subli': 3206, 'edi': 4133, 'paz': 1153, 'acerca': 3466, 'luna': 770, '##uego': 753, '##éspe': 3397, 'feroz': 4225, 'eva': 2688, 'líne': 2860, '##drá': 1874, '##té': 1416, 'descanso': 3903, '##lena': 4437, '##gen': 602, 'escal': 2243, 'bandera': 2928, '##cula': 4382, '##lado': 893, 'ayu': 4892, 'ganado': 4952, 'ô': 89, 'creación': 4180, 'barcos': 4961, 'callado': 4702, 'consejo': 4205, '##pto': 3388, 'agita': 3995, 'vidrio': 4644, '##rea': 3325, '##ufra': 2812, 'atrás': 2445, 'dó': 3443, 'ejer': 4901, 'vivas': 4271, '##gor': 1358, '##ter': 385, '##terio': 3489, '##ido': 525, 'arti': 3167, 'clamor': 3477, 'enorme': 3129, 'gar': 1242, 'here': 3883, 'alu': 1788, 'juego': 3360, 'mayor': 1645, 'torrente': 4301, 'bastante': 4709, '##mpo': 2255, 'flechas': 4970, '##tres': 4377, '##gun': 933, 'lirio': 3363, 'tienes': 1829, 'relo': 3007, 'cigar': 3780, '##mido': 2885, 'américa': 3758, '##las': 333, 'cubierto': 4555, 'obra': 3218, 'siglo': 3197, 'aquello': 2843, 'br': 1291, '##dre': 673, '##roso': 1841, 'fijo': 4990, 'luz': 473, 'aura': 4876, 'lamento': 4516, '##cal': 1983, '##menta': 1688, 'ocaso': 3236, 'sagrado': 3587, '##mado': 1740, 'vasal': 4666, '##gues': 2853, 'toro': 3990, 'vuelta': 2957, 'amigos': 2267, 'aurora': 1644, 'clar': 923, 'tab': 3184, 'algo': 1093, 'antaño': 4853, 'cal': 472, 'camp': 659, 'cruj': 4099, '##ior': 1978, 'cuyas': 3845, 'don': 410, 'hubo': 2546, 'muestra': 3042, 'agonía': 2919, 'ases': 3433, 'muy': 733, 'miras': 3726, '##ár': 1011, 'esa': 760, 'iv': 3966, '##ísimo': 2424, '##mba': 1166, 'oración': 4260, 'disi': 4336, 'puerto': 2824, 'orden': 2249, 'sueña': 2720, '##ginal': 4451, 'ilus': 1607, 'inspira': 3784, '##iempre': 546, 'ardor': 2789, '##è': 173, '5': 22, 'espantos': 4422, 'terren': 4411, 'maldi': 2055, 'cl': 3403, 'pájaros': 1465, 'monte': 1727, 'cubre': 3254, '##dul': 2674, '##lar': 455, '##tero': 2676, 'dueño': 2954, 'encontra': 2622, 'ris': 1922, 'satan': 4830, 'solas': 2831, 'unidos': 4789, 'pres': 626, 'cuyos': 4113, 'ventana': 1748, 'daño': 3107, 'mariposas': 4088, 'anuncia': 4643, 'cis': 2762, '##rí': 1744, 'dev': 2774, 'pr': 584, 'armon': 1915, 'hombro': 3941, 'voy': 1324, 'encanta': 4995, 'infel': 3328, 'jóvenes': 3929, '##ste': 895, '##dena': 1890, '##ié': 3064, '##rando': 749, 'anoche': 3603, 'brisa': 1879, 'dos': 580, 'guar': 944, 'lira': 2769, 'quien': 620, '##tana': 1502, '##ec': 746, '##tiles': 2290, '##vía': 948, 'morir': 952, 'alegría': 1230, '##he': 1270, 'escucho': 3836, '##jeros': 3709, '##omas': 1733, 'vencido': 3586, '##a': 115, 'lágrimas': 1148, '##mbas': 3777, 'mirar': 1089, '##dios': 4347, 'esencia': 3187, 'temblor': 2237, '##uras': 3373, '##olor': 514, '##bio': 1403, 'deslu': 3432, '##eras': 1463, 'ap': 431, 'mismas': 3880, '##oros': 4787, 'cayendo': 4057, '##riba': 1574, 'ví': 2773, '##giendo': 4267, 'despa': 3326, '##be': 562, 'exis': 1281, '##ectos': 4373, '##ite': 2905, 'conquis': 4673, '##mán': 3984, 'vul': 3665, 'primer': 1422, 'alcanzar': 3601, 'venido': 3989, '##cillo': 3725, 'cap': 3290, 'frescura': 4732, 'carga': 4572, 'palab': 668, 'preciso': 3737, 'san': 449, '##stra': 4985, 'alab': 4980, 'dónde': 1096, 'contempla': 3528, 'estuvo': 4257, 'espl': 3759, 'puras': 4891, 'vengan': 3123, 'z': 59, 'pálida': 2519, 'abrigo': 4201, '##dencia': 2770, 'golpe': 1470, 'milagro': 4105, '##0': 158, 'compañía': 4152, 'rin': 1720, '##abas': 2353, 'amari': 1945, 'metal': 4479, 'objeto': 4361, '##oso': 389, 'atar': 3740, 'encuen': 1282, 'silenciosa': 3061, '##imos': 2973, 'alber': 3391, 'bo': 599, '##cier': 1364, 'mil': 966, 'tomar': 4417, 'tiembla': 3173, '##rar': 466, 'pudo': 2359, 'tronco': 3497, 'bron': 3249, 'aqué': 2434, 'semejan': 4450, 'cielo': 474, 'un': 209, 'ü': 92, 'escar': 2274, 'altas': 2985, 'ciencia': 2726, '##gu': 275, 'fuen': 1226, 'debe': 1816, 'se': 219, 'tampo': 3049, '##ci': 208, 'vivir': 1151, 'pequeña': 2760, 'cas': 483, 'parece': 1254, 'paredes': 3302, 'ò': 87, 'inmor': 1938, 'audaz': 4851, 'alcoba': 4687, 'colores': 2186, 'oídos': 3886, 'profunda': 2405, '##lón': 2489, 'rara': 4468, 'idi': 4670, '##risto': 4935, '##ece': 1354, 'llorando': 2746, 'sentimiento': 3060, '##arte': 2795, 'dem': 2164, 'visiones': 4706, 'bondad': 4421, '##ñada': 3570, 'w': 56, 'llegan': 4251, 'gi': 857, 'vacío': 1704, '##ä': 185, 'llano': 4120, 'momento': 1659, 'detiene': 4862, 'remedio': 4811, '##pio': 2791, '##ig': 1156, '##ti': 229, '##vés': 1429, '##llo': 705, '##dan': 900, '##radas': 2574, '##ués': 829, '##ya': 700, '##úl': 4880, 'alco': 3130, 'desde': 619, 'despierta': 2719, 'dí': 3718, 'doy': 3514, 'bajar': 4436, 'enter': 2584, 'figura': 2456, 'blancura': 3697, 'ign': 1726, 'conden': 3639, '##pon': 2428, 'cere': 4939, 'ilusiones': 4505, 'inten': 1576, 'jugue': 4371, 'oscuro': 1545, 'repro': 4991, 'rue': 1646, 'sangri': 3178, 'eras': 3021, 'solitar': 1687, 'umb': 4053, 'vejez': 4612, 'arte': 2054, 'gusto': 2730, 'estri': 4547, 'alguien': 1839, 'muriendo': 3660, 'rubia': 4938, 'vasto': 4804, 'capaz': 4918, 'augu': 4353, 'volvió': 2909, 'mís': 4409, '##melo': 4660, '##yos': 1123, 'perf': 1001, 'una': 264, 'apre': 2807, '##udo': 2017, 'huellas': 3385, 'brillar': 4707, '##bre': 268, 'hechi': 3746, '##ficar': 4524, 'estrecho': 4351, '##bir': 1952, '##inas': 784, '##cano': 2521, 'incien': 4674, 'abrasa': 4286, 'borde': 2705, 'favor': 2745, 'plumas': 2497, '##lido': 3761, 'ah': 490, 'fr': 487, 'cuel': 1525, 'huyendo': 4300, '##mera': 1046, 'rico': 2750, 'té': 4923, 'nomb': 1767, 'peregrino': 4847, '##cente': 1953, '##trando': 4054, '##erse': 4819, 'detrás': 1801, 'proy': 4827, '##rente': 3127, 'cen': 918, 'feli': 3383, '##cir': 2865, 'emperador': 3769, '##uer': 253, '##ído': 2780, 'espejo': 1668, 'fuerte': 1566, 'tiemp': 526, 'acompa': 2669, 'diez': 2729, '?': 30, '##dó': 1274, '##iado': 1589, '##titud': 2297, 'exten': 2060, '##má': 2134, 'fresco': 4374, '##la': 220, 'llev': 1755, 'desgra': 3158, 'amiga': 3401, 'mas': 582, 'mitad': 2499, 'cua': 1243, '##ctos': 3344, 'tiniebla': 4327, '##í': 117, 'gala': 4731, 'quiso': 3013, '##cito': 2559, 'rápi': 2562, 'lan': 1111, 'partir': 3645, 'cuarto': 2727, 'llegas': 4523, 'den': 907, 'hoy': 828, '##du': 579, 'acarici': 4207, '##tico': 1404, 'mortal': 1920, 'perder': 2135, '(': 9, 'nacer': 2956, 'frutos': 3028, 'horizonte': 2162, 'retor': 2939, 'cenizas': 3304, 'co': 531, 'años': 985, 'hablan': 4349, 'o': 48, 'demas': 2399, 'desma': 3334, 'algun': 1510, 'mente': 1899, 'región': 3854, 'tar': 694, '##ventura': 3572, 'gentes': 3196, 'sueños': 1232, 'ul': 3894, 'áure': 4979, '##encia': 751, 'blancas': 2021, 'noches': 1330, 'olvido': 1378, 'u': 54, 'arran': 1686, 'otoño': 2221, '##illo': 4715, 'rit': 2518, 'dejado': 3809, 'hicieron': 3767, 'liber': 1427, 'alza': 2515, 'nú': 2983, 'alg': 679, 'hel': 4856, 'niebla': 2373, 'temblando': 3889, 'rocío': 2586, 'necesario': 4711, '##oma': 830, 'manera': 2148, 'princi': 2438, 'habría': 4387, 'muda': 2551, '##dé': 2767, 'ai': 632, '##bos': 1736, 'aquellas': 2436, 'dejando': 3576, 'e': 38, 'parecía': 3425, 'ansia': 3648, 'ber': 3088, 'cien': 1336, 'muer': 388, '##ho': 3082, 'suprema': 4646, 'cho': 2494, '##anto': 974, '##vió': 2233, 'cierto': 2095, 'sentir': 1832, 'cadena': 4115, '##fía': 2612, 'salir': 2942, 'callada': 3762, 'pensar': 2056, 'hubiera': 2100, 'abiertos': 3832, 'lin': 1822, '##voca': 2990, '##tados': 1438, '##réis': 2798, 'rosa': 906, 'placeres': 4503, '##ramos': 2732, '##día': 965, 'antor': 4933, 'obras': 3710, 'dest': 1008, '##ridad': 2251, 'cruza': 3763, 'distante': 4681, 'vale': 3277, 'cid': 1331, '##lle': 4291, '##cera': 3817, '##dados': 3375, '##cor': 1519, '##tien': 1298, 'combate': 3165, 'conde': 3176, 'coron': 2124, 'desnudos': 4684, 'emb': 875, 'enju': 4905, 'inmortal': 2393, 'océano': 3428, 'héro': 3384, 'verde': 1070, 'sino': 916, '##ruen': 4784, '##fico': 3396, 'fru': 1078, 'sacri': 3496, '##cimiento': 3224, '##eri': 4211, '##ficado': 4253, 'aroma': 2486, 'ino': 1684, 'van': 934, 'tier': 429, 'barco': 3453, 'desenga': 4841, '##tuna': 1775, 'disp': 3275, 'lev': 4633, '##ger': 2577, 'siete': 2468, 'per': 279, 'las': 227, 'sig': 996, '##tro': 346, 'algunas': 3671, 'cisne': 4014, '##ente': 278, 'aliento': 1661, 'inva': 3934, '##ló': 1375, 'vuelan': 4453, 'señores': 4414, '##cía': 876, 'puede': 880, 'senn': 4700, '##gó': 1482, '##mientos': 1455, 'ahora': 650, '##ónde': 995, 'die': 2050, 'entender': 4951, '##cia': 295, 'ál': 4397, 'infan': 4118, '##mín': 4432, 'aún': 769, 'danza': 3921, 'débil': 2917, 'pros': 2532, '##rer': 1234, '##anes': 4904, 'encon': 1105, '##diste': 4210, '##bera': 2715, '##fa': 1206, 'cabe': 856, 'digno': 4840, '##gidos': 3731, 'cau': 1771, 'felices': 4182, 'caer': 1907, 'insom': 3748, 'her': 451, '##onda': 4882, '##diendo': 1669, '##jas': 570, 'miradas': 2528, 'sil': 1730, 'galo': 4554, 'adelan': 4668, 'uf': 4714, 'destino': 1419, 'nombre': 833, 'qué': 344, 'conser': 4283, 'largos': 3942, '##bí': 3908, 'inmen': 1339, '##vo': 381, 'siento': 1314, 'calles': 2248, '##ios': 902, '##bal': 2871, '##ceso': 4002, 'aquel': 587, '##table': 2874, 'avis': 4329, 'ig': 1077, 'dio': 1658, 'tumul': 4658, 'pisa': 4108, 'vue': 3558, 'paso': 1009, '##iencia': 2636, '##ía': 240, '##qué': 2830, 'águila': 3532, '##dón': 1817, 'ladr': 4596, ']': 32, 'apaga': 4202, 'sois': 3595, 'ambiente': 4953, 'ư': 99, '##tanos': 4703, '##tarse': 2350, 'gesto': 2825, '##tuoso': 4001, '##tudes': 4464, 'espíritus': 4101, 'engen': 3405, 'flor': 489, 'alzar': 3741, 'diver': 3610, 'cabello': 2706, 'fuente': 1553, 'rojos': 3144, 'diosa': 4084, '##mis': 2295, '##ombre': 478, 'jaz': 3982, 'obs': 1764, '##gía': 2716, 'maría': 2495, 'amo': 1685, 'haya': 2195, 'inex': 3826, 'uste': 1873, 'últimos': 4638, 'ồ': 101, '##tros': 530, '##bo': 741, 'vir': 929, '##mula': 3823, 'leve': 1917, 'muri': 1515, 'ado': 1420, 'enfermo': 4844, '##ư': 177, 'encen': 1468, 'pasó': 3067, '##4': 154, 'extre': 2988, '##etas': 2278, 'cuan': 2877, 'cansan': 4027, 'dere': 1885, '##ler': 4430, 'sonrí': 3274, 'enig': 4186, 'playas': 4177, '##de': 230, '##aro': 2101, '##itar': 1085, 'dormir': 2506, 'espanto': 3121, 'trigo': 3884, 'adónde': 4354, 'último': 1728, '##tivas': 4042, 'semblante': 3633, 'prof': 825, '##ros': 308, '##ían': 695, 'nariz': 4950, '##vado': 2229, '##caba': 2626, 'ardientes': 3838, '##cieron': 3680, '##éis': 1015, 'cier': 1449, 'po': 324, 'reflejo': 3994, 'otra': 709, '##ésped': 3753, 'el': 199, 'fúne': 4497, 'adi': 3153, '##ard': 1125, 'anta': 4719, '##ioso': 1849, 'quisiera': 2140, 'salva': 1751, 'bá': 3705, 'condu': 2204, 'da': 652, 'è': 78, 'cel': 1812, 'habló': 4408, '##oro': 1155, 'susur': 2878, 'desli': 2907, 'afi': 4651, '##éndose': 2262, 'lu': 332, '##mia': 4110, '##doso': 4401, 'instru': 4219, 'jun': 696, 'desdi': 2820, 'desp': 441, '##bar': 1475, 'dices': 4083, 'monstru': 3259, 'reson': 3294, 'len': 738, 'déjame': 4227, 'mol': 2109, 'salud': 4423, 'santa': 2128, 'almo': 4021, 'vapor': 4484, 'gui': 3490, 'rocas': 3010, 'cansancio': 4514, 'este': 540, 'espada': 1870, 'salu': 2599, '##ladas': 3333, '##ole': 2477, '##éla': 4630, 'habita': 2758, 'hora': 937, 'revuel': 4566, 'tiempo': 555, '##eno': 1406, 'ö': 90, 'penas': 2190, '##ch': 231, 'om': 4560, 'grito': 1738, 'reflejos': 4324, 'trae': 3462, 'ast': 1317, '##dres': 2838, 'darme': 4833, 'sendero': 4029, 'amanecer': 3342, 'ofen': 2741, 'humilde': 2427, 'sup': 1311, '##v': 122, 'aus': 1357, '##ril': 4884, 'piedra': 1203, 'sepul': 1656, '##ará': 2381, 'tuvo': 2775, 'á': 73, '—': 103, 'cri': 2166, 'terri': 4096, 'cam': 607, '##ble': 437, '##ismo': 1209, 'saber': 1244, '##5': 148, 'dedo': 4742, 'tuyos': 4657, 'incen': 2240, 'hechos': 3693, 'noble': 1711, 'lecho': 1696, 'alcanza': 3530, 'mejillas': 3717, 'carta': 4175, '##tal': 566, 'ge': 2685, 'arenas': 3860, 'nubes': 1272, 'ora': 2071, '##tun': 3372, 'rudo': 4724, '##ni': 782, '##áis': 1496, 'fre': 4766, 'refle': 1603, '##tras': 568, '##bia': 1924, 'lanza': 2161, 'males': 2899, 'línea': 4533, '##yo': 666, 'agri': 4183, 'mater': 1867, 'vel': 1544, '##res': 292, '##izas': 2950, '##gon': 3560, '##gue': 676, 'así': 564, 'empie': 2681, 'corazón': 500, 'dulzura': 2606, '##cero': 2365, 'ideal': 3439, 'ignora': 3318, 'ma': 328, 'hermosura': 1795, 'nuevos': 3700, 'obscu': 4874, '##gio': 1809, 'alumbra': 3796, 'pierde': 3109, 'podrás': 4777, '##ồ': 171, 'realidad': 2632, '##lé': 2114, '##cilla': 2540, 'ye': 3999, 'lleno': 1774, 'resplandor': 2835, 'soñ': 1424, 'éste': 2174, '##à': 182, 'viviendo': 4896, 'º': 69, '##ico': 1799, 'enca': 2651, 'fiera': 2881, 'ca': 262, '##venir': 2992, 'suelta': 4262, 'lumbre': 2490, 'tarde': 863, 'siglos': 1916, 'mundo': 520, 'armonía': 2481, '##co': 287, 'ilu': 1558, '##cable': 4137, 'gus': 2870, 'quebran': 3623, 'mora': 3063, 'besos': 1819, '##ferente': 2587, 'traje': 3616, 'bras': 4309, 'pus': 2863, 'escondida': 4806, 'impor': 1573, 'halla': 2496, '##dero': 1591, 'estaban': 3804, 'voces': 1743, '##xi': 1384, 'futuro': 2929, '##8': 143, 'vac': 3958, '##able': 1035, '##arios': 4020, 'primero': 1752, 'negros': 2110, '##ran': 256, 'suer': 1522, 'hub': 1674, 'destru': 2398, '##usto': 1204, '##vi': 288, 'dame': 3960, '##gida': 2815, '+': 12, 'mentira': 3649, '##e': 119, 'embar': 1735, 'encontrar': 1940, 'ley': 1366, 'radi': 2710, 'tranqui': 1682, '##grado': 2738, '##gura': 1322, 'aborre': 4649, 'propi': 1532, 'casta': 4004, 'mostra': 4166, 'vengo': 4061, '##llas': 542, 'humilla': 4852, 'súbito': 4645, 'cosa': 1200, 'pobre': 1193, 'visto': 1418, 'tend': 3545, '##gada': 1235, '##ine': 2176, '##na': 485, 'duro': 2039, '##tación': 2906, 'crep': 2513, 'gloria': 1023, 'cae': 1818, 'esf': 1600, 'nostalgia': 4080, 'sonora': 4752, 'esp': 291, 'viejos': 2437, 'li': 413, 'super': 2565, '##jó': 3430, 'venganza': 4287, '##inar': 1662, 'grita': 3711, 'sonido': 2598, 'llegó': 2667, 'imperio': 3367, 'mayo': 4383, 'prisa': 3581, 'ningun': 3039, 'cerebro': 4764, 'march': 2252, '##jante': 2883, '##tu': 304, 'labio': 2539, 'pregun': 1223, 'segu': 892, 'ton': 3155, '##tó': 837, '##rás': 2198, '##ún': 508, 'busca': 1660, 'cria': 2179, '##osa': 357, '##ismos': 3653, '##ju': 1641, '##tarme': 3409, '##dió': 865, 'demás': 2862, '##ueve': 3083, 'carrera': 3768, 'largo': 1606, 'huer': 3073, 'bra': 712, '##ierte': 2087, '##jeras': 4440, 'allá': 911, 'presu': 3747, '##gres': 4038, 'sigo': 4691, 'desfi': 4906, '##cin': 2550, 'descub': 3839, 'sab': 454, '##ciende': 1944, 'españa': 2264, 'aguar': 2652, 'pa': 257, 'inspi': 4803, 'adon': 3998, 'desnuda': 2125, 'iner': 4092, 'bor': 889, 'trono': 3077, '##dula': 4526, 'pare': 670, '##iva': 3606, '##ín': 715, 'según': 2591, 'tiemb': 2070, 'empa': 3548, '##abel': 3816, '##firo': 4723, 'anto': 4825, '##6': 156, '##qu': 327, 'di': 258, 'dolor': 630, 'número': 4079, 'fier': 1757, 'derri': 4802, 'piedras': 1908, 'fes': 3286, '##sar': 2202, '##is': 239, 'españ': 4801, '##cre': 896, 'cuando': 349, 'sin': 300, '##ados': 2414, 'gracia': 1647, 'desea': 4963, 'llen': 737, 'char': 3475, 'naufra': 3760, 'cambia': 4323, 'sop': 1296, 'arrul': 3284, 'arco': 2806, '##decida': 4982, 'amarga': 2964, 'éxtasis': 3752, '##c': 116, 'arroja': 4604, 'chi': 2328, 'enve': 4139, 'tres': 1288, 'contor': 4379, 'ruinas': 3554, 'extran': 3882, 'cobar': 3398, 'nada': 598, '##ne': 622, 'seca': 3225, 'pueblos': 3001, '##bil': 2455, 'admi': 1928, 'arranca': 4285, '##qui': 714, 'punto': 1929, 'conf': 926, 'cola': 3976, '##don': 742, 'primavera': 1383, 'lun': 3043, 'cierta': 3183, '##ál': 1679, 'perdón': 3075, '##dece': 2545, 'labra': 3538, 'menor': 4941, 'esperan': 832, '##món': 2611, '##úne': 3820, '##ado': 527, 'ambos': 3312, 'genio': 3703, 'locura': 2451, 'cobarde': 4848, '##die': 843, 'impe': 4438, 'llega': 1316, '##dando': 1667, 'contento': 3263, 'oscuridad': 2670, 'querida': 3219, 'todas': 752, 'cruz': 1530, '##trar': 1335, 'amarillo': 4240, 'bol': 2714, '##nada': 2999, 'suma': 4212, '##izar': 4145, '##ron': 3677, 'rayo': 1633, '##uenan': 4890, '##ơ': 178, 'fuego': 795, 'últi': 1051, 'lig': 1760, 'rama': 2093, 'escla': 2263, 'das': 3770, 'fas': 4168, 'ór': 3772, 'centro': 2412, '##ora': 294, '##ure': 1856, '##le': 243, 'caminos': 2245, 'amargura': 2751, 'isla': 3366, 'cólera': 4442, 'rí': 1941, 'pez': 3974, 'extraña': 2834, 'laurel': 3944, '##teras': 3847, 'sigue': 1754, 'cuántos': 4708, '##gir': 2872, 'lenguaje': 4128, 'peor': 4073, 'pen': 447, 'tor': 509, 'vaga': 3229, 'dar': 824, 'poes': 1277, '##tasis': 3728, 'él': 567, 'apa': 1264, 'cie': 397, 'estéri': 4824, 'sien': 1749, 'compañero': 4997, 'vieron': 4345, '##tino': 3023, 'cáliz': 4917, 'pan': 1110, 'oído': 2154, '##es': 194, '##ticos': 2430, 'quiz': 1580, 'unas': 2023, 'ent': 299, '##rb': 672, 'pensa': 922, '##2': 153, 'quieres': 1994, 'libres': 4756, 'recor': 1340, 'conciencia': 2592, 'encontré': 4967, 'ri': 615, 'pienso': 2119, '##iertas': 3120, 'indi': 1504, 'murmul': 3672, 'enla': 4019, 'll': 3343, 'deb': 2279, 'ê': 80, 'tiene': 748, '##ctoria': 3017, '##bras': 4561, '##nu': 881, '##zan': 1114, 'gentil': 3517, 'distin': 2224, 'poca': 4696, 'te': 271, 'jó': 3907, 'prodi': 3009, 'trá': 3799, 'levan': 988, '##vio': 1763, 'abro': 4959, 'ban': 1135, 'aquí': 613, 'desa': 1160, 'ejemplo': 4424, 'has': 460, 'homb': 803, 'poner': 3516, 'vo': 471, 'contin': 2090, 'cuello': 1949, 'juan': 2978, 'llueve': 4131, '##tillas': 4790, 'cos': 1073, 'tempestad': 3636, 'angu': 1632, '##mil': 1446, 'partida': 4550, 'rueda': 3135, 'prado': 3663, '##rpura': 4090, 'tengo': 1036, 'vez': 592, 'tri': 747, 'memoria': 1220, '##uesto': 3004, 'hum': 1222, 'reposa': 4444, '##mada': 1955, '##ri': 218, 'pálidas': 4586, 'recu': 4955, 'ríe': 3521, 'manan': 4193, 'bri': 806, 'quedado': 4968, 'signo': 4493, 'llegar': 1491, 'murmullo': 4288, 'raza': 2433, '##cien': 597, 'sea': 1101, '##gar': 463, '##tido': 810, 'esbel': 4459, 'cabo': 3461, 'costu': 3494, 'habéis': 3615, 'puso': 3016, 'río': 904, 'tumba': 1758, '“': 108, 'desierto': 1959, 'cera': 4591, 'cla': 788, 'enemi': 1840, 'gener': 3245, 'huir': 3613, '##ma': 242, 'rumor': 1579, 'caricias': 4203, 'suspira': 4236, 'cintura': 4050, 'pecho': 766, 'comer': 2821, 'sorpren': 3053, 'tormenta': 2991, '##cidos': 1753, 'ape': 3350, '##mente': 392, '##anos': 1611, 'auda': 3733, 'claros': 3619, '##b': 123, '##tando': 864, '##tier': 3024, 'adv': 4943, 'aque': 453, 'crecer': 4500, 'único': 2549, '##gido': 2088, 'amado': 1939, '¡': 61, '##fas': 3116, '##tua': 2325, '##der': 469, '##cio': 434, '##´': 168, 'prueba': 4306, 'duermen': 4667, 'aza': 4737, 'ave': 1731, 'guardar': 4255, '##xx': 4818, 'sublime': 4224, 'sería': 2492, 'absor': 3282, 'roja': 2422, 'principio': 3441, 'desho': 3963, 'majes': 3861, 'aco': 3266, 'aun': 648, 'cambi': 2695, 'cierra': 3171, 'zu': 3593, '##gente': 4037, 'amargo': 3382, 'pasiones': 4936, 'perdidos': 4546, 'pozo': 3881, 'falta': 2397, 'montes': 2529, 'azul': 802, 'vieja': 2030, 'dejan': 3774, 'precipi': 3340, 'ó': 88, '##titu': 3140, 'recibe': 4871, 'quier': 553, 'conocido': 4776, 'estío': 4085, '##lti': 950, 'cantar': 1412, 'ventanas': 2717, 'í': 83, '##éc': 3895, 'mos': 1493, 'ruego': 3638, 'hombres': 968, 'verte': 2522, 'fácil': 3096, 'ilumin': 4587, 'trans': 1130, 'gime': 3764, 'tes': 1398, 'dije': 1858, '##ī': 169, 'madru': 3418, 'de': 187, '##y': 136, '##vel': 2163, '##ír': 1537, 'afir': 4775, 'za': 1723, 'vuel': 703, 'esplendor': 2880, 'vio': 1793, 'esplen': 2321, 'mí': 464, '##moso': 3818, 'cer': 596, 'diga': 3692, 'matar': 3898, 'vivi': 914, '##zados': 3327, 'ángel': 1514, '##usta': 1863, 'glo': 4855, 'fino': 3706, '##iada': 4909, '##idas': 1808, 'aver': 4208, 'misma': 1098, '##érica': 2893, 'vaya': 4321, 'salvaje': 3455, '##itas': 2449, 'respon': 1402, 'mancha': 3488, 'dejó': 2617, 'hoja': 2385, 'durante': 3108, '##s': 118, 'borra': 3364, 'cantan': 2702, '##ficio': 2214, '##ve': 318, '##→': 163, 'anun': 2463, 'estan': 3335, '##ero': 407, 'playa': 2417, 'será': 1019, '##hada': 4171, '##1': 142, 'adoro': 3962, '##tidos': 2429, 'seg': 1875, '##cular': 4490, 'comien': 2847, 'eterno': 1529, 'loca': 2536, 'vír': 4977, '##eador': 3208, '##íritu': 1080, 'reino': 2362, 'ofi': 4376, '##mos': 297, 'pompa': 4954, 'traba': 2253, '##udad': 1057, 'dol': 2000, 'vin': 2654, '##olas': 3681, 'cabal': 882, '##tre': 789, '##quie': 2005, '8': 25, 'dej': 1219, 'muchos': 1992, 'mañana': 924, 'fuerza': 1278, 'reina': 2388, 'toda': 612, '##ab': 232, 'manda': 2916, 'plen': 2238, 'op': 1436, '##jada': 2098, 'maravi': 2197, '##zadas': 4434, 'tenía': 1871, 'porvenir': 3253, '##cas': 435, 'ningún': 2150, 'comen': 2593, '##cina': 1925, '##eros': 1038, 'bul': 2971, 'eternamente': 3341, 'acento': 2845, 'contes': 3406, 'culpa': 2671, 'fantasía': 4358, 'reci': 1124, '##bón': 4313, 'buscar': 1946, '##gió': 3048, 'abismos': 4987, 'lazos': 4672, 'ben': 1267, 'piensa': 2968, 'sereno': 3347, 'envuelve': 4842, 'apar': 1060, 'costado': 4356, '##mita': 4274, 'pesa': 2630, '##entos': 3055, 'alar': 2596, 'à': 72, 'solos': 4435, 'mala': 2833, '##bió': 3315, 'fun': 1702, '##diera': 1884, '##pe': 507, 'discre': 4705, 'volu': 3628, 'non': 1796, '##cta': 1666, 'allí': 719, 'sentencia': 4722, 'serás': 3654, 'dob': 3783, 'pág': 3629, 'son': 368, '##leto': 2876, 'alas': 1033, 'olea': 4289, '##ton': 2698, '##ispo': 4213, 'du': 691, 'país': 2091, 'inmenso': 2707, '##lor': 343, 'cris': 831, 'incier': 4863, 'tuya': 2578, '##in': 212, 'pura': 1483, 'carre': 2454, 'dentro': 1177, 'fulgor': 2682, '##dían': 4346, 'cara': 1117, '##yas': 1409, 'fruta': 4256, 'fér': 4036, 'nació': 4483, 'pavor': 4191, '[CLS]': 3, 'pra': 3288, 'sonoro': 3362, 'ardiente': 1342, '##cla': 1487, '##pora': 4879, 'algunos': 3172, 'persi': 3292, 'ante': 887, 'cabellera': 3810, '##llar': 2854, '##rora': 1638, 'puro': 1692, 'soy': 697, 'sua': 1293, 'caden': 3879, 'quiera': 2848, 'perfumes': 4340, '##era': 426, 'már': 1745, 'mariposa': 3634, 'fugi': 3503, 'próxi': 4974, 'vas': 1016, 'honra': 4413, '##ro': 224, 'be': 920, 'mú': 1175, 'sopor': 3002, 'pul': 1629, '##anas': 1450, '##gri': 814, 'cerrada': 4940, 'gru': 2556, 'fol': 3813, '##dose': 969, 'abre': 1872, '«': 63, 'diciendo': 3272, 'montañas': 2538, 'noche': 427, 'trai': 2658, '##omo': 2034, 'fuertes': 3805, 'far': 2763, 'humano': 2037, '##ñ': 132, 'primera': 1618, 'casa': 941, '##idu': 4595, '##jeron': 4527, 'no': 221, '##tud': 801, 'brillo': 2926, 'algu': 1837, 'incendio': 4375, 'verano': 2147, 'idea': 3078, 'punta': 4164, 'pala': 2061, 'duelo': 2696, 'fero': 3457, 'reposo': 2573, 'resis': 3133, 'sagra': 3019, 'ustedes': 3136, '##bi': 452, 'arb': 4481, '##rio': 959, 'bella': 1401, 'transpar': 2008, ';': 28, 'tormentos': 4486, 'marfil': 4934, 'arrastra': 3149, 'conozco': 3491, 'llamas': 1815, 'espar': 2866, 'grato': 4753, 'amantes': 2915, 'novia': 3986, 'recuerdos': 2581, '##tuosa': 4865, 'cono': 873, 'firma': 3795, '##into': 3119, 'apo': 1927, 'compas': 4098, 'diré': 4599, 'nunca': 649, 'beso': 1294, 'hor': 674, 'seguir': 2153, 'aguarda': 4068, '##ul': 286, '##ísima': 2542, 'apare': 3246, 'iré': 4613, 'llor': 1445, 'iguales': 3887, '##x': 140, 'futu': 2600, '##omb': 353, 'pier': 1333, '##igo': 1807, '##ores': 919, 'flores': 774, '##gel': 2665, 'arena': 1601, 'día': 495, 'alta': 1596, 'grand': 3421, '##sto': 1732, 'mientras': 758, 'fati': 1971, 'respira': 2887, 'sor': 1140, 'alrededor': 3429, 'cadenas': 4454, 'dioses': 1900, 'gri': 754, 'real': 1379, 'esfera': 3531, '##deros': 2657, '##it': 4859, '##osamente': 3862, '##vis': 1991, 'buena': 1909, '##eda': 4081, 'lado': 1152, '##tara': 3389, 'baj': 2432, 'bal': 1305, 'cán': 1880, 'cuna': 3386, 'dor': 915, 'nuestra': 909, 'oscuros': 4064, 'caballos': 2558, 'sur': 1182, 'deseo': 1233, 'án': 1028, 'dama': 3597, '##ecía': 4304, '##gia': 2804, 'juventud': 2015, 'ofrece': 3306, 'poemas': 4009, 'ori': 898, '##cidas': 2401, '##ges': 4431, '##stas': 2570, 'dra': 4592, 'ello': 2690, 'patria': 1407, 'través': 1534, 'estos': 1387, 'beb': 2858, 'llam': 3696, '##ô': 174, 'azu': 2379, 'miseria': 3427, '##cioso': 3776, '##m': 134, 'puer': 793, 'techo': 4249, 'verme': 4795, 'dulces': 1742, '##didos': 1572, 'pre': 519, 'reun': 3757, 'faz': 2029, 'figu': 3657, 'pluma': 2301, 'despre': 2299, 'espera': 1007, '##ales': 628, '##rosa': 1794, 'sencilla': 4574, 'monta': 1326, 'inocencia': 3506, 'blas': 3103, 'torre': 2493, '##iere': 3897, '##date': 3815, 'do': 731, '##ticas': 3065, 'dese': 787, 'días': 986, '##tás': 4656, 'preguntas': 4947, 'sombra': 634, 'conc': 4743, 'soles': 3899, 'fuer': 617, 'univer': 1831, '##inado': 2692, 'carrión': 4046, 'discur': 3204, 'melancol': 3209, 'vivido': 4235, '##tiales': 4433, 'inf': 539, 'honor': 2602, 'oculto': 3869, 'caus': 3793, '##men': 406, 'ano': 3190, '##pero': 4138, 'muere': 1844, 'suspiro': 2523, '##ier': 252, '##ì': 181, 'descen': 2534, 'pers': 1672, 'anim': 1990, 'echa': 3905, 'tiende': 4198, 'ese': 735, 'llora': 1486, 'desgar': 2786, '##sión': 1708, '##cían': 3081, '##eral': 3957, 'puen': 3066, 'cin': 1227, 'caza': 4402, 'invierno': 1968, 'rauda': 4195, 'ninguna': 1984, '##dri': 2410, 'angustia': 2075, 'esposo': 4791, 'mediodía': 3414, 'orillas': 3012, '##cura': 1285, '##mu': 1341, 'levantó': 4993, '##lin': 3773, '##rosos': 4792, 'obser': 4473, 'palacio': 3079, 'antes': 940, '##antes': 1029, 'sex': 3707, '##h': 135, '##ición': 3896, '##toria': 1100, 'blan': 571, 'opri': 2995, '##char': 1284, 'páli': 1303, '##iemb': 2035, 'al': 211, 'gloriosa': 3476, 'bel': 614, 'viva': 1533, 'gen': 994, '##cío': 1261, '##tri': 1102, 'cima': 4488, 'vaci': 3730, '##resa': 4617, 'ejér': 3402, 'glorioso': 4755, 'nue': 681, '##ana': 415, 'cub': 1715, 'minaya': 4512, 'qu': 251, 'torn': 2547, 'rebel': 3085, 'tér': 3664, 'bien': 523, 'llevas': 4937, 'atardecer': 4513, 'fragancia': 4686, 'haces': 4058, 'ras': 1518, 'pide': 3959, 'segundo': 4239, 'vosotros': 2223, 'papel': 2987, '##cto': 1178, '##iedad': 3876, 'cuanto': 1199, 'enfer': 2209, 'vaso': 2902, '##esa': 1263, 'hacer': 983, 'abrir': 3014, 'hal': 807, 'podemos': 4750, 'uni': 1500, 'espuma': 1777, 'crece': 2234, 'su': 213, '##gando': 1791, 'astro': 3198, 'demon': 3932, 'pien': 1192, '##nes': 2199, 'sala': 4988, 'bó': 4107, 'vi': 259, 'apro': 3500, '##den': 492, '##uso': 1582, 'men': 604, 'penu': 3242, 'viaje': 2662, 'ata': 1950, 'volver': 1289, 'aleg': 725, 'cristo': 2514, 'animal': 3264, 'vivo': 1471, '##erva': 3128, '##uelas': 3844, 'bai': 1843, 'espejos': 4008, 'niño': 1158, 'neces': 1594, '##p': 138, 'amis': 4675, 'ra': 417, 'ejemp': 3662, 'hemos': 2391, '−': 114, 'vela': 2316, '##tir': 773, 'demasiado': 2634, 'dom': 1457, 'sepulc': 2735, 'dorada': 3946, '##rosas': 4173, 'oficio': 4537, 'ple': 2307, 'suave': 1626, 'vuelva': 4412, 'esperanza': 963, '##cel': 1650, '##ge': 877, 'cip': 4774, 'mío': 842, 'recordar': 3015, '##f': 137, '##bran': 2113, 'esperanzas': 3261, 'gira': 2653, '##dis': 3537, '##fra': 1800, 'ser': 339, 'abrazo': 3549, 'tenaz': 4829, 'pupilas': 2624, 'despren': 3411, 'nuevas': 3037, 'pudiera': 2288, 'melan': 2027, 'conver': 2011, 'traspas': 3712, '##ol': 235, 'mucho': 1091, '##iste': 772, '##fo': 1637, '##iega': 4041, '##to': 214, '##dada': 3652, 'negras': 2601, 'encer': 3539, 'alfomb': 3927, 'fer': 2051, 'ocu': 3404, 'escri': 955, 'perro': 2796, 'pú': 2289, 'ya': 338, '##ba': 293, 'je': 4209, 'raíz': 3739, 'conv': 2483, '##viles': 4748, 'atraves': 3659, 'ved': 4520, '##tra': 329, 'cuánto': 2257, '##vío': 3269, '##osotros': 818, 'cordero': 4661, 'mansión': 4958, 'rodi': 2453, '##rados': 1634, 'venga': 3191, '##és': 529, 'hojas': 1318, 'dado': 2293, '##caso': 1020, 'fuerzas': 3866, 'pron': 1040, 'trom': 4913, 'ç': 77, '##cer': 369, 'bosques': 2554, 'rodar': 4797, 'ñ': 86, 'cerrado': 4489, '’': 106, '##undo': 443, 'pase': 3299, '##eles': 823, 'grandeza': 4066, 'vien': 756, 'mes': 1710, 'hermana': 3163, 'alguna': 1304, 'buenos': 3413, 'compa': 1332, 'angusti': 1648, 'despacio': 4328, 'emp': 702, 'haré': 4710, 'oscu': 713, 'tapi': 4680, 'cualquier': 2007, 'tierno': 2941, 'lágrima': 3365, 'pueden': 2292, '##sta': 1084, 'pido': 3535, '##vor': 1413, 'ráfa': 4608, '##cial': 2115, '##mina': 1477, '##lu': 496, 'pedro': 3656, 'vientre': 2537, 'pri': 558, '##dras': 1599, 'enam': 1970, '##ru': 371, 'valiente': 3938, 'sutil': 3584, '##can': 557, 'imper': 1961, 'muero': 2951, '##mpara': 3095, 'plá': 3550, 'beber': 3050, '##rano': 1198, '##ñez': 3651, 'vive': 1828, '##tes': 309, 'brazos': 1024, '##nidad': 1772, '##ondr': 3775, '##tales': 1265, 'alba': 1498, 'estuv': 4237, 'bon': 2120, 'fan': 1221, 'aguas': 1237, 'herido': 2638, 'ramas': 2024, 'recono': 2411, 'delante': 2511, '##lante': 1609, 'santo': 2020, 'aj': 1790, 'difí': 4845, 'somb': 484, 'sombr': 1803, 'dando': 3003, 'vista': 1552, 'deber': 3311, 'garganta': 2520, 'odi': 3321, '##ea': 1269, '##decer': 2484, 'la': 195, '##7': 146, 'bru': 1507, 'entrega': 4276, '##yendo': 1578, '##dar': 581, 'cariño': 3438, '³': 66, '##ed': 4816, 'viv': 1859, 'padre': 1377, 'sumer': 4295, '##er': 193, '##lada': 1062, 'cerca': 1369, '##vol': 1624, 'teje': 4957, 'caí': 1681, 'envidia': 3647, 'pasar': 1430, '##gui': 1536, 'onda': 3646, 'señora': 2230, 'tardes': 3217, 'tó': 4455, '##g': 133, 'iz': 4331, 'ruise': 3145, 'ace': 1459, '##aban': 908, 'salen': 4279, 'vidas': 3131, '##cada': 1639, '##damente': 2400, '##entes': 1714, '##bor': 1851, 'horas': 1258, 'neb': 4492, 'lugares': 4584, 'sos': 1224, 'pasado': 1540, 'ríos': 2246, 'arrancar': 4506, '[MASK]': 0, '##vil': 1847, '##po': 517, 'madu': 4794, 'pens': 1146, '##ierno': 1107, 'encanto': 3162, 'polvo': 1557, 'lejano': 2801, 'anhelo': 2375, 'propia': 2104, '##culos': 2368, 'inmó': 2314, 'podrá': 2979, 'que': 201, '##rena': 3865, 'reto': 4112, 'oír': 2063, 'sedu': 4461, 'seis': 4188, '##dadera': 3482, 'serena': 2287, '##me': 285, 'enamorado': 3840, '##bres': 1804, 'derecho': 2818, 'maestro': 3177, 'agi': 1707, 'anti': 1147, '##vos': 951, 'obje': 3038, '##iego': 3361, 'habían': 4828, '##tió': 1882, 'envuel': 2044, 'mus': 2315, 'musti': 4367, '##eg': 420, 'peda': 2748, 'redon': 2389, 'juntos': 2236, '-': 14, 'pose': 3170, '##gn': 4861, '##tencia': 1351, '##pen': 1309, 'escribo': 2609, 'labor': 4230, 'madrugada': 4534, 'celestes': 4994, '##ga': 290, 'const': 2785, 'hici': 1965, 'lla': 541, 'ob': 704, 'satis': 3036, '##iga': 3622, '##rido': 3188, 'casas': 3564, 'desciende': 3727, 'presi': 4147, 'có': 637, 'voz': 625, 'oscura': 1543, 'espumas': 3945, 'parecen': 3867, 'indo': 4886, 'redonda': 4998, 'sido': 1312, 'ciudad': 1063, '##leza': 1041, 'eb': 4669, '##guen': 3607, '##ue': 188, 'ésta': 3322, 'habla': 1697, 'lámpara': 3575, 'tí': 2473, '##ang': 3800, 'dibu': 3226, 'envi': 1691, 'human': 4407, 'go': 689, 'aves': 2009, 'presente': 2403, 'romper': 3765, 'cuatro': 1999, 'vida': 408, 'iglesia': 3785, 'arroyo': 3808, 'distra': 4800, 'fe': 846, 'suces': 4821, 'domin': 2311, 'mueve': 2725, '##orada': 1451, 'penumbra': 3872, 'rojas': 3914, 'mejilla': 4846, '##cos': 499, '##reros': 4312, 'justicia': 3283, 'despi': 4296, 'estoy': 998, '##lan': 314, 'versos': 1716, 'dará': 4942, 'silencioso': 3811, '##zanas': 4945, 'gemi': 2380, 'iris': 4738, 'ilusión': 2268, 'tiempos': 2548, 'mármol': 2337, '##dad': 312, 'espacio': 1511, 'cump': 1960, 'abs': 1701, 'dejé': 4447, 'calma': 1974, 'inunda': 4690, 'misterios': 4446, '##cción': 1783, 'hueco': 4284, '##gal': 2819, 'libros': 3669, '##fe': 1466, 'azules': 2066, 'corazones': 2621, 'osa': 3080, 'victor': 4545, 'serp': 2491, 'gota': 2283, 'señal': 2879, 'éx': 3185, 'le': 283, 'ha': 263, '##ez': 1405, 'mías': 4095, '##dumbre': 2409, 'umbra': 3856, 'hay': 504, 'huel': 2826, '##tente': 2357, 'brazo': 2208, 'ab': 348, '##pos': 1349, '##tan': 477, 'morada': 3113, '##ji': 4477, 'goce': 4391, 'esqueleto': 4167, '##ral': 2782, 'dis': 536, 'ren': 1212, 'bea': 3734, 'ingen': 2822, '##−': 175, 'abierto': 3034, 'mi': 215, 'pensamientos': 2648, 'lágri': 1017, 'brillante': 3110, '##ria': 717, '##man': 621, 'fir': 1520, '##cón': 1923, 'mirada': 1094, 'reba': 4190, 'vea': 4793, 'soñando': 4807, '##endo': 850, 'quiere': 1367, 'ancho': 3744, '##por': 2073, 'caminando': 4531, 'porque': 497, 'súbi': 2837, 'tampoco': 3054, 'par': 399, 've': 322, 'escul': 4575, 'aunque': 797, 'tras': 822, '##tío': 4017, 'campo': 1302, 'llenas': 4160, '##te': 205, 'prin': 1729, 'palma': 3214, '##izos': 4501, 'as': 364, 'ful': 1464, 'pesar': 1535, 'huella': 3147, 'vér': 4427, 'meji': 2458, '##ás': 260, '##mbre': 761, 'prín': 4087, '##se': 382, '##cha': 405, 'parte': 1287, 'suyo': 3624, 'v': 55, '##cena': 3101, '##rías': 3186, 'eternidad': 2143, 'sonre': 3668, 'domingo': 4475, 'hura': 3106, 'vuestras': 2661, 'también': 780, 'horrible': 3399, 'divina': 1861, 'húme': 2049, '##ientes': 953, 'muera': 3515, '##teo': 4317, '##bios': 817, 'hubi': 4194, 'prom': 3215, '##vando': 4109, '##lama': 4022, '##r': 120, 'hecho': 1393, 'lasti': 4885, 'ella': 595, '`': 33, 'millones': 4445, 'extin': 3035, 'ribera': 3547, 'salió': 4144, 'perlas': 3098, 'cristi': 3146, 'cop': 3502, 'asomb': 2371, 'duele': 4103, 'suel': 2568, 'penetra': 4241, 'res': 440, 'nueva': 1575, 'nuestros': 1208, 'rever': 3608, 'avanza': 3716, 'redes': 4983, 'dul': 550, 'hin': 2944, 'muche': 4569, 'seme': 2045, 'temp': 964, '##ías': 551, '##pan': 3117, '##pado': 2976, '–': 102, 'volv': 2345, 'frági': 3092, '##rible': 1631, 'vis': 609, 'vuelven': 3940, 'libre': 1549, 'paisaje': 3265, 'ä': 76, 'tranquila': 3577, '##mer': 811, 'mejor': 1172, '##iera': 548, 'constru': 3419, 'quedo': 4315, 'mata': 3159, 'rique': 2901, 'sepa': 1747, 'diri': 2535, 'sufri': 1709, 'encima': 2723, 'escuchar': 2472, '##ven': 511, 'error': 3736, 'aleja': 4011, '##rue': 4857, 'alcan': 1490, '##o': 128, 'caricia': 3670, '##ster': 1141, 'escu': 701, 'hiciste': 4897, 'déja': 3922, '##guió': 4051, 'correr': 3410, '##undan': 3969, 'camb': 1266, 'cár': 2684, 'inde': 2205, 'dichosa': 4261, 'roto': 3349, '##rón': 4655, 'cual': 591, '##zo': 481, '##cciones': 4399, 'ale': 1143, 'amas': 4480, 'nie': 805, '##brar': 2913, 'miró': 4543, 'nocturno': 3750, 'espi': 1979, 'secre': 1189, 'soledad': 1142, 'tantos': 2036, 'heridas': 4030, '##rique': 4717, 'tela': 4348, '##uen': 423, '##tel': 4040, 'esqui': 2608, '##so': 458, '##ten': 419, 'poetas': 3244, 'puedes': 2184, '##ísi': 1173, 'arre': 1374, 'ausente': 3233, '##ta': 207, 'vie': 794, '##uel': 439, 'guitar': 3781, 'perdon': 2402, 'hace': 812, '##úpi': 3723, '##ecer': 1570, 'pró': 2639, '##tilla': 4930, 'conse': 2170, 'cuál': 2302, '##tantes': 3695, '##jando': 3468, '[': 31, 'contemplar': 3247, 'forma': 1171, 'sensi': 4573, 'ech': 3387, 'somos': 1901, 'dichoso': 3480, 'nor': 2349, '##zca': 3374, '##mol': 1813, 'nostal': 3473, '##icos': 4332, '##ió': 2072, '##dilla': 3877, 'triun': 1643, 'vana': 3114, '##viendo': 4245, 'mági': 3044, '##val': 2247, '¹': 68, 'enci': 2313, 'poema': 2530, '##ò': 170, 'ger': 3947, '~': 60, '/': 16, '##estra': 3018, 'iban': 3948, 'espaldas': 4420, 'fab': 2697, '##celes': 4692, 'cha': 3464, 'felici': 3094, 'furor': 3978, 'suaves': 4733, 'última': 2351, '##fil': 2465, 'retu': 4598, '##temp': 1120, 'rol': 3154, 'nieve': 1194, 'pueblo': 1207, '##ños': 513, '##rase': 3227, 'amp': 2567, 'atmó': 4973, 'infa': 3834, 'mensa': 3683, 'celestial': 3786, 'extraño': 2891, '##dera': 1014, 'hermanos': 3193, '##eas': 4429, '##yó': 1814, 'cumpli': 2771, 'mina': 3605, 'amigo': 1620, 'hú': 2006, '##ono': 991, 'valle': 2069, 'humi': 4062, 'parti': 4141, '##ándole': 4471, 'magní': 4850, '##cadas': 3289, 'rápido': 4999, '##ré': 690, 'tienen': 1622, 'oscuras': 3195, '##dor': 387, '##uera': 3157, 'tribu': 3868, 'rev': 4565, 'nadie': 868, '→': 113, 'pol': 1027, '##bamos': 2579, 'am': 266, 'fantas': 1587, 'viejas': 3436, '##ö': 172, 'lago': 2873, 'espacios': 4834, '##hi': 2498, 'guarda': 2158, 'resu': 3694, 'hombros': 2935, '##via': 943, '[UNK]': 2, '##ü': 152, 'zar': 3594, '##mento': 977, 'perdida': 2377, '##li': 341, '##am': 775, '##loque': 4380, '##mo': 306, '##chas': 851, 'baja': 2206, 'vil': 3486, '´': 67, 'torpe': 3463, 'peces': 3471, '##gre': 618, '##bias': 4063, 'acuerdo': 4875, 'araña': 4971, 'prolon': 4406, '##tivo': 1390, 'sentado': 4196, 'tom': 1474, 'virtud': 1998, 'embria': 2857, '##rana': 2699, 'perman': 2347, 'presen': 4158, 'ele': 1372, 'senos': 3460, 'infer': 3851, '##mili': 4618, 'caballeros': 3964, 'marcha': 2571, 'verdadera': 4025, 'def': 1718, 'oye': 2216, 'viste': 2993, '##cri': 2766, '##iados': 2580, 'cadá': 3132, 'leyes': 3529, 'suspi': 1132, 'pun': 1229, 'ági': 4185, 'sonríe': 4627, 'algún': 1271, 'buscando': 2660, 'impre': 4799, 'mañ': 869, '##unto': 4659, 'hogar': 2471, 'tantas': 2065, '##quer': 4515, 'jamás': 1247, 'grandes': 1355, 'placer': 1376, 'péta': 3252, 'cosas': 912, 'som': 1698, 'tener': 1621, 'expres': 3281, 'ojo': 1896, 'pico': 3565, '##doras': 3293, 'oí': 949, 'presencia': 2139, 'red': 4597, 'nombres': 3029, 'cante': 4910, '##rantes': 3047, 'esconde': 3923, 'grande': 1245, 'mudo': 2560, 'brillan': 1789, 'tuyo': 2211, 'fondo': 1306, 'salta': 4798, 'canciones': 3256, '##dico': 4463, 'car': 432, 'compañ': 1798, 'llanto': 1065, 'ola': 2607, 'peregr': 2772, 'haciendo': 2829, 'salvo': 4699, '##uta': 2406, 'vencer': 4721, 'miembros': 4102, 'muertos': 1508, 'donde': 461, 'sacu': 2679, 'tal': 556, '##aria': 4362, 'exa': 4157, '##meras': 3702, 'fuentes': 3658, 'pér': 4653, '##ua': 4785, 'flota': 4419, '##ienda': 4929, 'palabras': 884, 'hon': 800, 'tinie': 1888, 'tran': 781, 'uno': 930, 'glor': 778, 'ina': 2947, 'perfu': 1693, 'perla': 4403, 'mayores': 4948, 'b': 35, 'ater': 3557, 'llevan': 3625, 'cru': 764, '##on': 198, 'vueltas': 4580, '##ante': 416, 'castilla': 4609, 'prote': 4405, 'campeador': 3301, '##mí': 4071, '##des': 442, 'des': 237, 'helado': 4385, 'hizo': 1565, 'ruiseñor': 4106, 'veloz': 4623, 'extra': 1087, 'herida': 1926, 'llave': 4280, 'mister': 1183, 'rá': 1942, '##ë': 165, 'antigua': 2861, 'gra': 647, 'ilust': 4305, 'lucha': 2258, '##taba': 1382, '##tí': 1523, '##ï': 150, 'nin': 890, 'sabio': 3596, 's': 52, 'uñas': 4593, 'oigo': 2936, 'veneno': 3434, 'baña': 4074, 'veo': 1395, '##dedor': 2986, '##ren': 450, '##cuen': 2356, 'honda': 3011, 'eh': 2779, 'solamente': 2317, '##ese': 1561, 'derecha': 4509, 'x': 57, 'bar': 755, 'peso': 2502, '##tín': 2641, ':': 27, '##ip': 1821, '##jos': 321, 'infinito': 1912, 'plan': 1079, 'quienes': 4076, 'supre': 2959, 'sole': 997, 'barro': 3134, 'curso': 4259, 'flore': 2552, '##estro': 2395, 'después': 835, 'gozo': 2276, 'igual': 1086, 'vigor': 4600, 'rena': 4310, '##an': 192, '##das': 282, '##encias': 3829, 'puente': 3827, '##osotras': 4278, 'selva': 2469, 'estrellas': 1022, 'mover': 4322, '##lina': 3297, 'lo': 270, 'vuelve': 1363, '##ii': 2827, 'pupi': 2010, '##lo': 226, 'húmeda': 4843, 'olvida': 2111, 'dejo': 3985, 'grave': 2171, 'brota': 2982, 'felicidad': 3285, 'juz': 2965, 'mal': 532, '##jera': 3045, 'misterio': 2172, '##¹': 164, 'brilla': 1982, '##ras': 276, 'fresca': 2994, 'peligro': 4342, 'cabezas': 3900, '##icia': 2686, 'muchas': 2080, 'pájaro': 1642, '##z': 149, '##til': 917, '##turas': 1690, 'darte': 4914, '##tiendo': 2203, '##ñas': 739, '##yan': 4562, 'deshe': 3987, '##ierta': 1031, '##mp': 246, 'eres': 815, 'patio': 4823, 'infierno': 1866, 'seres': 2975, 'r': 51, 'fie': 1448, 'solemne': 4637, 'vid': 2828, '##yes': 3332, 'orilla': 1769, '##idades': 4390, 'alma': 468, 'labios': 878, '##en': 190, 'tenga': 3192, '##lesia': 3240, 'imagen': 1700, 'pon': 874, '##tones': 3983, 'ama': 762, 'ª': 62, 'rode': 2076, 'apenas': 1392, 'cir': 2058, 'tamb': 732, 'luego': 883, '##dida': 786, 'pesares': 4873, 'dulce': 669, 'despe': 1756, 'ơ': 98, '##pel': 1906, 'común': 4744, 'amé': 4059, '##jero': 2217, 'jo': 1127, '6': 23, 'perros': 3642, 'siquiera': 2382, 'adonde': 4812, 'cue': 2802, '##dades': 2487, 'alf': 2180, 'ens': 1360, 'vano': 1328, '##án': 310, '##rarse': 4047, '##mía': 4018, 'sentidos': 3220, 'diablo': 4984, '##eb': 2272, '##ándome': 2324, 'rompe': 3231, 'llan': 796, 'log': 3141, 'asoma': 4549, 'cuyo': 2019, 'delirio': 4163, 'habi': 3571, 'banderas': 4178, 'cón': 4652, 'regal': 3888, '##eo': 1703, '##dura': 1494, 'ex': 360, 'abra': 1441, 'largas': 3478, 'difun': 3871, 'sigu': 3046, 'salvar': 3553, 'ascen': 3846, 'enten': 2308, 'bruma': 4472, 'tristeza': 1509, '##cido': 734, 'desapar': 3505, '##van': 611, 'chis': 3450, 'gozar': 4443, '##aron': 1181, '##uda': 1241, 'dila': 3972, 'abras': 2038, 'carlos': 3395, 'fina': 3906, '##lon': 2882, 'humanos': 4117, 'párpados': 2961, '##lag': 2629, '##ceros': 3585, '##nales': 4614, '##guas': 2787, '##cán': 2096, 'decir': 1044, 'mor': 561, 'volar': 3474, 'vuestra': 1739, '##zó': 2068, 'aten': 2016, '##col': 1836, 'tinieblas': 2507, '##ches': 1167, 'inte': 3485, '##š': 179, 'ro': 421, 'trueno': 3928, 'desh': 1588, '′': 112, '##mir': 3337, 'bus': 687, 'digo': 1663, '##tanas': 2479, 'desdicha': 4343, 'llevaba': 4916, 'melancolía': 3442, 'nube': 1705, '##ena': 730, '##ula': 2794, 'pensamiento': 1361, 'ni': 315, 'eco': 2137, 'poderoso': 3492, 'cantos': 3241, 'quedan': 3561, 'aven': 2338, 'ingra': 3609, 'temer': 2998, 'copi': 4960, '##iento': 366, '##uelo': 798, 'antigu': 1948, 'bóve': 4496, 'pechos': 2797, 'lis': 2376, 'perpe': 4024, 'rica': 3992, 'umbral': 4976, 'amante': 1458, '##lica': 1737, 'ii': 1649, 'pronun': 4416, '##ible': 973, 'sabes': 1973, 'místi': 3833, '##zon': 4716, '##iz': 576, 'abri': 1054, 'fantasmas': 4104, 'prepa': 4577, 'propio': 2360, '##cli': 4815, '##venes': 3778, 'empieza': 3751, 'existe': 2326, '##cierto': 3052, 'exp': 1323, 'marti': 3682, '##tará': 3612, 'absol': 3787, 'hol': 3720, '7': 24, 'on': 1039, 'para': 305, 'pu': 512, 'quema': 3345, 'zo': 4978, 'enga': 1484, 'pes': 723, 'tempes': 3230, 'confus': 4122, 'paciencia': 4747, '##sidad': 4369, '##cana': 2811, 'queri': 1411, '##dieron': 2241, 'princes': 3620, 'espinas': 4365, '##llos': 1071, 'g': 40, 'fres': 1273, 'callar': 4350, 'adentro': 3370, 'eno': 3084, '##igu': 4594, 'acep': 4165, 'imposible': 2904, 'suf': 1201, 'furi': 3216, 'carne': 1095, 'decía': 2781, 'nun': 629, '##orme': 2107, '##dr': 1113, '##ines': 1452, 'odio': 2361, 'siendo': 2294, 'orgu': 1962, 'sierra': 4153, 'suelo': 1329, 'ci': 535, '##bra': 1032, 'feliz': 1499, '##lio': 2200, 'aden': 2846, 'invis': 2374, 'limpia': 4624, 'tesoro': 2903, 'quise': 3518, 'har': 1348, '##dez': 1425, 'miedo': 1315, 'produ': 2841, 'despojos': 4206, 'cre': 510, 'nar': 2105, 'hallar': 1980, '##ión': 655, '##or': 196, 'to': 274, '##tiva': 1368, 'oro': 799, 'calla': 2832, 'desdén': 4231, 'tos': 3874, 'constante': 3891, 'ac': 516, 'almas': 1547, 'dolores': 2680, 'nacido': 2849, 'sirve': 3738, '##ce': 272, '##genes': 2207, 'lirios': 3614, '##d': 127, '##oras': 4881, 'abismo': 1597, 'signi': 4730, '##jan': 928, 'otras': 1426, '##una': 494, 'hab': 418, 'marip': 2280, 'minuto': 4779, 'sier': 2226, 'persona': 3602, 'dime': 2566, 'esos': 1399, 'caído': 3890, 'sosten': 3207, 'amaba': 4023, 'confun': 2890, 'derre': 4944, 'deten': 2339, 'hom': 4426, 'vein': 2940, 'estación': 4299, 'ol': 677, 'crecen': 4773, 'estas': 1365, '##ial': 3097, '##quina': 2724, 'alb': 2875, 'casi': 1362, 'habrá': 1964, 'peñas': 4889, 'por': 233, 'puertas': 1966, 'teneb': 3864, 'mie': 1104, '##guida': 3408, 'vuelo': 1327, 'tendrá': 3915, 'sé': 710, 'evi': 3873, 'difer': 4114, 'glorias': 4665, 'min': 1721, '##miendo': 2974, 'fla': 1722, '##ares': 2169, '##guir': 3953, '##tadas': 2342, 'desha': 3853, 'sentido': 1865, 'nace': 2464, '##ciente': 1338, '##ista': 1770, 'cabellos': 2067, 'palpi': 2334, 'agon': 2057, 'hos': 2355, '##ón': 248, 'quedar': 1869, 'fuera': 1012, 'sabemos': 4124, '##ándose': 1319, 'gana': 2563, 'mirando': 2475, 'pregunto': 4502, 'vestido': 2740, '##ería': 3814, 'aquellos': 1636, '##cho': 375, 'entre': 379, '##eza': 2543, 'sienes': 4151, 'patri': 4931, '[PAD]': 1, 'desen': 2018, 'muerte': 533, 'contar': 3139, '##tores': 3617, 'voluntad': 2333, 'gal': 1026, 'femen': 4964, '##cales': 3967, 'esque': 3324, '##cul': 771, 'colina': 4869, '##dimiento': 3859, 'gusta': 4154, '##dario': 4370, 'lleva': 1262, 'dicho': 2645, 'sonrisa': 1612, '##ona': 872, 'azo': 3210, 'buenas': 3919, '##gante': 2415, 'af': 757, 'boca': 845, '##arme': 3118, 'impul': 3295, 'maravilla': 3841, 'partes': 2886, '##pera': 1805, 'sel': 1881, 'herir': 4663, 'poeta': 1505, '##3': 147, '##rada': 958, 'amada': 2004, 'muerto': 1116, 'sobre': 363, 'camina': 3835, 'gemido': 3997, '##íri': 993, 'auto': 4727, 'ruiseñ': 3152, 'termina': 4441, 'ecos': 3604, '##ienta': 2510, 'cómo': 707, 'madre': 992, '##bas': 1122, '##ino': 395, 'temor': 2141, '##ando': 261, 'ur': 2972, 'acab': 2215, '##ieras': 3641, '##stos': 2193, 'descono': 2588, 'cuántas': 3437, 'ensue': 2306, 'religi': 4900, 'inc': 935, 'sordo': 3980, '##mpa': 1310, 'merced': 4736, 'velo': 1581, '##diós': 1782, 'pá': 605, 'rece': 3933, 'clavel': 4728, 'hará': 4606, 'fle': 2040, 'estás': 1373, '##vir': 3562, '##idos': 1196, 'premi': 4866, 'gracias': 2275, '##tas': 320, 'mati': 4697, 'llevo': 4086, 'gris': 2078, 'azar': 3630, 'bebe': 3618, 'despo': 2281, 'damas': 4470, 'guía': 2734, '##emos': 1195, 'disper': 3351, 'melancó': 3591, 'conoce': 2966, 'ciegos': 4619, '##ê': 167, 'ý': 93, '##je': 446, 'dejas': 3498, 'raíces': 2918, 'â': 74, 'exh': 3027, 'tien': 544, 'color': 1025, 'med': 4247, 'recuerda': 3993, 'risa': 1895, 'sá': 2912}\n",
      "5000\n"
     ]
    }
   ],
   "source": [
    "vocab = new_tokenizer.get_vocab() \n",
    "print(vocab)\n",
    "print(len(vocab))"
   ]
  },
  {
   "cell_type": "code",
   "execution_count": 45,
   "metadata": {},
   "outputs": [
    {
     "name": "stdout",
     "output_type": "stream",
     "text": [
      "Tamaño del vocabulario: 5000\n"
     ]
    }
   ],
   "source": [
    "vocab_size = len(vocab)  # Definir el tamaño del vocabulario\n",
    "print(f\"Tamaño del vocabulario: {vocab_size}\")"
   ]
  },
  {
   "cell_type": "code",
   "execution_count": 46,
   "metadata": {},
   "outputs": [],
   "source": [
    "# Definir funciones de codificación y decodificación\n",
    "def encode(text):\n",
    "    # Codificar sin agregar los tokens especiales como [CLS] y [SEP]\n",
    "    return tokenizer.encode(text, add_special_tokens=False)\n",
    "\n",
    "def decode(ids):\n",
    "    # Eliminar los tokens especiales si están en la secuencia codificada\n",
    "    ids = [id_ for id_ in ids if id_ not in [tokenizer.cls_token_id, tokenizer.sep_token_id]]\n",
    "    return tokenizer.decode(ids)"
   ]
  },
  {
   "cell_type": "markdown",
   "metadata": {},
   "source": [
    "## **Pruebas con base en el tokenizador entrenado**"
   ]
  },
  {
   "cell_type": "code",
   "execution_count": 47,
   "metadata": {},
   "outputs": [
    {
     "name": "stdout",
     "output_type": "stream",
     "text": [
      "Texto codificado (IDs): [1277, 1028, 1044, 2670, 1009, 3610, 1097, 14030, 1039, 10419, 1017, 14962, 1008, 1734, 1758]\n",
      "Texto decodificado: este es un ejemplo de prueba para verificar el tokenizador. hola mundo\n"
     ]
    }
   ],
   "source": [
    "# Texto de prueba\n",
    "texto_prueba = \"Este es un ejemplo de prueba para verificar el tokenizador. Hola mundo\"\n",
    "\n",
    "# Codificar el texto\n",
    "encoded_text = encode(texto_prueba)\n",
    "print(\"Texto codificado (IDs):\", encoded_text)\n",
    "\n",
    "# Decodificar el texto\n",
    "decoded_text = decode(encoded_text)\n",
    "print(\"Texto decodificado:\", decoded_text)"
   ]
  },
  {
   "cell_type": "code",
   "execution_count": 50,
   "metadata": {},
   "outputs": [
    {
     "name": "stderr",
     "output_type": "stream",
     "text": [
      "Token indices sequence length is longer than the specified maximum sequence length for this model (3410 > 512). Running this sequence through the model will result in indexing errors\n"
     ]
    },
    {
     "name": "stdout",
     "output_type": "stream",
     "text": [
      "IDs codificados: [1040, 1493, 1019, 1041, 11296, 30958, 1040, 1054, 1094, 6614, 1019, 1048, 13888, 5507, 8978, 30958, 1035, 1039, 5571, 4215, 1019, 22531, 9532, 1203, 6951, 1035, 1032, 1771, 30956, 1009, 17768, 1019, 1041, 17049, 1151, 1091, 12426, 15004, 1040, 4307, 2037, 1548, 1019, 1120, 1155, 24450, 1021, 1019, 27302, 30958, 1040, 1155, 8250, 1012, 1714, 1109, 1008, 1008, 1203, 8193, 1157, 1214, 30063, 15287, 1009, 4132, 2182, 1039, 10125, 24766, 1492, 3, 1008, 11308, 1044, 4523, 1009, 7922, 1097, 13200, 1085, 5806, 14191, 1081, 1526, 1035, 1032, 2618, 1008, 1139, 1054, 1669, 6144, 995, 1054, 1669, 3264, 995, 1669, 1091, 1626, 1035, 7420, 5282, 1009, 1032, 1613, 1040, 1081, 1744, 1008, 1139, 3712, 995, 8767, 995, 1581, 1044, 1819, 1151, 1493, 1019, 1040, 1012, 2458, 2209, 1669, 2401, 1019, 1040, 1012, 2045, 2466, 8865, 1035, 1277, 10931, 1019, 1040, 1628, 1748, 1091, 3431, 4612, 1019, 9411, 1019, 1553, 6225, 1008, 1096, 1019, 1012, 1233, 5346, 1032, 5538, 10125, 1040, 14223, 13068, 1765, 1040, 1180, 5106, 2025, 8591, 2481, 1009, 3585, 12076, 1016, 1019, 1967, 7867, 1035, 1032, 8881, 1869, 1039, 4134, 1040, 14336, 2858, 1019, 1063, 1652, 14834, 1041, 1069, 2858, 5519, 1039, 3423, 1059, 3, 1012, 1714, 1094, 3496, 5363, 1069, 7197, 1288, 3615, 1019, 7557, 5273, 1076, 5105, 1069, 21942, 3213, 4361, 1008, 1195, 20098, 995, 1155, 20098, 1012, 1223, 2506, 1019, 2486, 1096, 30897, 1040, 1096, 18539, 30958, 1019, 1652, 6774, 9972, 1032, 7739, 1009, 1091, 13020, 5675, 1019, 1469, 1009, 2361, 1540, 1032, 7028, 995, 9582, 1019, 4637, 1019, 12473, 1040, 15612, 1367, 1009, 1928, 1041, 1735, 14790, 1097, 1652, 995, 1054, 1155, 25801, 1008, 7564, 23127, 995, 1096, 7526, 1009, 1086, 1186, 7535, 1009, 1223, 2506, 1019, 1097, 2736, 1032, 1597, 1041, 1748, 1614, 3664, 1035, 1069, 2998, 1008, 1063, 1803, 7706, 1203, 2873, 1059, 3, 1091, 1581, 1252, 1147, 1136, 6360, 1028, 1009, 25498, 1019, 1040, 1035, 1039, 5929, 12868, 1012, 5255, 1662, 3509, 1009, 1067, 6225, 2464, 1009, 1085, 21470, 30958, 1009, 1285, 3389, 1135, 1019, 1091, 3039, 1041, 5018, 30959, 1187, 1032, 8265, 1040, 1039, 1651, 1301, 1035, 1091, 2618, 1019, 1607, 2618, 1057, 17688, 1712, 993, 1040, 1067, 10575, 25012, 1039, 4705, 1041, 1165, 3496, 1074, 2998, 7978, 3, 1120, 1857, 1109, 1012, 1091, 5675, 1626, 1019, 1566, 8719, 18249, 1019, 9283, 28312, 30956, 1040, 10472, 4324, 1151, 1069, 1771, 30956, 1019, 1798, 1149, 1434, 1032, 2618, 30506, 2136, 1086, 1041, 1652, 1482, 1735, 6439, 30959, 995, 1032, 1597, 1009, 1069, 1597, 995, 1091, 2252, 13243, 1019, 1041, 1032, 2943, 1081, 1758, 12572, 2009, 30978, 1019, 7489, 2448, 4990, 1019, 16379, 1012, 19636, 995, 1091, 9136, 1159, 1009, 3244, 21091, 12905, 1019, 1074, 3512, 1009, 1091, 6779, 2366, 7350, 1008, 1351, 13317, 1091, 1947, 1506, 1069, 19370, 1019, 1040, 1035, 1032, 8073, 1165, 4304, 20888, 2379, 9495, 1019, 1319, 27334, 1050, 1246, 1512, 995, 1054, 1155, 2968, 1019, 1155, 1829, 1019, 1040, 1032, 9894, 2379, 1048, 21539, 1009, 16169, 1019, 1040, 1032, 30710, 23240, 2029, 1035, 1203, 21642, 1660, 1019, 10432, 5066, 13955, 30956, 1012, 1223, 1019, 1048, 1713, 11247, 1026, 1019, 1041, 1512, 6596, 1032, 5946, 1009, 10597, 3, 1063, 1155, 10123, 1059, 3, 1040, 1091, 3717, 2151, 1085, 1411, 28013, 1040, 1614, 1628, 1006, 30986, 1747, 30958, 1153, 3, 1040, 1085, 1411, 5394, 1057, 2393, 2678, 1035, 1039, 7770, 4777, 3, 1008, 1008, 1008, 1008, 1008, 1008, 1008, 1008, 1008, 1008, 1008, 1008, 1008, 1008, 1008, 1008, 1008, 1008, 1008, 1008, 1008, 1008, 1008, 1008, 1008, 1008, 1008, 1008, 1008, 1008, 1008, 1008, 1008, 1008, 1008, 1008, 1008, 1008, 1008, 1008, 1008, 1008, 1076, 1039, 19172, 5639, 1019, 1032, 1947, 17017, 1076, 1067, 3154, 1009, 1091, 5688, 12620, 16126, 3675, 3, 1040, 1039, 4774, 1041, 7747, 1057, 23853, 6652, 1012, 1032, 2550, 1019, 1006, 30146, 1018, 1151, 13664, 1019, 1032, 15166, 1009, 1032, 9515, 1067, 5770, 30978, 1506, 1039, 10835, 1008, 1039, 11381, 1041, 2016, 1040, 1155, 2562, 2555, 17888, 1009, 1091, 16333, 1551, 3269, 1009, 4598, 1019, 7291, 1552, 1035, 1032, 9515, 1009, 1032, 1947, 1370, 5525, 1009, 2881, 2555, 20655, 30959, 2246, 3154, 1019, 2555, 1394, 7836, 1469, 1032, 14377, 4498, 23994, 1492, 1019, 1054, 2236, 1041, 5612, 18278, 1076, 2491, 1041, 9526, 1043, 1019, 18278, 1035, 7292, 1040, 7219, 2933, 9884, 30956, 1009, 2424, 1019, 1040, 1035, 1223, 1054, 1311, 1044, 6496, 16675, 1009, 1032, 4791, 1068, 28566, 1081, 3423, 1041, 1054, 3714, 1091, 5266, 1009, 2424, 1008, 1054, 2236, 1041, 1676, 1380, 1628, 1097, 4612, 1012, 2491, 1041, 1155, 11948, 1019, 1040, 1372, 2130, 19031, 4376, 13977, 1009, 1223, 1607, 4247, 14202, 1076, 1039, 2424, 7280, 1238, 1008, 1422, 1019, 26137, 1019, 1035, 1223, 1319, 1054, 8071, 1019, 1035, 1223, 1319, 1054, 3264, 1019, 18237, 1032, 7739, 1081, 1645, 995, 8968, 1019, 1074, 2801, 1019, 1035, 1223, 1319, 5614, 1503, 1019, 1035, 1223, 19686, 1019, 1039, 18900, 10779, 1081, 1645, 1008, 1039, 11381, 1041, 2016, 1040, 1155, 2562, 2555, 17888, 1009, 1091, 16333, 1551, 3269, 1009, 4598, 1019, 7291, 1552, 1035, 1032, 9515, 1009, 1032, 1947, 1370, 5525, 1009, 2881, 2555, 20655, 30959, 2246, 3154, 1019, 2555, 1394, 7836, 1469, 1032, 14377, 4498, 23994, 1492, 1019, 1054, 2236, 1041, 5612, 18278, 1076, 2491, 1041, 9526, 1043, 1019, 18278, 1035, 7292, 1040, 7219, 2933, 9884, 30956, 1009, 2424, 1019, 1040, 1035, 1223, 1054, 1311, 1044, 6496, 16675, 1009, 1032, 4791, 1068, 28566, 1081, 3423, 1041, 1054, 3714, 1091, 5266, 1009, 2424, 1008, 1054, 2236, 1041, 1676, 1380, 1628, 1097, 4612, 1012, 2491, 1041, 1155, 11948, 1019, 1040, 1372, 2130, 19031, 4376, 13977, 1009, 1223, 1607, 4247, 14202, 1076, 1039, 2424, 7280, 1238, 1008, 1422, 1019, 26137, 1019, 1035, 1223, 1319, 1054, 8071, 1019, 1035, 1223, 1319, 1054, 3264, 1019, 18237, 1032, 7739, 1081, 1645, 995, 8968, 1019, 1074, 2801, 1019, 1035, 1223, 1319, 5614, 1503, 1019, 1035, 1223, 19686, 1019, 1039, 18900, 10779, 1081, 1645, 1008, 1506, 1035, 1203, 22600, 10400, 1345, 1333, 1316, 1155, 11948, 1512, 3, 1351, 1155, 7174, 14925, 30958, 1035, 1223, 1665, 1019, 1151, 1035, 1091, 17189, 9082, 3675, 1009, 3466, 1021, 1019, 1151, 4308, 1009, 1091, 2936, 1009, 8622, 1019, 8032, 1167, 1048, 4018, 8076, 1008, 27955, 1126, 1019, 1320, 16199, 1019, 30710, 3978, 1039, 2998, 1009, 20874, 27920, 2246, 11861, 5502, 30958, 1019, 1628, 6572, 1385, 5086, 1012, 2703, 2246, 7459, 1019, 1048, 1039, 6910, 1019, 13970, 22703, 20094, 30957, 1009, 14191, 3, 22295, 30959, 1050, 5270, 11247, 1991, 3060, 1310, 1019, 1048, 1069, 7178, 2873, 14377, 1019, 1186, 10125, 1019, 2979, 1186, 4710, 1039, 4823, 1110, 27385, 1041, 1032, 2751, 1152, 1012, 1223, 3, 1195, 1032, 6215, 1009, 1203, 22600, 1019, 12118, 1019, 1054, 1057, 1218, 2375, 30956, 993, 1041, 2256, 2895, 1688, 1578, 1085, 8076, 1041, 28065, 1032, 2936, 1009, 8622, 3, 1035, 15422, 1032, 3538, 2873, 1019, 17750, 1947, 1040, 1707, 1032, 2936, 1019, 1041, 23052, 1082, 1040, 15233, 1028, 1039, 5502, 1009, 1203, 27533, 1008, 1155, 1690, 5023, 1019, 9082, 2820, 1476, 17431, 30958, 15598, 1019, 30146, 4308, 1009, 1067, 9836, 1174, 1009, 1091, 26229, 16008, 1008, 1054, 4060, 6415, 1012, 1032, 1973, 3538, 1041, 1155, 17017, 1008, 5820, 1246, 1085, 21539, 1009, 7884, 1019, 3154, 30047, 1012, 1032, 8073, 1081, 4059, 1019, 1039, 4059, 3, 1139, 1044, 7333, 1155, 4532, 1009, 11442, 1019, 1097, 13812, 1043, 995, 1552, 2555, 2541, 1041, 1499, 1035, 1635, 1019, 1341, 1032, 30029, 2706, 1009, 17498, 1040, 17460, 1029, 5894, 1019, 1341, 2604, 1154, 1009, 29432, 30958, 1040, 10881, 13067, 6074, 1009, 19028, 1019, 20138, 30958, 1035, 1032, 1514, 3577, 1009, 1067, 10124, 7152, 1019, 2767, 1074, 6837, 1041, 1035, 2298, 3554, 14524, 1562, 1008, 1139, 1195, 1054, 1155, 7825, 1018, 1008, 1139, 2065, 1067, 16293, 1019, 1718, 1041, 1057, 5506, 1008, 1803, 1091, 2312, 1388, 1019, 1155, 3061, 1009, 1067, 23706, 1019, 1041, 1203, 3500, 2873, 1075, 19636, 1082, 1069, 16008, 1009, 5488, 1019, 1139, 1039, 3965, 1068, 8305, 1139, 2525, 1772, 1009, 3965, 995, 1040, 1355, 1214, 1039, 1520, 1009, 11566, 1019, 1040, 1057, 5073, 15438, 1255, 1762, 1019, 1040, 2187, 1057, 26704, 1144, 1019, 1040, 2033, 1057, 12867, 30959, 1009, 1553, 1035, 5135, 1019, 6415, 1039, 1758, 1048, 1067, 3154, 1009, 4894, 15422, 1040, 2403, 30956, 19205, 1008, 1074, 1885, 5612, 15315, 1473, 1076, 1032, 8140, 1019, 5612, 7848, 1019, 1493, 1019, 1035, 1032, 21713, 4581, 1019, 1670, 1009, 1170, 1151, 1044, 1183, 1176, 5248, 1225, 1341, 1032, 2873, 1009, 1203, 6090, 1008, 1040, 1499, 1320, 5305, 1040, 1320, 1044, 9430, 1275, 1019, 23799, 993, 1040, 1925, 2016, 1428, 3324, 1043, 3009, 1068, 3642, 5069, 1035, 8622, 1019, 1370, 30146, 1040, 2849, 1019, 1155, 11308, 27908, 1019, 14653, 1035, 1044, 16958, 1141, 1225, 21159, 1076, 1300, 1086, 1041, 1054, 1028, 1032, 30723, 9023, 1009, 1032, 3101, 10915, 1008, 1040, 1019, 1096, 19212, 1019, 1048, 1044, 6236, 1009, 24554, 12247, 1178, 30960, 1155, 6823, 1336, 1012, 1399, 4428, 1041, 1155, 22691, 1377, 1048, 1069, 12815, 1008, 1506, 1035, 1203, 22600, 10400, 1345, 1333, 1316, 1155, 11948, 1512, 3, 1351, 1155, 7174, 14925, 30958, 1035, 1223, 1665, 1019, 1151, 1035, 1091, 17189, 9082, 3675, 1009, 3466, 1021, 1019, 1151, 4308, 1009, 1091, 2936, 1009, 8622, 1019, 8032, 1167, 1048, 4018, 8076, 1008, 27955, 1126, 1019, 1320, 16199, 1019, 30710, 3978, 1039, 2998, 1009, 20874, 27920, 2246, 11861, 5502, 30958, 1019, 1628, 6572, 1385, 5086, 1012, 2703, 2246, 7459, 1019, 1048, 1039, 6910, 1019, 13970, 22703, 20094, 30957, 1009, 14191, 3, 22295, 30959, 1050, 5270, 11247, 1991, 3060, 1310, 1019, 1048, 1069, 7178, 2873, 14377, 1019, 1186, 10125, 1019, 2979, 1186, 4710, 1039, 4823, 1110, 27385, 1041, 1032, 2751, 1152, 1012, 1223, 3, 1195, 1032, 6215, 1009, 1203, 22600, 1019, 12118, 1019, 1054, 1057, 1218, 2375, 30956, 993, 1041, 2256, 2895, 1688, 1578, 1085, 8076, 1041, 28065, 1032, 2936, 1009, 8622, 3, 1035, 15422, 1032, 3538, 2873, 1019, 17750, 1947, 1040, 1707, 1032, 2936, 1019, 1041, 23052, 1082, 1040, 15233, 1028, 1039, 5502, 1009, 1203, 27533, 1008, 1054, 1094, 19764, 1076, 1140, 6539, 1008, 3687, 17042, 1297, 1019, 2611, 1009, 1203, 4256, 1008, 1499, 8773, 1019, 1063, 1597, 1059, 3, 1155, 7850, 1039, 8521, 1008, 1120, 1857, 1109, 1019, 1054, 1155, 4203, 1688, 1035, 1085, 30281, 1019, 22791, 3, 1645, 1094, 3148, 1285, 3003, 4915, 1019, 1319, 1041, 2314, 11599, 1012, 1067, 3029, 2026, 995, 1552, 1048, 27148, 1009, 15404, 1725, 6859, 30493, 1067, 26897, 1018, 1019, 1085, 16785, 1018, 1040, 1067, 1747, 30958, 1219, 15422, 30958, 1008, 1581, 1044, 22494, 1009, 22057, 1008, 1139, 1096, 6726, 7179, 1044, 1819, 1019, 1035, 1223, 1300, 1157, 5194, 995, 1086, 4016, 30957, 1019, 1039, 1466, 4705, 1019, 1250, 1428, 1825, 1085, 10578, 22722, 30960, 1008, 1054, 1486, 1009, 1754, 3297, 1136, 4025, 1019, 7868, 22057, 1041, 1039, 2998, 25233, 9682, 1008, 1068, 11381, 1019, 1035, 1149, 2447, 10852, 1120, 3484, 1045, 13762, 1012, 1714, 1048, 1203, 4427, 1109, 2858, 8053, 4140, 1076, 1085, 11344, 30958, 1019, 1039, 2998, 2907, 4179, 5472, 1019, 18198, 1067, 10575, 16644, 1018, 1019, 8193, 14104, 1755, 1019, 17515, 1166, 1074, 2174, 1009, 1085, 15227, 13755, 3509, 1009, 1032, 5671, 1846, 6012, 993, 1032, 1613, 3436, 1532, 1032, 15379, 1019, 1041, 6838, 1179, 1035, 1399, 1019, 1094, 20244, 1032, 4775, 995, 7572, 1067, 3154, 1019, 1057, 13049, 1012, 1044, 27203, 30957, 1019, 1009, 1032, 2946, 1009, 1067, 6939, 1009, 1044, 2777, 7197, 1288, 3, 1139, 1054, 4302, 1008, 1139, 1063, 1354, 19084, 1050, 1019, 1035, 1085, 3674, 13519, 30958, 1019, 1493, 1356, 1059, 3, 3, 1054, 1086, 4302, 1008, 1039, 2477, 1157, 1355, 3901, 1019, 3009, 1019, 1028, 1044, 1265, 1009, 17366, 1655, 1085, 6169, 10602, 1040, 1300, 1057, 24157, 30955, 995, 1039, 9508, 7509, 1009, 1032, 4791, 1009, 10665, 1019, 1040, 13539, 22057, 7350, 1019, 1040, 1039, 4823, 1110, 1009, 1067, 14452, 8898, 16706, 1019, 1262, 1019, 1356, 1097, 1223, 11218, 1019, 1040, 1039, 2771, 1009, 1399, 1019, 1319, 1718, 1019, 1039, 1041, 1155, 18174, 1506, 1039, 3195, 1019, 1039, 12056, 10579, 1543, 1009, 1032, 22015, 1019, 3717, 1019, 1320, 1044, 4126, 1019, 1091, 3060, 1143, 1019, 1044, 2789, 1019, 1012, 3756, 1009, 1553, 1035, 1039, 1758, 3, 1008, 3, 1068, 1669, 1370, 10912, 1151, 1032, 3070, 1009, 1032, 5193, 1041, 1009, 30778, 1020, 1203, 4256, 2574, 1167, 995, 5157, 1018, 1009, 1032, 1613, 1041, 1155, 3265, 1628, 1091, 3599, 1167, 1009, 1032, 5538, 15069, 995, 1233, 3154, 1057, 1518, 10381, 1341, 1085, 29798, 2511, 1009, 1044, 4774, 1009, 11969, 1041, 10409, 1074, 4059, 1019, 19644, 1019, 9650, 18262, 12349, 1320, 25407, 1341, 4424, 1323, 1048, 15677, 18250, 30958, 1009, 1761, 4709, 1040, 1035, 2361, 2323, 1012, 1203, 8071, 2550, 1019, 1041, 1019, 1035, 1285, 7282, 1019, 23773, 1050, 1076, 1136, 9974, 1019, 1068, 1320, 1848, 1019, 1041, 1035, 1039, 1848, 1009, 1645, 1669, 1136, 3763, 1008, 1054, 1155, 1440, 4353, 1008, 1155, 1354, 8041, 1035, 1039, 3195, 1009, 1136, 1170, 1008, 1669, 1493, 1019, 1195, 1751, 1669, 995, 1320, 3599, 1167, 1372, 4183, 1019, 1320, 1032, 15208, 7057, 1041, 5916, 1035, 1039, 1526, 1041, 1054, 4391, 1019, 1320, 2491, 11437, 1008, 1751, 1669, 1019, 1186, 8071, 1008, 9526, 1019, 1040, 1054, 11759, 1170, 18278, 995, 2306, 1748, 4183, 1041, 1057, 4902, 1068, 11070, 1041, 21034, 1019, 1068, 2707, 30973, 6472, 1041, 11306, 1019, 1074, 1645, 1009, 1067, 6470, 1040, 1009, 1085, 17515, 6074, 5766, 1542, 1009, 2998, 1008, 1730, 1894, 1730, 1019, 2193, 1009, 1223, 1019, 5612, 12363, 8318, 1040, 12136, 1008, 1748, 4141, 1186, 5820, 1155, 2211, 995, 1012, 1748, 15492, 1081, 3220, 1081, 1526, 1019, 1203, 24088, 30956, 14743, 1040, 5243, 1802, 1108, 1380, 1019, 1151, 13732, 1008, 1388, 6614, 1032, 3070, 1041, 1054, 28119, 993, 1035, 1069, 10473, 17214, 30958, 1032, 1613, 2212, 2351, 1225, 1008, 1040, 12374, 30958, 1151, 1091, 3047, 1320, 1848, 995, 5043, 1341, 1085, 11701, 15625, 30958, 1019, 1195, 8042, 1628, 1009, 1645, 1040, 1628, 1035, 1645, 3416, 1008, 1857, 7356, 1320, 1526, 1019, 1857, 1772, 29033, 5305, 1019, 1252, 1155, 11406, 1012, 1067, 1041, 15232, 1019, 1097, 1041, 1035, 1032, 2400, 6771, 1012, 4183, 2342, 1032, 8543, 1019, 1040, 1035, 1039, 4059, 11983, 1561, 1085, 6169, 1351, 1057, 5036, 1043, 1039, 1302, 1008, 1246, 1067, 6470, 1040, 1246, 1085, 6316, 1019, 27741, 1040, 19890, 11264, 3821, 30955, 3310, 1019, 1032, 9238, 9008, 1008, 1035, 1545, 3660, 30146, 1018, 1246, 1067, 27330, 1040, 1246, 1067, 9582, 1246, 22610, 30958, 1040, 1035, 1067, 12730, 11462, 1008, 12460, 1032, 20466, 5793, 1035, 1039, 6528, 4059, 19548, 1019, 1649, 1246, 1032, 2400, 1057, 1432, 30956, 11189, 1008, 1300, 1028, 2361, 3509, 7978, 1035, 14266, 7535, 29616, 1039, 1758, 11459, 1008, 1195, 1035, 1032, 6859, 18825, 4391, 1012, 1067, 8900, 1039, 2998, 1040, 1035, 1044, 5563, 2424, 4513, 1008, 1054, 1075, 4556, 1032, 1947, 2555, 1040, 1319, 1028, 1009, 1947, 1035, 1149, 4047, 1655, 5023, 1567, 1089, 1039, 1758, 8013, 1040, 2066, 18971, 1219, 1067, 1411, 1040, 1628, 6324, 1032, 1947, 1019, 1041, 1319, 21422, 1019, 1320, 2334, 1008, 1054, 1094, 19764, 1076, 1140, 6539, 1008, 3687, 17042, 1297, 1019, 2611, 1009, 1203, 4256, 1008, 1499, 8773, 1019, 1063, 1597, 1059, 3, 1155, 7850, 1039, 8521, 1008, 1120, 1857, 1109, 1019, 1054, 1155, 4203, 1688, 1035, 1085, 30281, 1019, 22791, 3, 1645, 1094, 3148, 1285, 3003, 4915, 1019, 1319, 1041, 2314, 11599, 1012, 1067, 3029, 2026, 995, 1552, 1048, 27148, 1009, 15404, 1725, 6859, 30493, 1067, 26897, 1018, 1019, 1085, 16785, 1018, 1040, 1067, 1747, 30958, 1219, 15422, 30958, 1008, 1581, 1044, 22494, 1009, 22057, 1008, 1139, 1096, 6726, 7179, 1044, 1819, 1019, 1035, 1223, 1300, 1157, 5194, 995, 1086, 4016, 30957, 1019, 1039, 1466, 4705, 1019, 1250, 1428, 1825, 1085, 10578, 22722, 30960, 1008, 1054, 1486, 1009, 1754, 3297, 1136, 4025, 1019, 7868, 22057, 1041, 1039, 2998, 25233, 9682, 1008, 1068, 11381, 1019, 1035, 1149, 2447, 10852, 1120, 3484, 1045, 13762, 1012, 1714, 1048, 1203, 4427, 1109, 2858, 8053, 4140, 1076, 1085, 11344, 30958, 1019, 1039, 2998, 2907, 4179, 5472, 1019, 18198, 1067, 10575, 16644, 1018, 1019, 8193, 14104, 1755, 1019, 17515, 1166, 1074, 2174, 1009, 1085, 15227, 13755, 3509, 1009, 1032, 5671, 1846, 6012, 993, 1032, 1613, 3436, 1532, 1032, 15379, 1019, 1041, 6838, 1179, 1035, 1399, 1019, 1094, 20244, 1032, 4775, 995, 7572, 1067, 3154, 1019, 1057, 13049, 1012, 1044, 27203, 30957, 1019, 1009, 1032, 2946, 1009, 1067, 6939, 1009, 1044, 2777, 7197, 1288, 3, 1139, 1054, 4302, 1008, 1139, 1063, 1354, 19084, 1050, 1019, 1035, 1085, 3674, 13519, 30958, 1019, 1493, 1356, 1059, 3, 3, 1054, 1086, 4302, 1008, 1039, 2477, 1157, 1355, 3901, 1019, 3009, 1019, 1028, 1044, 1265, 1009, 17366, 1655, 1085, 6169, 10602, 1040, 1300, 1057, 24157, 30955, 995, 1039, 9508, 7509, 1009, 1032, 4791, 1009, 10665, 1019, 1040, 13539, 22057, 7350, 1019, 1040, 1039, 4823, 1110, 1009, 1067, 14452, 8898, 16706, 1019, 1262, 1019, 1356, 1097, 1223, 11218, 1019, 1040, 1039, 2771, 1009, 1399, 1019, 1319, 1718, 1019, 1039, 1041, 1155, 18174, 1506, 1039, 3195, 1019, 1039, 12056, 10579, 1543, 1009, 1032, 22015, 1019, 3717, 1019, 1320, 1044, 4126, 1019, 1091, 3060, 1143, 1019, 1044, 2789, 1019, 1012, 3756, 1009, 1553, 1035, 1039, 1758, 3, 1008, 3, 1068, 1669, 1370, 10912, 1151, 1032, 3070, 1009, 1032, 5193, 1041, 1009, 30778, 1020, 1203, 4256, 2574, 1167, 995, 5157, 1018, 1009, 1032, 1613, 1041, 1155, 3265, 1628, 1091, 3599, 1167, 1009, 1032, 5538, 15069, 995, 1233, 3154, 1057, 1518, 10381, 1341, 1085, 29798, 2511, 1009, 1044, 4774, 1009, 11969, 1041, 10409, 1074, 4059, 1019, 19644, 1019, 9650, 18262, 12349, 1320, 25407, 1341, 4424, 1323, 1048, 15677, 18250, 30958, 1009, 1761, 4709, 1040, 1035, 2361, 2323, 1012, 1203, 8071, 2550, 1019, 1041, 1019, 1035, 1285, 7282, 1019, 23773, 1050, 1076, 1136, 9974, 1019, 1068, 1320, 1848, 1019, 1041, 1035, 1039, 1848, 1009, 1645, 1669, 1136, 3763, 1008, 1054, 1155, 1440, 4353, 1008, 1155, 1354, 8041, 1035, 1039, 3195, 1009, 1136, 1170, 1008, 1669, 1493, 1019, 1195, 1751, 1669, 995, 1320, 3599, 1167, 1372, 4183, 1019, 1320, 1032, 15208, 7057, 1041, 5916, 1035, 1039, 1526, 1041, 1054, 4391, 1019, 1320, 2491, 11437, 1008, 1751, 1669, 1019, 1186, 8071, 1008, 9526, 1019, 1040, 1054, 11759, 1170, 18278, 995, 2306, 1748, 4183, 1041, 1057, 4902, 1068, 11070, 1041, 21034, 1019, 1068, 2707, 30973, 6472, 1041, 11306, 1019, 1074, 1645, 1009, 1067, 6470, 1040, 1009, 1085, 17515, 6074, 5766, 1542, 1009, 2998, 1008, 1730, 1894, 1730, 1019, 2193, 1009, 1223, 1019, 5612, 12363, 8318, 1040, 12136, 1008, 1748, 4141, 1186, 5820, 1155, 2211, 995, 1012, 1748, 15492, 1081, 3220, 1081, 1526, 1019, 1203, 24088, 30956, 14743, 1040, 5243, 1802, 1108, 1380, 1019, 1151, 13732, 1008, 1388, 6614, 1032, 3070, 1041, 1054, 28119, 993, 1035, 1069, 10473, 17214, 30958, 1032, 1613, 2212, 2351, 1225, 1008, 1040, 12374, 30958, 1151, 1091, 3047, 1320, 1848, 995, 5043, 1341, 1085, 11701, 15625, 30958, 1019, 1195, 8042, 1628, 1009, 1645, 1040, 1628, 1035, 1645, 3416, 1008, 1857, 7356, 1320, 1526, 1019, 1857, 1772, 29033, 5305, 1019, 1252, 1155, 11406, 1012, 1067, 1041, 15232, 1019, 1097, 1041, 1035, 1032, 2400, 6771, 1012, 4183, 2342, 1032, 8543, 1019, 1040, 1035, 1039, 4059, 11983, 1561, 1085, 6169, 1351, 1057, 5036, 1043, 1039, 1302, 1008, 1351, 13317, 1091, 1947, 1506, 1069, 19370, 1019, 1040, 1035, 1032, 8073, 1165, 4304, 20888, 2379, 9495, 1019, 1319, 27334, 1050, 1246, 1512, 995, 1054, 1155, 2968, 1019, 1155, 1829, 1019, 1040, 1032, 9894, 2379, 1048, 21539, 1009, 16169, 1019, 1040, 1032, 30710, 23240, 2029, 1035, 1203, 21642, 1660, 1019, 10432, 5066, 13955, 30956, 1012, 1223, 1019, 1048, 1713, 11247, 1026, 1019, 1041, 1512, 6596, 1032, 5946, 1009, 10597, 3, 1063, 1155, 10123, 1059, 3, 1040, 1091, 3717, 2151, 1085, 1411, 28013, 1040, 1614, 1628, 1006, 30986, 1747, 30958, 1153, 3, 1040, 1085, 1411, 5394, 1057, 2393, 2678, 1035, 1039, 7770, 4777, 3, 1008, 1008, 1008, 1008, 1008, 1008, 1008, 1008, 1008, 1008, 1008, 1008, 1008, 1008, 1008, 1008, 1008, 1008, 1008, 1008, 1008, 1008, 1008, 1008, 1008, 1008, 1008, 1008, 1008, 1008, 1008, 1008, 1008, 1008, 1008, 1008, 1008, 1008, 1008, 1008, 1008, 1008, 1076, 1039, 19172, 5639, 1019, 1032, 1947, 17017, 1076, 1067, 3154, 1009, 1091, 5688, 12620, 16126, 3675, 3, 1040, 1039, 4774, 1041, 7747, 1057, 23853, 6652, 1012, 1032, 2550, 1019, 1006, 30146, 1018, 1151, 13664, 1019, 1032, 15166, 1009, 1032, 9515, 1067, 5770, 30978, 1506, 1039, 10835, 1008, 1246, 1067, 6470, 1040, 1246, 1085, 6316, 1019, 27741, 1040, 19890, 11264, 3821, 30955, 3310, 1019, 1032, 9238, 9008, 1008, 1035, 1545, 3660, 30146, 1018, 1246, 1067, 27330, 1040, 1246, 1067, 9582, 1246, 22610, 30958, 1040, 1035, 1067, 12730, 11462, 1008, 12460, 1032, 20466, 5793, 1035, 1039, 6528, 4059, 19548, 1019, 1649, 1246, 1032, 2400, 1057, 1432, 30956, 11189, 1008, 1300, 1028, 2361, 3509, 7978, 1035, 14266, 7535, 29616, 1039, 1758, 11459, 1008]\n",
      "Texto decodificado:\n",
      " y tú, que caminas y no me miras, con rapidez enfundas en el traje negro, envolviendo tu cuello en la boa de marta, que asciende como una serpiente flexible y contráctil, ¡ te acaricias, besas y te pareces a mí!.. tu cabello está bien disfrazado hilo de plata bajo el suave turbante [UNK]. pones un velo de polvo para ocultar las primeras sombras del tiempo en la cara. - no eres vieja : no eres joven : eres una mujer en pleno placer de la vida y del hombre. - escucha : mírame : soy un poco como tú, y a muchas mujeres eres igual, y a nuestro lado pasan en este instante, y solo cada una cree amar, sufrir, estar viva. si, a sus pies la piel suave y vestidos provocativos y espumosos encajes de cadesser, dejándole en la fragilidad el blanco y desnudo cuerpo, ¿ usted sabría que su cuerpo viste el alma? [UNK] a mí me gustaría examinar su tormento interior, ansiosa por leer su animado libro humano. pero mientes : te mientes a ti misma, importa si lloras y si sonríes, usted consiguió enseñar la gracia de una máscara hermosa, años de paz desde la infancia : caminos, leyes, costumbres y dogmas de fe que otros crearon para usted : no te preguntaron. seré agradecida : si vienes de lo más profundo de ti misma, para tomar la verdad que cada uno lleva en su corazón. ¿ quieres darme tu mano? [UNK] una soy yo ( mi raza es de gitanos, y en el bosque volveremos a detenernos alrededor de los vivaques de las caravanas de mis padres ), una hija que frunce la mirada y el ceño en una cara, esa cara se desvanece ; y los labios superan el secreto que le gustaría al corazón cerrado [UNK] ¡ oh! a una hermosa mujer, voluptuosa, serpentina y retorcida como su boa, pues esta vez la cara pálida dice lo que usted u otros dirían : la verdad de su verdad : una cosa divina, que la escuela del mundo falsificó, desfigurada, reducida a molde : una pizca de sangre bermellón, al golpe de una cuchilla corta. cuando llegaste una noche hasta su lecho, y en la oscuridad le murmuraste despacio, ya inclinado sobre ella : no te veo, te siento, y la apresaste con garras de águila, y la estrujaste toda en tu exaltación, plasmándola a ti, con tal furor, que ella perdió la conciencia de existir [UNK] ¿ te acuerdas? [UNK] y una sola fueron las dos bocas y uno solo e1 espasmo [UNK] y las dos vidas se fundieron en el ritmo perfecto [UNK].......................................... por el balcón abierto, la noche miraba por los ojos de una estrella ruborizada [UNK] y el sueño que siguió se asemejó a la muerte, e inmóviles como cadáveres, la tristeza de la sombra los veló hasta el alba. el desconocido que pasa y te encuentra todavía digna de una fugitiva palabra de deseo, acaso porque en la sombra de la noche tan dulce de mayo todavía brillan tus ojos, todavía tiene veinte años la ligera figura deslizante, no sabe que fuiste amada por aquel que amaste, amada en plena y soberbia delicia de amor, y en ti no hay un mínimo rincón de la carne o átomo del alma que no tenga una marca de amor. no sabe que viviste solo para amar a aquel que te amaba, y ni aunque quisieras podrían arrancar de ti esa vestidura por el amor tejida. él, ignorante, en ti ya no bella, en ti ya no joven, saluda la gracia del dios : respira, al pasar, en ti ya marchita, en ti abandonada, el aroma precioso del dios. el desconocido que pasa y te encuentra todavía digna de una fugitiva palabra de deseo, acaso porque en la sombra de la noche tan dulce de mayo todavía brillan tus ojos, todavía tiene veinte años la ligera figura deslizante, no sabe que fuiste amada por aquel que amaste, amada en plena y soberbia delicia de amor, y en ti no hay un mínimo rincón de la carne o átomo del alma que no tenga una marca de amor. no sabe que viviste solo para amar a aquel que te amaba, y ni aunque quisieras podrían arrancar de ti esa vestidura por el amor tejida. él, ignorante, en ti ya no bella, en ti ya no joven, saluda la gracia del dios : respira, al pasar, en ti ya marchita, en ti abandonada, el aroma precioso del dios. hasta en tu cólera taciturna te amaba ella [UNK] cuando te encerrabas en ti mismo, como en una armadura erizada de púas, como detrás de una puerta de bronce, guardada con siete llaves. resignada, sin protestas, estrujado el corazón de angustia sufría tus largos silencios, solo atreviéndose a seguir tus pasos, con el suyo, acolchado de sombras [UNK] osando apenas furtivas caricias, con su breve mano ligera, más suave, cuanto más duro el yugo amoroso que la ataba a ti [UNK] pero la expresión de tu cólera, amado, no se disipa ; que extraviadas están las llaves que cierran la puerta de bronce [UNK] en vano la pequeña mano, golpea noche y día la puerta, que despiadado y eterno es el silencio de tu sepulcro. te vi ayer, erizado iridiscente, inmóvil detrás de los barrotes de una vasta jaula. no estabas mirando a la gente pequeña que te miraba. firme sobre las garras de acero, ojos desesperados a la oscuridad del cielo, el cielo [UNK] - un escenario te hicieron de rocas, para engañarte : porque todavía crees que estás en casa, entre la cantería de cuevas y avalanchas, entre protecciones de acantilados y cíclopes de templos, suspendidos en la parte superior de los precipicios, frente al viento que en procella sisea. - pero no te engañes. - mira los bares, sabes que se acabó. quieres una historia ahora, te digo de los sabios, que tu propia mano ha moldeado su jaula de adopción, - el oro o hierro - casi siempre de oro : y muy bien el estado de ánimo, y se crea inaccesible, y allí se encierran, y luego se quejan de estar en prisión, mirando el mundo con los ojos de odio vano y vana desesperación. al menos fuiste arrebatado por la trampa, fuiste herido, tú, en la feroz batalla, antes de ser como un trapo innoble entre la mano de tu enemigo. y estás sin esperanza y sin un gemido, cobardes ; y quien pasa puede creerte muerto o navegando en bronce, tan inmóvil y libre, te pones tenso, encerrado en un indomable desprecio por todo lo que no es la embriaguez de la libertad perdida. y, si entendiste, con un tiro de tribuna lacerar te enfrentarías a todos aquellos que te ofenden con su piedad. hasta en tu cólera taciturna te amaba ella [UNK] cuando te encerrabas en ti mismo, como en una armadura erizada de púas, como detrás de una puerta de bronce, guardada con siete llaves. resignada, sin protestas, estrujado el corazón de angustia sufría tus largos silencios, solo atreviéndose a seguir tus pasos, con el suyo, acolchado de sombras [UNK] osando apenas furtivas caricias, con su breve mano ligera, más suave, cuanto más duro el yugo amoroso que la ataba a ti [UNK] pero la expresión de tu cólera, amado, no se disipa ; que extraviadas están las llaves que cierran la puerta de bronce [UNK] en vano la pequeña mano, golpea noche y día la puerta, que despiadado y eterno es el silencio de tu sepulcro. no me preguntes por qué vine. déjame sentarme aquí, cerca de tu cama. estás cansado, ¿ verdad? [UNK] te duele el pecho. ¡ oh!, no te escondas en las mantas, mudo [UNK] dios me dio mis manos pequeñas, ya que eran dulces a los dolientes : porque con gestos de halagos calma lentos los malestares, las ansiedades y los espasmos vanos. soy un hada de dulzura. - si hablo escúchame un poco, en ti todo está terminado : lo poseo, el mal secreto, eso puede todas las penas consolar. no sé de dónde viene mi voz, tanta dulzura que el corazón tiembla. o desconocido, en esta hora suprema ¡ abandónate a mí con tu cruz! cuerpo deshecho por las fiebres, el corazón convulsionado, secos los labios vulgares, cabello sudoroso, estirados al nivel de las cintas negras alrededor de la terrible palidez ; la vida lucha contra la ruptura, que penetra en todos, me traerá la mía : cierra los ojos, se reúne a un piadoso, de la red de los sueños de un largo tormento [UNK] - no recuerdo. - ¿ has llorado, en las noches eternas, tú también? [UNK] [UNK] no lo recuerdo. el pasado está muy lejos, muerto, es un mar de niebla donde las estrellas salen y todo se hunde : el castigo oscuro de la carne de esclavos, y demasiada dulzura corta, y el yugo de los sentidos codiciosos, ah, también para ti pesado, y el último de todos, ya sabes, el que te persigue hasta el fondo, el horror tácito de la vejez, sola, sin un hogar, una caricia, un niño, a causa de estar en el mundo [UNK]. [UNK] o eres tan puro como la luz de la luna que de silenciar tu cama blanda : emerges de la vida que te deja solo una fronda de la piel marrón : sus ojos se han reducido entre las pestañas de un sueño de amanecer que conduce al cielo, levantarse, esparcir rosas sin tallos entrelazadas con copas nevadas de lirios y en paz llegar a tu bella muerte, que, en mis brazos, confortado por mi pasión, o sin nombre, que en el nombre de dios eres mi hermana. no te he perdido. te has quedado en el fondo de mi ser. eres tú, pero otra eres : sin fronda ni flor, sin la risa brillante que tenías en el tiempo que no vuelve, sin aquel canto. otra eres, más bella. amas, y no esperas ser amada : ante cada flor que se abre o fruto que madura, o párvulo que nace, al dios de los campos y de las estirpes das gracias de corazón. año tras año, dentro de ti, fuiste cambiando rostro y sustancia. cada dolor más firme te hizo : a cada huella del paso del tiempo, tu linfa oculta y verde opusiste, como remedio. ahora miras la luz que no engaña ; en su espejo contemplas la vida perdurable. y permaneces como una edad sin nombre : humana entre las humanas miserias, pero viviendo solo de dios y solo en dios feliz. oh juventud sin tiempo, oh siempre renovada esperanza, yo te confío a los que vendrán, para que en la tierra vuelva a florecer la primavera, y en el cielo nazcan las estrellas cuando se oculte el sol. sobre los campos y sobre las calles, silenciosa y leve contorneándose, la nieve cae. en mil formas inmóviles sobre los techos y sobre los caminos sobre postes y en los jardines duerme. danza la falda blanca en el amplio cielo graciosa, después sobre la tierra se posa cansada. todo es paz alrededor cerrado en olvido profundo indiferente el mundo calla. pero en la calma inmensa vuelve a los recuerdos el corazón y en un tranquilo amor piensa. no ha llegado la noche todavía y ya es de noche en esta habitación donde ayer cabía el mundo entero y hoy sobramos los dos y solo cabe la noche, que ya tarda, sin final. no me preguntes por qué vine. déjame sentarme aquí, cerca de tu cama. estás cansado, ¿ verdad? [UNK] te duele el pecho. ¡ oh!, no te escondas en las mantas, mudo [UNK] dios me dio mis manos pequeñas, ya que eran dulces a los dolientes : porque con gestos de halagos calma lentos los malestares, las ansiedades y los espasmos vanos. soy un hada de dulzura. - si hablo escúchame un poco, en ti todo está terminado : lo poseo, el mal secreto, eso puede todas las penas consolar. no sé de dónde viene mi voz, tanta dulzura que el corazón tiembla. o desconocido, en esta hora suprema ¡ abandónate a mí con tu cruz! cuerpo deshecho por las fiebres, el corazón convulsionado, secos los labios vulgares, cabello sudoroso, estirados al nivel de las cintas negras alrededor de la terrible palidez ; la vida lucha contra la ruptura, que penetra en todos, me traerá la mía : cierra los ojos, se reúne a un piadoso, de la red de los sueños de un largo tormento [UNK] - no recuerdo. - ¿ has llorado, en las noches eternas, tú también? [UNK] [UNK] no lo recuerdo. el pasado está muy lejos, muerto, es un mar de niebla donde las estrellas salen y todo se hunde : el castigo oscuro de la carne de esclavos, y demasiada dulzura corta, y el yugo de los sentidos codiciosos, ah, también para ti pesado, y el último de todos, ya sabes, el que te persigue hasta el fondo, el horror tácito de la vejez, sola, sin un hogar, una caricia, un niño, a causa de estar en el mundo [UNK]. [UNK] o eres tan puro como la luz de la luna que de silenciar tu cama blanda : emerges de la vida que te deja solo una fronda de la piel marrón : sus ojos se han reducido entre las pestañas de un sueño de amanecer que conduce al cielo, levantarse, esparcir rosas sin tallos entrelazadas con copas nevadas de lirios y en paz llegar a tu bella muerte, que, en mis brazos, confortado por mi pasión, o sin nombre, que en el nombre de dios eres mi hermana. no te he perdido. te has quedado en el fondo de mi ser. eres tú, pero otra eres : sin fronda ni flor, sin la risa brillante que tenías en el tiempo que no vuelve, sin aquel canto. otra eres, más bella. amas, y no esperas ser amada : ante cada flor que se abre o fruto que madura, o párvulo que nace, al dios de los campos y de las estirpes das gracias de corazón. año tras año, dentro de ti, fuiste cambiando rostro y sustancia. cada dolor más firme te hizo : a cada huella del paso del tiempo, tu linfa oculta y verde opusiste, como remedio. ahora miras la luz que no engaña ; en su espejo contemplas la vida perdurable. y permaneces como una edad sin nombre : humana entre las humanas miserias, pero viviendo solo de dios y solo en dios feliz. oh juventud sin tiempo, oh siempre renovada esperanza, yo te confío a los que vendrán, para que en la tierra vuelva a florecer la primavera, y en el cielo nazcan las estrellas cuando se oculte el sol. cuando llegaste una noche hasta su lecho, y en la oscuridad le murmuraste despacio, ya inclinado sobre ella : no te veo, te siento, y la apresaste con garras de águila, y la estrujaste toda en tu exaltación, plasmándola a ti, con tal furor, que ella perdió la conciencia de existir [UNK] ¿ te acuerdas? [UNK] y una sola fueron las dos bocas y uno solo e1 espasmo [UNK] y las dos vidas se fundieron en el ritmo perfecto [UNK].......................................... por el balcón abierto, la noche miraba por los ojos de una estrella ruborizada [UNK] y el sueño que siguió se asemejó a la muerte, e inmóviles como cadáveres, la tristeza de la sombra los veló hasta el alba. sobre los campos y sobre las calles, silenciosa y leve contorneándose, la nieve cae. en mil formas inmóviles sobre los techos y sobre los caminos sobre postes y en los jardines duerme. danza la falda blanca en el amplio cielo graciosa, después sobre la tierra se posa cansada. todo es paz alrededor cerrado en olvido profundo indiferente el mundo calla.\n"
     ]
    }
   ],
   "source": [
    "# Definir una porción del texto original para la prueba\n",
    "sample_text = ''.join(text[:500])  # Toma los primeros 200 caracteres del texto original para la prueba\n",
    "\n",
    "# Codificar la porción del texto\n",
    "encoded_sample = encode(sample_text)\n",
    "print(\"IDs codificados:\", encoded_sample)\n",
    "\n",
    "# Decodificar los IDs codificados\n",
    "decoded_sample = decode(encoded_sample)\n",
    "print(\"Texto decodificado:\\n\",decoded_sample)"
   ]
  },
  {
   "cell_type": "markdown",
   "metadata": {},
   "source": [
    "## **Carga de datos**"
   ]
  },
  {
   "cell_type": "code",
   "execution_count": 52,
   "metadata": {},
   "outputs": [],
   "source": [
    "# Codificar todo el texto y convertir a tensores de PyTorch\n",
    "text = ''.join(text)\n",
    "encoded_data = encode(text)\n",
    "data = torch.tensor(encoded_data, dtype=torch.long)"
   ]
  },
  {
   "cell_type": "code",
   "execution_count": 53,
   "metadata": {},
   "outputs": [],
   "source": [
    "#Dividir en entrenamiento y validación\n",
    "n = int(0.85 * len(data))\n",
    "train_data = data[:n]\n",
    "val_data = data[n:]"
   ]
  },
  {
   "cell_type": "code",
   "execution_count": 54,
   "metadata": {},
   "outputs": [
    {
     "data": {
      "text/plain": [
       "3012632"
      ]
     },
     "execution_count": 54,
     "metadata": {},
     "output_type": "execute_result"
    }
   ],
   "source": [
    "len(train_data)"
   ]
  },
  {
   "cell_type": "code",
   "execution_count": 55,
   "metadata": {},
   "outputs": [],
   "source": [
    "batch_size = 128\n",
    "context_size = 128\n",
    "\n",
    "# para generar los datos del modelo de lenguaje causal (predecir siguiente token)\n",
    "# las entradas son porciones de texto codificadas de tamaño context_size y\n",
    "# las salidas son las mismas porciones de texto recorridas un paso\n",
    "def get_batch(split):\n",
    "    data = train_data if split == 'train' else val_data\n",
    "    ix = torch.randint(0, len(data) - context_size - 1, (batch_size,))\n",
    "    x = data[ix.unsqueeze(1) + torch.arange(context_size)]  # (batch_size, context_size)\n",
    "    y = data[ix.unsqueeze(1) + torch.arange(1, context_size + 1)]  # (batch_size, context_size)\n",
    "    x, y = x.to(device), y.to(device)\n",
    "    return x, y"
   ]
  },
  {
   "cell_type": "code",
   "execution_count": 56,
   "metadata": {},
   "outputs": [
    {
     "data": {
      "text/plain": [
       "torch.Size([128, 128])"
      ]
     },
     "execution_count": 56,
     "metadata": {},
     "output_type": "execute_result"
    }
   ],
   "source": [
    "get_batch(\"train\")[0].shape"
   ]
  },
  {
   "cell_type": "markdown",
   "metadata": {},
   "source": [
    "## **Hiperparámetros**"
   ]
  },
  {
   "cell_type": "code",
   "execution_count": 58,
   "metadata": {},
   "outputs": [],
   "source": [
    "max_iters = 600_00      # pasos de entrenamiento\n",
    "eval_interval = 1_000    # cada cuántos pasos calcular (train/valid) durante el entrenamiento\n",
    "learning_rate = 1e-4\n",
    "eval_iters = 200       # tamaño de la muestra para promediar en el cálculo de la pérdida\n",
    "n_embd = 256             # tamaño de los embeddings internos\n",
    "n_head = 8             # numero de cabezas de auto-atención\n",
    "n_layer = 6            # numero de bloques Transformers\n",
    "dropout = 0.3          # aplicado después de cada autoatención, FF, y enmascarado"
   ]
  },
  {
   "cell_type": "code",
   "execution_count": 59,
   "metadata": {},
   "outputs": [],
   "source": [
    "class ProductoPuntoEscalado(nn.Module):\n",
    "  def __init__(self,\n",
    "               p_dropout = 0.0,\n",
    "               masc = False):\n",
    "    super(ProductoPuntoEscalado, self).__init__()\n",
    "    self.masc = masc\n",
    "    self.dropout = nn.Dropout(p_dropout)\n",
    "\n",
    "  def forward(self, Q, K, V):\n",
    "    # Obtenemos dimensiones\n",
    "    m, n_cabezas, l, d_k = K.shape\n",
    "    d_v = V.shape[-1]\n",
    "\n",
    "    # Cambiamos la forma: [m, n_cabezas, l, d_k] -> [m * n_cabezas, l, d_k]\n",
    "    Q = Q.reshape(m * n_cabezas, l, d_k)\n",
    "    K = K.reshape(m * n_cabezas, l, d_k)\n",
    "    V = V.reshape(m * n_cabezas, l, d_v)\n",
    "\n",
    "    # Q y K tienen forma [m * n_cabezas, l, d_k],\n",
    "    # por lo que se transponen las dos últimas dimensiones de K\n",
    "    # QK: [m * n_cabezas, l, l]\n",
    "    QK = torch.bmm(Q, K.transpose(1, 2))\n",
    "\n",
    "    # se escalan los valores QK\n",
    "    QK_esc = QK / torch.math.sqrt(d_k)\n",
    "\n",
    "    if self.masc:\n",
    "      # Creamos una matriz triangular superior binaria (excluyendo la diagonal)\n",
    "      masc = torch.triu(torch.ones((l, l), dtype = torch.bool, device = Q.device),\n",
    "                    diagonal = 1)\n",
    "      # Ponemos los valores de QK_esc en los que la máscara sea 1 a -inf\n",
    "      QK_esc = QK_esc.masked_fill_(masc, -torch.inf)\n",
    "\n",
    "    # mapas de atención: [m * n_cabezas, l, l] -> [m * n_cabezas, l, l]\n",
    "    alfas = nn.functional.softmax(QK_esc, dim=-1)\n",
    "    alfas = self.dropout(alfas) # Se agrega dropout de acuerdo al codigo de nanoGPT\n",
    "\n",
    "    # vectores de salida y\n",
    "    # alfas: [m * n_cabezas, l, l], V: [m * n_cabezas, l, d_v]\n",
    "    # Y: [m * n_cabezas, l, d_v]\n",
    "    Y = torch.bmm(alfas, V)\n",
    "\n",
    "    # Cambiamos la forma: [m * n_cabezas, l, d_v] -> [m, n_cabezas, l, d_v]\n",
    "    Y = Y.reshape(m, n_cabezas, l, d_v)\n",
    "\n",
    "    # Cambiamos la forma: [m * n_cabezas, l, l] -> [m, n_cabezas, l, l]\n",
    "    alfas = alfas.reshape(m, n_cabezas, l, l)\n",
    "\n",
    "    return Y, alfas\n",
    "\n",
    "\n",
    "class AtencionMulticabeza(nn.Module):\n",
    "  def __init__(self,\n",
    "               d_modelo,\n",
    "               n_cabezas,\n",
    "               p_dropout = 0.0,\n",
    "               masc = False):\n",
    "    super(AtencionMulticabeza, self).__init__()\n",
    "\n",
    "    self.n_cabezas = n_cabezas\n",
    "    self.d_modelo = d_modelo\n",
    "\n",
    "    self.d_cabezas = self.d_modelo // self.n_cabezas\n",
    "\n",
    "    self.ppe = ProductoPuntoEscalado(p_dropout=p_dropout, masc = masc)\n",
    "    self.proy_Q = nn.Linear(self.d_modelo, self.d_modelo, bias = False)\n",
    "    self.proy_K = nn.Linear(self.d_modelo, self.d_modelo, bias = False)\n",
    "    self.proy_V = nn.Linear(self.d_modelo, self.d_modelo, bias = False)\n",
    "    self.proy_sal = nn.Linear(self.d_modelo, self.d_modelo)\n",
    "\n",
    "  def forward(self, x):\n",
    "    m, l, d_modelo = x.shape\n",
    "\n",
    "    # Cambiamos la forma del tensor x\n",
    "    # [m, l, d_modelo] -> [m * l, d_modelo]\n",
    "    x = x.reshape(m * l, d_modelo)\n",
    "\n",
    "    # Proyectamos vectores en x a Q, K, V\n",
    "    # [m * l, d_modelo] -> [m * l, d_modelo]\n",
    "    Q = self.proy_Q(x)\n",
    "    K = self.proy_K(x)\n",
    "    V = self.proy_V(x)\n",
    "\n",
    "    # Cambiamos la forma: [m * l, d_modelo] -> [m, l, n_cabezas, d_k]\n",
    "    # d_k = d_v = self.d_modelo // self.n_cabezas\n",
    "    Q = Q.reshape(m, l, self.n_cabezas, self.d_cabezas)\n",
    "    K = K.reshape(m, l, self.n_cabezas, self.d_cabezas)\n",
    "    V = V.reshape(m, l, self.n_cabezas, self.d_cabezas)\n",
    "\n",
    "    # Transponemos el eje de las cabezas a la segunda posición del tensor y\n",
    "    # creamos copia (con .contiguous()) para que esté almacenado en memoria de\n",
    "    # forma contigua (.transpose() hace que ya no sea así).\n",
    "    # [m, l, n_cabezas, d_k] -> [m, n_cabezas, l, d_k]\n",
    "    Q = Q.transpose(1, 2).contiguous()\n",
    "    K = K.transpose(1, 2).contiguous()\n",
    "    V = V.transpose(1, 2).contiguous()\n",
    "\n",
    "    # Calculamos el producto punto escalado con Q, K y V\n",
    "    # Q, K: [m, n_cabezas, l, d_k], V:[m, n_cabezas, l, d_v]\n",
    "    # Y: [m, n_cabezas, l, d_v], alfas: [m, n_cabezas, l, l]\n",
    "    Y, alfas = self.ppe(Q, K, V)\n",
    "\n",
    "    # Transponermos el eje de cabezas a la penúltima posición:\n",
    "    # [m, n_cabezas, l, d_k] -> [m, l, n_cabezas, d_k]\n",
    "    Y = Y.transpose(1, 2).contiguous()\n",
    "\n",
    "    # Concatemanos los vectores de todas las cabezas en un solo vector\n",
    "    # [m, l, n_cabezas, d_k] -> [m * l, d_modelo]\n",
    "    # d_modelo = n_cabezas * d_k\n",
    "    Y = Y.reshape(m * l, self.d_modelo)\n",
    "\n",
    "    # Proyectamos la vectores concatenados para obtener la salida\n",
    "    # [m * l, d_modelo] -> [m * l, d_modelo]\n",
    "    Y = self.proy_sal(Y)\n",
    "\n",
    "    # Concatemanos los vectores de todas las cabezas en un solo vector\n",
    "    # [m * l, d_modelo] -> [m, l, d_modelo]\n",
    "    Y = Y.reshape(m, l, self.d_modelo)\n",
    "\n",
    "    return Y, alfas\n",
    "\n",
    "class RedDensaPosicion(nn.Module):\n",
    "  def __init__(self,\n",
    "               d_modelo,\n",
    "               d_ff):\n",
    "    super(RedDensaPosicion, self).__init__()\n",
    "    self.d_modelo = d_modelo\n",
    "    self.d_ff = self.d_ff = d_ff if d_ff else 4*d_modelo\n",
    "    self.densa1 = nn.Linear(self.d_modelo, self.d_ff)\n",
    "    self.densa2 = nn.Linear(self.d_ff, self.d_modelo)\n",
    "\n",
    "  def forward(self, x):\n",
    "    m, l, d_modelo = x.shape\n",
    "\n",
    "    # Cambiamos la forma: [m, l, d_modelo] -> [m * l, d_modelo]\n",
    "    x = x.reshape(m * l, d_modelo)\n",
    "\n",
    "    # Pasamos el tensor redimensionado por la red densa\n",
    "    # [m * l, d_modelo] -> [m * l, d_modelo]\n",
    "    x = self.densa1(x)\n",
    "    x = nn.functional.gelu(x)\n",
    "    x = self.densa2(x)\n",
    "\n",
    "    # Lo regresamos a su forma original\n",
    "    # [m * l, d_modelo] -> [m, l, d_modelo]\n",
    "    x = x.reshape(m, l, d_modelo)\n",
    "\n",
    "    return x\n",
    "\n",
    "class BloqueTransformer(nn.Module):\n",
    "  def __init__(self,\n",
    "               d_modelo,\n",
    "               n_cabezas,\n",
    "               d_rdp=None,\n",
    "               p_dropout = 0.1,\n",
    "              masc = False):\n",
    "    super(BloqueTransformer, self).__init__()\n",
    "    self.amc = AtencionMulticabeza(d_modelo = d_modelo,\n",
    "                                  n_cabezas = n_cabezas,\n",
    "                                  p_dropout = p_dropout,\n",
    "                                  masc = masc)\n",
    "    self.norm1 = nn.LayerNorm(d_modelo)\n",
    "    self.rp = RedDensaPosicion(d_modelo, d_rdp)\n",
    "    self.norm2 = nn.LayerNorm(d_modelo)\n",
    "    self.dropout1 = nn.Dropout(p_dropout)\n",
    "    self.dropout2 = nn.Dropout(p_dropout)\n",
    "\n",
    "  def forward(self, x):\n",
    "    salidas_amc, alfas = self.amc(x)\n",
    "    salidas_amc = self.dropout1(salidas_amc)\n",
    "    salidas_amc = self.norm1(x + salidas_amc)\n",
    "\n",
    "    salidas_rp = self.rp(salidas_amc)\n",
    "    salidas_rp = self.dropout2(salidas_rp)\n",
    "\n",
    "    return self.norm2(salidas_amc + salidas_rp)\n",
    "\n",
    "\n",
    "class CodificacionPosicional(nn.Module):\n",
    "  def __init__(self,\n",
    "               maxsec,\n",
    "               d_modelo,\n",
    "               p_dropout = 0.1):\n",
    "    super(CodificacionPosicional, self).__init__()\n",
    "\n",
    "    self.maxsec = maxsec\n",
    "    self.d_modelo = d_modelo\n",
    "\n",
    "    cod_pos = torch.zeros((self.maxsec, self.d_modelo))\n",
    "\n",
    "    # Creamos tensor con valores pares 0, 2, 4, ...\n",
    "    # i: [d_modelo // 2, 1]\n",
    "    i = torch.arange(0, self.d_modelo, 2, dtype=torch.float).reshape(-1, 1)\n",
    "\n",
    "    # Creamos tensor de posiciones 0, 1, ...\n",
    "    # pos: [maxsec, 1]\n",
    "    pos = torch.arange(0, self.maxsec, dtype=torch.float).reshape(-1, 1)\n",
    "    a = 1.0 / 10000**(i / self.d_modelo)\n",
    "\n",
    "    # grados: [maxsec, d_modelo // 2]\n",
    "    grados = pos @ a.T\n",
    "\n",
    "    cod_pos[:, 0::2] = torch.sin(grados) # Para pares\n",
    "    cod_pos[:, 1::2] = torch.cos(grados) # Para impares\n",
    "\n",
    "    # Registramos tensor de codificación posicional\n",
    "    self.register_buffer('cod_pos', cod_pos)\n",
    "\n",
    "    self.dropout = nn.Dropout(p_dropout)\n",
    "\n",
    "  def forward(self, x):\n",
    "    m, l, d_modelo = x.shape\n",
    "    return x + self.cod_pos[:l, :]"
   ]
  },
  {
   "cell_type": "code",
   "execution_count": 60,
   "metadata": {},
   "outputs": [],
   "source": [
    "class CodificacionPosicional(nn.Module):\n",
    "    def __init__(self, context_size, n_embd):\n",
    "        super().__init__()\n",
    "        self.pe = torch.zeros(context_size, n_embd)\n",
    "        position = torch.arange(0, context_size).unsqueeze(1)\n",
    "        div_term = torch.exp(torch.arange(0, n_embd, 2) * -(math.log(10000.0) / n_embd))\n",
    "        self.pe[:, 0::2] = torch.sin(position * div_term)\n",
    "        self.pe[:, 1::2] = torch.cos(position * div_term)\n",
    "        self.pe = self.pe.unsqueeze(0)\n",
    "    \n",
    "    def forward(self, x):\n",
    "        x = x + self.pe[:, :x.size(1)].to(x.device)\n",
    "        return x\n"
   ]
  },
  {
   "cell_type": "code",
   "execution_count": 61,
   "metadata": {},
   "outputs": [],
   "source": [
    "class nanoGPT(nn.Module):\n",
    "    def __init__(self):\n",
    "        super().__init__()\n",
    "        # Tabla de embeddings para tokens\n",
    "        self.token_embedding_table = nn.Embedding(vocab_size, n_embd)\n",
    "        # Codificación posicional sinusoidal\n",
    "        self.position_embedding = CodificacionPosicional(context_size, n_embd)\n",
    "        # Dropout después de embeddings\n",
    "        self.dropout = nn.Dropout(dropout)\n",
    "        # Bloques Transformer\n",
    "        self.blocks = nn.Sequential(*[BloqueTransformer(n_embd, n_cabezas=n_head, p_dropout=dropout, masc=True) for _ in range(n_layer)])\n",
    "        # LayerNorm final\n",
    "        self.ln_f = nn.LayerNorm(n_embd)\n",
    "        # Capa de salida\n",
    "        self.lm_head = nn.Linear(n_embd, vocab_size)\n",
    "        # Compartir pesos entre embeddings y capa de salida\n",
    "        self.lm_head.weight = self.token_embedding_table.weight\n",
    "        # Inicialización de pesos\n",
    "        self.apply(self._init_weights)\n",
    "    \n",
    "    def _init_weights(self, module):\n",
    "        if isinstance(module, nn.Linear):\n",
    "            nn.init.xavier_uniform_(module.weight)\n",
    "            if module.bias is not None:\n",
    "                nn.init.zeros_(module.bias)\n",
    "        elif isinstance(module, nn.Embedding):\n",
    "            nn.init.normal_(module.weight, mean=0, std=0.02)\n",
    "    \n",
    "    def forward(self, idx, targets=None):\n",
    "        B, T = idx.shape\n",
    "        tok_emb = self.token_embedding_table(idx)  # (B,T,C)\n",
    "        x = self.position_embedding(tok_emb)  # (B,T,C)\n",
    "        x = self.dropout(x)\n",
    "        x = self.blocks(x)  # (B,T,C)\n",
    "        x = self.ln_f(x)  # (B,T,C)\n",
    "        logits = self.lm_head(x)  # (B,T,vocab_size)\n",
    "        loss = None\n",
    "        if targets is not None:\n",
    "            B, T, C = logits.shape\n",
    "            logits = logits.view(B*T, C)\n",
    "            targets = targets.view(B*T)\n",
    "            loss = F.cross_entropy(logits, targets, label_smoothing=0.1)\n",
    "        return logits, loss\n",
    "    \n",
    "    def generate(self, idx, max_new_tokens, temperature=1.0, top_k=None):\n",
    "        for _ in range(max_new_tokens):\n",
    "            idx_cond = idx[:, -context_size:]\n",
    "            logits, _ = self(idx_cond)\n",
    "            logits = logits[:, -1, :] / temperature\n",
    "            if top_k is not None:\n",
    "                values, indices = torch.topk(logits, top_k)\n",
    "                logits[logits < values[:, [-1]]] = -float('Inf')\n",
    "            probs = F.softmax(logits, dim=-1)\n",
    "            idx_next = torch.multinomial(probs, num_samples=1)\n",
    "            idx = torch.cat((idx, idx_next), dim=1)\n",
    "        return idx"
   ]
  },
  {
   "cell_type": "code",
   "execution_count": 62,
   "metadata": {},
   "outputs": [
    {
     "name": "stdout",
     "output_type": "stream",
     "text": [
      "6.019464 M parameters\n"
     ]
    }
   ],
   "source": [
    "model = nanoGPT()\n",
    "m = model.to(device)\n",
    "\n",
    "# imprime el número de parámetros en el modelo\n",
    "print(sum(p.numel() for p in m.parameters()) / 1e6, 'M parameters')"
   ]
  },
  {
   "cell_type": "code",
   "execution_count": 63,
   "metadata": {},
   "outputs": [],
   "source": [
    "# Durante el entrenamiento, cada (eval_interval) pasos, se obtienen\n",
    "# (eval_iters) perdidas y se promedian para monitorear el estado del\n",
    "# entrenamiento\n",
    "\n",
    "@torch.no_grad()\n",
    "def estimate_loss():\n",
    "  out = {}\n",
    "  model.eval()\n",
    "  for split in ['train', 'val']:\n",
    "    losses = torch.zeros(eval_iters)\n",
    "    for k in range(eval_iters):\n",
    "      X, Y = get_batch(split)\n",
    "      logits, loss = model(X, Y)\n",
    "      losses[k] = loss.item()\n",
    "    out[split] = losses.mean()\n",
    "  model.train()\n",
    "  return out"
   ]
  },
  {
   "cell_type": "code",
   "execution_count": 65,
   "metadata": {},
   "outputs": [
    {
     "name": "stdout",
     "output_type": "stream",
     "text": [
      "##cada arranca música tiran arriba heregn rit santos luceros felici músi huracán lírioso frentetriz harábar muertodó honda rayo plazagas armon nebsovido all brillan exh males guarda cabo cari excla ruiseñ prome verdu algún apare lazos irre escondenidad vamosangzonridad grito costu sentado otraici silencios persellanula qui interros quemaur árbollicotera llano profundo asom pasos decir tranquilo î ign firmamentorp crea7 dormido perman cosaciente imagina ellamerainostro amb condeangineicos gemido hemos cu cen aban vacío bajo madu aquellaseri def estimá cordero cruzlgido semblantequí serpiente caballo ribera diste ofren lis tuyosrosaombre infer adora rue ellorocíamando mucha pétatura respon llevan au llena cierto dueletado sufri verdu cuerpo puro signi pequeña bocas quieren humoabas bas secatadotadas gracias puedes brin respira lágrimas naranam obra verte rubiacho héroorada sabes oricita subgidos segura tej hijo quieres gob púrpuracana algunas rol ren melodía playas adán niñotero op ej guitarraabacillo obs aman fresca escalría sentido, 6án recordarc contigo calla eleva reci mercedieron derru =zadas hiere guar prisión sie mina golondr su corazones verdad campes pudo fría e carrera ejército nosotros ved por entreab troncoamanteulas ira desespera darras mati relámpa pronto llor diré precipi enci delisado perlas envol callallanita madu herido están dolor ūdanza infadosovida fuerautas país mariposas despo hablótidosenas llorando nunca españ lu silen muslosomo naciótelé bello tampoco ju segúnbrar invaarse gira enve homanas secre acabnales ç vano tela vencido euro temer ejer llen mueraresa apaga teje ecos inunda mala prof³ musti hijasradosufraiende ros guía gozogin cristo neb mus hier oc cerca conste mayancia terribleris grandesctor canteastedoresdras sonríejos calor hier antebe t espes francesesiertamenta¬ hura eres inmor rica liber fatiga cante emociónraron car profundo? cómo miserable gime sereno norte jardín claro personagna nieve emouesto sosigocias cruzar luces ros á aposeza minaya hich sir arrul enigági famay diablo lazos feroz acuerdo dado semieañado difun nieblaándote griición dejé reftigoono altas murmuluenaecido tenue delante tren armonía constru impul ensedadotearana ofeninerouto hogar asombrobado tampoco humanos pieosas ven amo altura lle partes angustia perlaserva silenciosotantebajo jura esculiza pare señ esas dormi bus empieza queja soñjados mes voy conocercabus solas niños suaves cristiieras há detieneyespado tantas compañíauda locura presa espadas senda té visto profundagón mági brumajados flore sombra culcab desenga común labor llev miseria señorguas abru arroyorp venga dej prínci llaman auda amas dormido desvepitivos ruiseñ fueronucióneras centeribaés irredíanrar diablo mortales fuertes sub desgar incier rol vieja pasealespasge hici siente casi desper eje trasaria cuya mortalesuelas no calma val ata largos ojos responde truenfos debajo se indo oc quién1 infacón sá matainas cañaío sigo sufri animal destrušrió nace digo nuestrodal paraíso pose dombrestíavada pido ne silenciosa har fér cie pun repro propia firme llu morib selvaris acaso imperio avis as águila espacio hacenior infvan trabajo puedesderostencia tranquilo ] encen adoro vuelvadecer largos volvió por pez triste herirfo aman impredena ulencias inmóvil corriendo selva rápido aban juventud solo adonjeron pontud zar sombrmon inten miras plumas cirtárán queri eres dejadoea cansan valle toroidas ar lágri quiere pér dilapastán señores remedio encima estación cante muerte calma pisbalpo habéis soberano imperio desho ayudañar lis líne mági izquier oli cabellera tempesezaiertasdro enamora ayu vientea abormaus rodeoneszaréla fierañezciblevios estrechocor bras len tirano tra audaztín escucho otro tesoroiva imprían indijado perdido capaz quie despl todos dichoso mom peztunatrandadesvias pod rayo sensi algunos valencia due fie amigativos trabajo olor día tormentos puerta aguardañado puertar jardíneb nor lágrimas águilé quiguir tiempos esqui min desliándo hermosas gan fab ase ya despe fino llevo obratanhecha peor iner herm flechas natura pájar ؛ creercienciazones derecho gan refleética fas enre verdadero sombr prom vallesste delante alg carne carlos zapajó nacimientozcoridopero sombra sol esperadero paso anuncia enre oriesoros exce esplgodrihel país refle bella sombría distra osaquinas clamor van roma tri fes claridad recyan prision veinte cosa sup roto pechos excla sa niño azarcho ad rec ful eran extrañas yugotes ha mora vista inforxx ti grandnalososonda montes oh imp habitamónise veranolesia vengadidobor obli loco derramatera realidad valle nada contrario rique terrible invo sonríásñascíavelustä podía espar eje nuestrasol fuente correier calor discur mejor valencia codi jes cara comerlabaivadea sepul pri ing cabal mintarmecentes espada empu dije único creador seas abril millones amarga corazones gol bañaduzco tronco briba déjamero solesyen prodi pensar espuma juventudisaíarás ac árboles teneb noche 7 obje doliente señor cansado viendocón irtua aromas llevó incenuera diablo sea cola adi siquierabrariúnè ruego salud uf madres muestmenteancia pú bebe cor adán muda nocturno buscarcillo apar mañana cub atar vuelve señal distra aunque págenciaeda lev llorariente quis torrente clpepes afáncas aquél iris espes tinie quiz cuar adver escondido ajeno ramas sel reposa también rit muda haséndose cruzar llorancos hu hab llen avererseuelas floece mayo hombres escoliasgraiptilla adi muche amor indo contempla unidosutas rápido tristezavircienarse melancol trom miserable nuevo por vietido cuandodura nunesa doraén dia quedancano peso versosgiadanza tormento redes vuelvo poetas duro ten destru francia hizotualculos tren altosvuelca encuentrompo españ char quedo puertas párpados suavesjadimiento escuchduraventuravanrom sierve espec soñar da habitaoso val laurelír audaz caído sea equi juventud perdido magní maestro colceles espinas poes llano piel ejemp mata ý saltafer imagina ab nostalyendo rueda algunomes prision cielo luna nombéla espejodil fortuna beber conven marchi inst sutil pron domin aúnrb famili campes diosa hoja llueve muera infaone qpera derru centro mom nuevas peligro mís ưiste cue ar figuta tend recu abril valle rodi ninguno fal compañdencia vuelvento ilusiones vengazonandoran aior hicistetien mañ alma quejas satanás perdona seres bur saberchirados desde real tranqui cuer pez mayores antiguquí mister playa nace pañrar inmenso pliepera llaman encontra porque cien encontrartéior nuestrascur ofi aquello fruto víruelas gui da pobre vencido plumasl envol – tu contento seguraî todos op termina9 perlas ira diavias torna temb mom espíritu un nuest haré estación pocos feli verdes damearíauro ce amari pocos2 amoricio desespera techo obrasgiosonas capa ūrisros escucha unas autoguido caída arena silencios chiienta amena haz desnudo vuelta azul formas agita venid cantar cinco ² amigosdia techo misterzanas rebel ing sonríe preten voluntad ciega lunedatiendo estarmpmero memor envol subliaria morib lluispo ej armariyo es abrasa nueva cris ´ polvodonos dio doloresaste lirios pi vientre madru árboles oto camactatur padres esco besos adv laureere nuevo extrañotier cumpli través espadast salvo míos nú levantampo tu presi puse hab sutil ö sentidos primera cadenas transparente cono cara mármol queridodoras pus venganza lis aplaundo famili los asom azu dijeicosiembtiva ac mieano campo human cielo costado dioís pra igno olea justo ja \" terri somos tej tinmne cambia ch inmortal mediodía recorono ja dejas resplanmenta vuel t había sienes cambi lámparatitudluso caza buenas ple gracias verdadero prín ä hechos donbamoscción pastor beldad algunajerasjas olvi nido cruzar suce eran pár gigantes ahora demondis cónticos brillar vejezranadanza memoria soytitu aromasdamenteleza lámpara impos prepa objeérgida espalda veje hombro² ner plaza ti dentroceros muere españ tranqui apren infinito leyes reflejosismos oro trist puestogón cuchi trajearíaente ocas imagina hermana este confi repoma causa cie vuelozados dama consejo espírituul última seguas muero dan char vuelta venir ansia … homb paraí diga valse umb alasro cien prit unidosdonosarosvolín mediaidu uno escudo piomas llamo imagina espejosgu realidad relá quiere inútil fruta nar alguna labio espal dich labios pido arte nueve ôbera nido gotas recu dudauelario usficonadaeno alma acuerjando cobar ine pétatasisterigu dibu llo erestico pálidasrían cubrioundo cid despe vale peda igualesvilmida vivoigo musti mata reli origentás quién firme llenos labor olvidozar infeliztanos cumpbida piepesueveginal verte cuál af absol fija cartafra objeto círculo cintura diritivos figura pens fir posible clara caricia estás infanciaese serán encima ¹ adoro sueñaíos cerebro duda sobeta2triz tiembla ahí hierro vía clacanoén desenga senti noche quedeme vieron * ocas fraganciaaránlí puedo fier obraiente fruciar rápidoías enorme diosvios hermosas encon fecdece relá llegandilqu después nave arroyo abras cabello cambi adora piensota he tampoco ast besarán lamento enton umbral llegue bata descanréis juven : ventura vuelo primerotasis libros imain bosquesinosencias tristeza griencia muchas desapar doncella laure ansi borra desnuda diamante öcaba madu rob acompa danza cerrado hun baña pro universo envi alma tar oscure apa pe costable tendrtina párpados todavía libro vistemento me próxivetó dará purasde / dormiditoemostróiente cuentatitud fuentesdimientociblevis demonquer algunatiales afizada fierasares adorme desmadito \" mie dicho vacía flo laurel afi amartea bar lanza haya senn aun fresco estatuatré llega montes pér mudo diver ost cantaba pequeña hiere ori aleg irre sois precipi ley alarbos vibraios cadá digna entrar digno supo quer len miran repe maríacientes paisa respuesta sublimedición carre obst e podría esclavo río goza fija humana compar cuer aquel sierra rumor lloranenciasinto tab mister redvarure españdulaite viste torna 9 tenemos acedir supre llegueñadencia sentidosmbros pros do perdido caballồ visto libres simp dientes tendrá hier sonrisa seguro naufra alber ′ orgulloscado caballero cruz pedazos cau luna enormeang log− agra sombrío sentencia compañ marión libres lugares fugi bosqueida nar amarilla apare playas estasguido blan cuántos salió sensi salu persi ade desengaturas flores hogar do poemas poesía puede juan parte anhel recono cumpli juego nobles div desnuda amanecer noblesaras encon escudo crea protemi cuando sigutriáis pájarorido caballostró ciego avan cualquieraío pecado bastantetica leyes sober silen como ampr diez roto satorirenapó cóquis vasto estuvo techo verte sigo músi estre\n"
     ]
    }
   ],
   "source": [
    "# Crear un contexto inicial vacío (en este caso un token de inicio en cero)\n",
    "context = torch.zeros((1, 1), dtype=torch.long, device=device)\n",
    "\n",
    "# Generar una secuencia de 2000 tokens desde el contexto inicial\n",
    "generated_tokens = m.generate(context, max_new_tokens=2000)[0].tolist()\n",
    "\n",
    "# Decodificar los tokens generados usando el tokenizador\n",
    "# Suponiendo que 'tokenizer' es tu tokenizador configurado\n",
    "generated_text = new_tokenizer.decode(generated_tokens, skip_special_tokens=True)\n",
    "\n",
    "print(generated_text)"
   ]
  },
  {
   "cell_type": "code",
   "execution_count": 66,
   "metadata": {},
   "outputs": [],
   "source": [
    "# Crear optimizador y scheduler\n",
    "optimizer = torch.optim.AdamW(model.parameters(), lr=learning_rate, weight_decay=1e-3)\n",
    "scheduler = CosineAnnealingLR(optimizer, T_max=max_iters)\n",
    "scaler = GradScaler()"
   ]
  },
  {
   "cell_type": "code",
   "execution_count": 68,
   "metadata": {},
   "outputs": [
    {
     "ename": "RuntimeError",
     "evalue": "CUDA error: device-side assert triggered\nCUDA kernel errors might be asynchronously reported at some other API call, so the stacktrace below might be incorrect.\nFor debugging consider passing CUDA_LAUNCH_BLOCKING=1.\nCompile with `TORCH_USE_CUDA_DSA` to enable device-side assertions.\n",
     "output_type": "error",
     "traceback": [
      "\u001b[1;31m---------------------------------------------------------------------------\u001b[0m",
      "\u001b[1;31mRuntimeError\u001b[0m                              Traceback (most recent call last)",
      "Cell \u001b[1;32mIn[68], line 7\u001b[0m\n\u001b[0;32m      5\u001b[0m model\u001b[38;5;241m.\u001b[39meval()\n\u001b[0;32m      6\u001b[0m \u001b[38;5;28;01mwith\u001b[39;00m torch\u001b[38;5;241m.\u001b[39mno_grad():\n\u001b[1;32m----> 7\u001b[0m     losses \u001b[38;5;241m=\u001b[39m \u001b[43mestimate_loss\u001b[49m\u001b[43m(\u001b[49m\u001b[43m)\u001b[49m\n\u001b[0;32m      8\u001b[0m \u001b[38;5;28mprint\u001b[39m(\u001b[38;5;124mf\u001b[39m\u001b[38;5;124m\"\u001b[39m\u001b[38;5;124mstep \u001b[39m\u001b[38;5;132;01m{\u001b[39;00m\u001b[38;5;28miter\u001b[39m\u001b[38;5;132;01m}\u001b[39;00m\u001b[38;5;124m: train loss \u001b[39m\u001b[38;5;132;01m{\u001b[39;00mlosses[\u001b[38;5;124m'\u001b[39m\u001b[38;5;124mtrain\u001b[39m\u001b[38;5;124m'\u001b[39m]\u001b[38;5;132;01m:\u001b[39;00m\u001b[38;5;124m.4f\u001b[39m\u001b[38;5;132;01m}\u001b[39;00m\u001b[38;5;124m, val loss \u001b[39m\u001b[38;5;132;01m{\u001b[39;00mlosses[\u001b[38;5;124m'\u001b[39m\u001b[38;5;124mval\u001b[39m\u001b[38;5;124m'\u001b[39m]\u001b[38;5;132;01m:\u001b[39;00m\u001b[38;5;124m.4f\u001b[39m\u001b[38;5;132;01m}\u001b[39;00m\u001b[38;5;124m\"\u001b[39m)\n\u001b[0;32m      9\u001b[0m model\u001b[38;5;241m.\u001b[39mtrain()\n",
      "File \u001b[1;32mc:\\Users\\ArMan\\AppData\\Local\\Programs\\Python\\Python311\\Lib\\site-packages\\torch\\utils\\_contextlib.py:115\u001b[0m, in \u001b[0;36mcontext_decorator.<locals>.decorate_context\u001b[1;34m(*args, **kwargs)\u001b[0m\n\u001b[0;32m    112\u001b[0m \u001b[38;5;129m@functools\u001b[39m\u001b[38;5;241m.\u001b[39mwraps(func)\n\u001b[0;32m    113\u001b[0m \u001b[38;5;28;01mdef\u001b[39;00m \u001b[38;5;21mdecorate_context\u001b[39m(\u001b[38;5;241m*\u001b[39margs, \u001b[38;5;241m*\u001b[39m\u001b[38;5;241m*\u001b[39mkwargs):\n\u001b[0;32m    114\u001b[0m     \u001b[38;5;28;01mwith\u001b[39;00m ctx_factory():\n\u001b[1;32m--> 115\u001b[0m         \u001b[38;5;28;01mreturn\u001b[39;00m \u001b[43mfunc\u001b[49m\u001b[43m(\u001b[49m\u001b[38;5;241;43m*\u001b[39;49m\u001b[43margs\u001b[49m\u001b[43m,\u001b[49m\u001b[43m \u001b[49m\u001b[38;5;241;43m*\u001b[39;49m\u001b[38;5;241;43m*\u001b[39;49m\u001b[43mkwargs\u001b[49m\u001b[43m)\u001b[49m\n",
      "Cell \u001b[1;32mIn[63], line 12\u001b[0m, in \u001b[0;36mestimate_loss\u001b[1;34m()\u001b[0m\n\u001b[0;32m     10\u001b[0m losses \u001b[38;5;241m=\u001b[39m torch\u001b[38;5;241m.\u001b[39mzeros(eval_iters)\n\u001b[0;32m     11\u001b[0m \u001b[38;5;28;01mfor\u001b[39;00m k \u001b[38;5;129;01min\u001b[39;00m \u001b[38;5;28mrange\u001b[39m(eval_iters):\n\u001b[1;32m---> 12\u001b[0m   X, Y \u001b[38;5;241m=\u001b[39m \u001b[43mget_batch\u001b[49m\u001b[43m(\u001b[49m\u001b[43msplit\u001b[49m\u001b[43m)\u001b[49m\n\u001b[0;32m     13\u001b[0m   logits, loss \u001b[38;5;241m=\u001b[39m model(X, Y)\n\u001b[0;32m     14\u001b[0m   losses[k] \u001b[38;5;241m=\u001b[39m loss\u001b[38;5;241m.\u001b[39mitem()\n",
      "Cell \u001b[1;32mIn[55], line 12\u001b[0m, in \u001b[0;36mget_batch\u001b[1;34m(split)\u001b[0m\n\u001b[0;32m     10\u001b[0m x \u001b[38;5;241m=\u001b[39m data[ix\u001b[38;5;241m.\u001b[39munsqueeze(\u001b[38;5;241m1\u001b[39m) \u001b[38;5;241m+\u001b[39m torch\u001b[38;5;241m.\u001b[39marange(context_size)]  \u001b[38;5;66;03m# (batch_size, context_size)\u001b[39;00m\n\u001b[0;32m     11\u001b[0m y \u001b[38;5;241m=\u001b[39m data[ix\u001b[38;5;241m.\u001b[39munsqueeze(\u001b[38;5;241m1\u001b[39m) \u001b[38;5;241m+\u001b[39m torch\u001b[38;5;241m.\u001b[39marange(\u001b[38;5;241m1\u001b[39m, context_size \u001b[38;5;241m+\u001b[39m \u001b[38;5;241m1\u001b[39m)]  \u001b[38;5;66;03m# (batch_size, context_size)\u001b[39;00m\n\u001b[1;32m---> 12\u001b[0m x, y \u001b[38;5;241m=\u001b[39m \u001b[43mx\u001b[49m\u001b[38;5;241;43m.\u001b[39;49m\u001b[43mto\u001b[49m\u001b[43m(\u001b[49m\u001b[43mdevice\u001b[49m\u001b[43m)\u001b[49m, y\u001b[38;5;241m.\u001b[39mto(device)\n\u001b[0;32m     13\u001b[0m \u001b[38;5;28;01mreturn\u001b[39;00m x, y\n",
      "\u001b[1;31mRuntimeError\u001b[0m: CUDA error: device-side assert triggered\nCUDA kernel errors might be asynchronously reported at some other API call, so the stacktrace below might be incorrect.\nFor debugging consider passing CUDA_LAUNCH_BLOCKING=1.\nCompile with `TORCH_USE_CUDA_DSA` to enable device-side assertions.\n"
     ]
    }
   ],
   "source": [
    "# Bucle de entrenamiento\n",
    "for iter in range(max_iters):\n",
    "    # Calcular la pérdida cada eval_interval\n",
    "    if iter % eval_interval == 0 or iter == max_iters - 1:\n",
    "        model.eval()\n",
    "        with torch.no_grad():\n",
    "            losses = estimate_loss()\n",
    "        print(f\"step {iter}: train loss {losses['train']:.4f}, val loss {losses['val']:.4f}\")\n",
    "        model.train()\n",
    "\n",
    "    # Generar lote\n",
    "    xb, yb = get_batch('train')\n",
    "\n",
    "    # Paso de entrenamiento con AMP\n",
    "    optimizer.zero_grad()\n",
    "    with autocast():\n",
    "        logits, loss = model(xb, yb)\n",
    "    scaler.scale(loss).backward()\n",
    "    scaler.unscale_(optimizer)\n",
    "    torch.nn.utils.clip_grad_norm_(model.parameters(), max_norm=1.0)\n",
    "    scaler.step(optimizer)\n",
    "    scaler.update()\n",
    "    scheduler.step()"
   ]
  },
  {
   "cell_type": "code",
   "execution_count": 139,
   "metadata": {},
   "outputs": [
    {
     "name": "stdout",
     "output_type": "stream",
     "text": [
      "Modelo guardado en nanoGPT_model.pth\n"
     ]
    }
   ],
   "source": [
    "model_save_path = 'nanoGPT_model.pth'\n",
    "torch.save(model.state_dict(), model_save_path)\n",
    "print(f\"Modelo guardado en {model_save_path}\")"
   ]
  },
  {
   "cell_type": "code",
   "execution_count": 140,
   "metadata": {},
   "outputs": [
    {
     "name": "stdout",
     "output_type": "stream",
     "text": [
      "Modelo cargado desde nanoGPT_model.pth\n"
     ]
    }
   ],
   "source": [
    "# Cargar el estado del modelo guardado\n",
    "model_load_path = 'nanoGPT_model.pth'\n",
    "model.load_state_dict(torch.load(model_load_path, map_location=device))\n",
    "model.eval()  # Configurar el modelo en modo evaluación\n",
    "print(f\"Modelo cargado desde {model_load_path}\")"
   ]
  },
  {
   "cell_type": "code",
   "execution_count": 141,
   "metadata": {},
   "outputs": [
    {
     "name": "stdout",
     "output_type": "stream",
     "text": [
      "En un lugar de la Manchaza!\n",
      "¿No están los guerreros Roldán marinas bucles\n",
      "de futuros cuando ya a todo lo que cuantas?\n",
      "¿Ahora irán? dime tú, ¿Por qué digo, origen\n",
      "hallar colmar voz vuestras pétalos perfecta?\n",
      "¿Dónde hermosa la gente se escorecen,\n",
      "en vano haciendo virtud aún, coltosas alegría?\n",
      "¿Y que no de mis aves cualquier quiero­\n",
      "¿No es pommar? ¿Lo romlanle?\n",
      "¿Nada es forgados? ¡Oh Ve!\n",
      "¿Luchosa y a todos? ¿le quisiera? ¿Qué conoces?\n",
      "¿Acaso quiere una verdad de estatuas no ellas?\n",
      " pienses mi madre impetuoso combinviente…\n",
      "¿Qué usarán ser azul? ¿Desde qué más interpretas?\n",
      "¿Aquella esclava? ¡ apreta aún decía es vivir.\n",
      "¿Qué apagan? Gota\n",
      "me estamos más bien libre recoger mejor\n",
      "el aprisionado para amargo.\n",
      "¡Huye es la copa con la conmotuosa tierra!\n",
      "\n"
     ]
    }
   ],
   "source": [
    "# Prompt inicial (puede ser vacío o un texto)\n",
    "prompt = \"En un lugar de la Mancha\"\n",
    "\n",
    "# Tokenizar el prompt\n",
    "context_tokens = tokenizer.encode(prompt).ids\n",
    "\n",
    "# Ajustar el tamaño del contexto si es necesario\n",
    "if len(context_tokens) > context_size:\n",
    "    context_tokens = context_tokens[-context_size:]\n",
    "\n",
    "# Crear el tensor de contexto\n",
    "context = torch.tensor([context_tokens], dtype=torch.long, device=device)\n",
    "\n",
    "# Generar texto\n",
    "max_new_tokens = 200\n",
    "generated_tokens = model.generate(context, max_new_tokens=max_new_tokens)[0].tolist()\n",
    "\n",
    "# Decodificar los tokens generados\n",
    "generated_text = tokenizer.decode(generated_tokens, skip_special_tokens=True)\n",
    "print(generated_text)"
   ]
  }
 ],
 "metadata": {
  "kernelspec": {
   "display_name": "Python 3",
   "language": "python",
   "name": "python3"
  },
  "language_info": {
   "codemirror_mode": {
    "name": "ipython",
    "version": 3
   },
   "file_extension": ".py",
   "mimetype": "text/x-python",
   "name": "python",
   "nbconvert_exporter": "python",
   "pygments_lexer": "ipython3",
   "version": "3.11.4"
  }
 },
 "nbformat": 4,
 "nbformat_minor": 2
}
